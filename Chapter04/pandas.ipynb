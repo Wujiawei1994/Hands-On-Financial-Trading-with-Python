{
 "cells": [
  {
   "cell_type": "markdown",
   "metadata": {},
   "source": [
    "# Introduction to Pandas"
   ]
  },
  {
   "cell_type": "markdown",
   "metadata": {},
   "source": [
    "## pandas.Series"
   ]
  },
  {
   "cell_type": "code",
   "metadata": {
    "ExecuteTime": {
     "end_time": "2024-11-25T12:59:17.684288Z",
     "start_time": "2024-11-25T12:59:17.681501Z"
    }
   },
   "source": [
    "import pandas as pd\n",
    "pd.set_option('display.max_columns', 7)"
   ],
   "outputs": [],
   "execution_count": 2
  },
  {
   "cell_type": "code",
   "metadata": {
    "ExecuteTime": {
     "end_time": "2024-11-25T12:59:22.676689Z",
     "start_time": "2024-11-25T12:59:22.671357Z"
    }
   },
   "source": [
    "ser1 = pd.Series(range(1, 6))\n",
    "ser1"
   ],
   "outputs": [
    {
     "data": {
      "text/plain": [
       "0    1\n",
       "1    2\n",
       "2    3\n",
       "3    4\n",
       "4    5\n",
       "dtype: int64"
      ]
     },
     "execution_count": 3,
     "metadata": {},
     "output_type": "execute_result"
    }
   ],
   "execution_count": 3
  },
  {
   "cell_type": "code",
   "metadata": {
    "ExecuteTime": {
     "end_time": "2024-11-25T12:59:24.705571Z",
     "start_time": "2024-11-25T12:59:24.702168Z"
    }
   },
   "source": [
    "ser2 = pd.Series(range(1, 6), index=['a', 'b', 'c', 'd', 'e'])\n",
    "ser2"
   ],
   "outputs": [
    {
     "data": {
      "text/plain": [
       "a    1\n",
       "b    2\n",
       "c    3\n",
       "d    4\n",
       "e    5\n",
       "dtype: int64"
      ]
     },
     "execution_count": 4,
     "metadata": {},
     "output_type": "execute_result"
    }
   ],
   "execution_count": 4
  },
  {
   "cell_type": "code",
   "metadata": {
    "ExecuteTime": {
     "end_time": "2024-11-25T12:59:30.213139Z",
     "start_time": "2024-11-25T12:59:30.208857Z"
    }
   },
   "source": [
    "ser3 = pd.Series({ 'a': 1.0, 'b': 2.0, 'c': 3.0, 'd': 4.0, 'e': 5.0 })\n",
    "ser3"
   ],
   "outputs": [
    {
     "data": {
      "text/plain": [
       "a    1.0\n",
       "b    2.0\n",
       "c    3.0\n",
       "d    4.0\n",
       "e    5.0\n",
       "dtype: float64"
      ]
     },
     "execution_count": 5,
     "metadata": {},
     "output_type": "execute_result"
    }
   ],
   "execution_count": 5
  },
  {
   "cell_type": "code",
   "metadata": {
    "ExecuteTime": {
     "end_time": "2024-11-25T12:59:32.631415Z",
     "start_time": "2024-11-25T12:59:32.628711Z"
    }
   },
   "source": [
    "ser3.index"
   ],
   "outputs": [
    {
     "data": {
      "text/plain": [
       "Index(['a', 'b', 'c', 'd', 'e'], dtype='object')"
      ]
     },
     "execution_count": 6,
     "metadata": {},
     "output_type": "execute_result"
    }
   ],
   "execution_count": 6
  },
  {
   "cell_type": "code",
   "metadata": {
    "ExecuteTime": {
     "end_time": "2024-11-25T12:59:34.494395Z",
     "start_time": "2024-11-25T12:59:34.491181Z"
    }
   },
   "source": [
    "ser3.values"
   ],
   "outputs": [
    {
     "data": {
      "text/plain": [
       "array([1., 2., 3., 4., 5.])"
      ]
     },
     "execution_count": 7,
     "metadata": {},
     "output_type": "execute_result"
    }
   ],
   "execution_count": 7
  },
  {
   "cell_type": "code",
   "metadata": {
    "ExecuteTime": {
     "end_time": "2024-11-25T12:59:35.735896Z",
     "start_time": "2024-11-25T12:59:35.732192Z"
    }
   },
   "source": [
    "ser3.name = 'Alphanumeric'\n",
    "ser3"
   ],
   "outputs": [
    {
     "data": {
      "text/plain": [
       "a    1.0\n",
       "b    2.0\n",
       "c    3.0\n",
       "d    4.0\n",
       "e    5.0\n",
       "Name: Alphanumeric, dtype: float64"
      ]
     },
     "execution_count": 8,
     "metadata": {},
     "output_type": "execute_result"
    }
   ],
   "execution_count": 8
  },
  {
   "cell_type": "markdown",
   "metadata": {},
   "source": [
    "## pandas.DataFrame"
   ]
  },
  {
   "cell_type": "code",
   "metadata": {
    "ExecuteTime": {
     "end_time": "2024-11-25T12:59:38.776132Z",
     "start_time": "2024-11-25T12:59:38.772093Z"
    }
   },
   "source": [
    "df1 = pd.DataFrame({'A': range(1,5,1), 'B': range(10,50,10), 'C': range(100, 500, 100)})\n",
    "df1"
   ],
   "outputs": [
    {
     "data": {
      "text/plain": [
       "   A   B    C\n",
       "0  1  10  100\n",
       "1  2  20  200\n",
       "2  3  30  300\n",
       "3  4  40  400"
      ],
      "text/html": [
       "<div>\n",
       "<style scoped>\n",
       "    .dataframe tbody tr th:only-of-type {\n",
       "        vertical-align: middle;\n",
       "    }\n",
       "\n",
       "    .dataframe tbody tr th {\n",
       "        vertical-align: top;\n",
       "    }\n",
       "\n",
       "    .dataframe thead th {\n",
       "        text-align: right;\n",
       "    }\n",
       "</style>\n",
       "<table border=\"1\" class=\"dataframe\">\n",
       "  <thead>\n",
       "    <tr style=\"text-align: right;\">\n",
       "      <th></th>\n",
       "      <th>A</th>\n",
       "      <th>B</th>\n",
       "      <th>C</th>\n",
       "    </tr>\n",
       "  </thead>\n",
       "  <tbody>\n",
       "    <tr>\n",
       "      <th>0</th>\n",
       "      <td>1</td>\n",
       "      <td>10</td>\n",
       "      <td>100</td>\n",
       "    </tr>\n",
       "    <tr>\n",
       "      <th>1</th>\n",
       "      <td>2</td>\n",
       "      <td>20</td>\n",
       "      <td>200</td>\n",
       "    </tr>\n",
       "    <tr>\n",
       "      <th>2</th>\n",
       "      <td>3</td>\n",
       "      <td>30</td>\n",
       "      <td>300</td>\n",
       "    </tr>\n",
       "    <tr>\n",
       "      <th>3</th>\n",
       "      <td>4</td>\n",
       "      <td>40</td>\n",
       "      <td>400</td>\n",
       "    </tr>\n",
       "  </tbody>\n",
       "</table>\n",
       "</div>"
      ]
     },
     "execution_count": 9,
     "metadata": {},
     "output_type": "execute_result"
    }
   ],
   "execution_count": 9
  },
  {
   "cell_type": "code",
   "metadata": {
    "ExecuteTime": {
     "end_time": "2024-11-25T12:59:46.687666Z",
     "start_time": "2024-11-25T12:59:46.684234Z"
    }
   },
   "source": [
    "df2 = pd.DataFrame({'A': range(1,5,1), 'B': range(10,50,10), 'C': range(100, 500, 100)}, index=['a', 'b', 'c', 'd'])\n",
    "df2"
   ],
   "outputs": [
    {
     "data": {
      "text/plain": [
       "   A   B    C\n",
       "a  1  10  100\n",
       "b  2  20  200\n",
       "c  3  30  300\n",
       "d  4  40  400"
      ],
      "text/html": [
       "<div>\n",
       "<style scoped>\n",
       "    .dataframe tbody tr th:only-of-type {\n",
       "        vertical-align: middle;\n",
       "    }\n",
       "\n",
       "    .dataframe tbody tr th {\n",
       "        vertical-align: top;\n",
       "    }\n",
       "\n",
       "    .dataframe thead th {\n",
       "        text-align: right;\n",
       "    }\n",
       "</style>\n",
       "<table border=\"1\" class=\"dataframe\">\n",
       "  <thead>\n",
       "    <tr style=\"text-align: right;\">\n",
       "      <th></th>\n",
       "      <th>A</th>\n",
       "      <th>B</th>\n",
       "      <th>C</th>\n",
       "    </tr>\n",
       "  </thead>\n",
       "  <tbody>\n",
       "    <tr>\n",
       "      <th>a</th>\n",
       "      <td>1</td>\n",
       "      <td>10</td>\n",
       "      <td>100</td>\n",
       "    </tr>\n",
       "    <tr>\n",
       "      <th>b</th>\n",
       "      <td>2</td>\n",
       "      <td>20</td>\n",
       "      <td>200</td>\n",
       "    </tr>\n",
       "    <tr>\n",
       "      <th>c</th>\n",
       "      <td>3</td>\n",
       "      <td>30</td>\n",
       "      <td>300</td>\n",
       "    </tr>\n",
       "    <tr>\n",
       "      <th>d</th>\n",
       "      <td>4</td>\n",
       "      <td>40</td>\n",
       "      <td>400</td>\n",
       "    </tr>\n",
       "  </tbody>\n",
       "</table>\n",
       "</div>"
      ]
     },
     "execution_count": 10,
     "metadata": {},
     "output_type": "execute_result"
    }
   ],
   "execution_count": 10
  },
  {
   "cell_type": "code",
   "metadata": {
    "ExecuteTime": {
     "end_time": "2024-11-25T12:59:56.102816Z",
     "start_time": "2024-11-25T12:59:56.099507Z"
    }
   },
   "source": [
    "df2.columns"
   ],
   "outputs": [
    {
     "data": {
      "text/plain": [
       "Index(['A', 'B', 'C'], dtype='object')"
      ]
     },
     "execution_count": 11,
     "metadata": {},
     "output_type": "execute_result"
    }
   ],
   "execution_count": 11
  },
  {
   "cell_type": "code",
   "metadata": {
    "ExecuteTime": {
     "end_time": "2024-11-25T12:59:57.730806Z",
     "start_time": "2024-11-25T12:59:57.728004Z"
    }
   },
   "source": [
    "df2.index"
   ],
   "outputs": [
    {
     "data": {
      "text/plain": [
       "Index(['a', 'b', 'c', 'd'], dtype='object')"
      ]
     },
     "execution_count": 12,
     "metadata": {},
     "output_type": "execute_result"
    }
   ],
   "execution_count": 12
  },
  {
   "cell_type": "code",
   "metadata": {
    "ExecuteTime": {
     "end_time": "2024-11-25T13:00:00.964143Z",
     "start_time": "2024-11-25T13:00:00.961400Z"
    }
   },
   "source": [
    "df2.values"
   ],
   "outputs": [
    {
     "data": {
      "text/plain": [
       "array([[  1,  10, 100],\n",
       "       [  2,  20, 200],\n",
       "       [  3,  30, 300],\n",
       "       [  4,  40, 400]])"
      ]
     },
     "execution_count": 13,
     "metadata": {},
     "output_type": "execute_result"
    }
   ],
   "execution_count": 13
  },
  {
   "cell_type": "code",
   "metadata": {
    "ExecuteTime": {
     "end_time": "2024-11-25T13:00:52.108046Z",
     "start_time": "2024-11-25T13:00:52.104692Z"
    }
   },
   "source": [
    "df2['D'] = range(1000,5000,1000)\n",
    "df2"
   ],
   "outputs": [
    {
     "data": {
      "text/plain": [
       "   A   B    C     D\n",
       "a  1  10  100  1000\n",
       "b  2  20  200  2000\n",
       "c  3  30  300  3000\n",
       "d  4  40  400  4000"
      ],
      "text/html": [
       "<div>\n",
       "<style scoped>\n",
       "    .dataframe tbody tr th:only-of-type {\n",
       "        vertical-align: middle;\n",
       "    }\n",
       "\n",
       "    .dataframe tbody tr th {\n",
       "        vertical-align: top;\n",
       "    }\n",
       "\n",
       "    .dataframe thead th {\n",
       "        text-align: right;\n",
       "    }\n",
       "</style>\n",
       "<table border=\"1\" class=\"dataframe\">\n",
       "  <thead>\n",
       "    <tr style=\"text-align: right;\">\n",
       "      <th></th>\n",
       "      <th>A</th>\n",
       "      <th>B</th>\n",
       "      <th>C</th>\n",
       "      <th>D</th>\n",
       "    </tr>\n",
       "  </thead>\n",
       "  <tbody>\n",
       "    <tr>\n",
       "      <th>a</th>\n",
       "      <td>1</td>\n",
       "      <td>10</td>\n",
       "      <td>100</td>\n",
       "      <td>1000</td>\n",
       "    </tr>\n",
       "    <tr>\n",
       "      <th>b</th>\n",
       "      <td>2</td>\n",
       "      <td>20</td>\n",
       "      <td>200</td>\n",
       "      <td>2000</td>\n",
       "    </tr>\n",
       "    <tr>\n",
       "      <th>c</th>\n",
       "      <td>3</td>\n",
       "      <td>30</td>\n",
       "      <td>300</td>\n",
       "      <td>3000</td>\n",
       "    </tr>\n",
       "    <tr>\n",
       "      <th>d</th>\n",
       "      <td>4</td>\n",
       "      <td>40</td>\n",
       "      <td>400</td>\n",
       "      <td>4000</td>\n",
       "    </tr>\n",
       "  </tbody>\n",
       "</table>\n",
       "</div>"
      ]
     },
     "execution_count": 14,
     "metadata": {},
     "output_type": "execute_result"
    }
   ],
   "execution_count": 14
  },
  {
   "cell_type": "code",
   "metadata": {
    "ExecuteTime": {
     "end_time": "2024-11-25T13:01:19.634846Z",
     "start_time": "2024-11-25T13:01:19.631645Z"
    }
   },
   "source": [
    "df2.index.name = 'lowercase'\n",
    "df2"
   ],
   "outputs": [
    {
     "data": {
      "text/plain": [
       "           A   B    C     D\n",
       "lowercase                  \n",
       "a          1  10  100  1000\n",
       "b          2  20  200  2000\n",
       "c          3  30  300  3000\n",
       "d          4  40  400  4000"
      ],
      "text/html": [
       "<div>\n",
       "<style scoped>\n",
       "    .dataframe tbody tr th:only-of-type {\n",
       "        vertical-align: middle;\n",
       "    }\n",
       "\n",
       "    .dataframe tbody tr th {\n",
       "        vertical-align: top;\n",
       "    }\n",
       "\n",
       "    .dataframe thead th {\n",
       "        text-align: right;\n",
       "    }\n",
       "</style>\n",
       "<table border=\"1\" class=\"dataframe\">\n",
       "  <thead>\n",
       "    <tr style=\"text-align: right;\">\n",
       "      <th></th>\n",
       "      <th>A</th>\n",
       "      <th>B</th>\n",
       "      <th>C</th>\n",
       "      <th>D</th>\n",
       "    </tr>\n",
       "    <tr>\n",
       "      <th>lowercase</th>\n",
       "      <th></th>\n",
       "      <th></th>\n",
       "      <th></th>\n",
       "      <th></th>\n",
       "    </tr>\n",
       "  </thead>\n",
       "  <tbody>\n",
       "    <tr>\n",
       "      <th>a</th>\n",
       "      <td>1</td>\n",
       "      <td>10</td>\n",
       "      <td>100</td>\n",
       "      <td>1000</td>\n",
       "    </tr>\n",
       "    <tr>\n",
       "      <th>b</th>\n",
       "      <td>2</td>\n",
       "      <td>20</td>\n",
       "      <td>200</td>\n",
       "      <td>2000</td>\n",
       "    </tr>\n",
       "    <tr>\n",
       "      <th>c</th>\n",
       "      <td>3</td>\n",
       "      <td>30</td>\n",
       "      <td>300</td>\n",
       "      <td>3000</td>\n",
       "    </tr>\n",
       "    <tr>\n",
       "      <th>d</th>\n",
       "      <td>4</td>\n",
       "      <td>40</td>\n",
       "      <td>400</td>\n",
       "      <td>4000</td>\n",
       "    </tr>\n",
       "  </tbody>\n",
       "</table>\n",
       "</div>"
      ]
     },
     "execution_count": 15,
     "metadata": {},
     "output_type": "execute_result"
    }
   ],
   "execution_count": 15
  },
  {
   "cell_type": "code",
   "metadata": {
    "ExecuteTime": {
     "end_time": "2024-11-25T13:01:28.264350Z",
     "start_time": "2024-11-25T13:01:28.261090Z"
    }
   },
   "source": [
    "df2.columns.name = 'uppercase'\n",
    "df2"
   ],
   "outputs": [
    {
     "data": {
      "text/plain": [
       "uppercase  A   B    C     D\n",
       "lowercase                  \n",
       "a          1  10  100  1000\n",
       "b          2  20  200  2000\n",
       "c          3  30  300  3000\n",
       "d          4  40  400  4000"
      ],
      "text/html": [
       "<div>\n",
       "<style scoped>\n",
       "    .dataframe tbody tr th:only-of-type {\n",
       "        vertical-align: middle;\n",
       "    }\n",
       "\n",
       "    .dataframe tbody tr th {\n",
       "        vertical-align: top;\n",
       "    }\n",
       "\n",
       "    .dataframe thead th {\n",
       "        text-align: right;\n",
       "    }\n",
       "</style>\n",
       "<table border=\"1\" class=\"dataframe\">\n",
       "  <thead>\n",
       "    <tr style=\"text-align: right;\">\n",
       "      <th>uppercase</th>\n",
       "      <th>A</th>\n",
       "      <th>B</th>\n",
       "      <th>C</th>\n",
       "      <th>D</th>\n",
       "    </tr>\n",
       "    <tr>\n",
       "      <th>lowercase</th>\n",
       "      <th></th>\n",
       "      <th></th>\n",
       "      <th></th>\n",
       "      <th></th>\n",
       "    </tr>\n",
       "  </thead>\n",
       "  <tbody>\n",
       "    <tr>\n",
       "      <th>a</th>\n",
       "      <td>1</td>\n",
       "      <td>10</td>\n",
       "      <td>100</td>\n",
       "      <td>1000</td>\n",
       "    </tr>\n",
       "    <tr>\n",
       "      <th>b</th>\n",
       "      <td>2</td>\n",
       "      <td>20</td>\n",
       "      <td>200</td>\n",
       "      <td>2000</td>\n",
       "    </tr>\n",
       "    <tr>\n",
       "      <th>c</th>\n",
       "      <td>3</td>\n",
       "      <td>30</td>\n",
       "      <td>300</td>\n",
       "      <td>3000</td>\n",
       "    </tr>\n",
       "    <tr>\n",
       "      <th>d</th>\n",
       "      <td>4</td>\n",
       "      <td>40</td>\n",
       "      <td>400</td>\n",
       "      <td>4000</td>\n",
       "    </tr>\n",
       "  </tbody>\n",
       "</table>\n",
       "</div>"
      ]
     },
     "execution_count": 16,
     "metadata": {},
     "output_type": "execute_result"
    }
   ],
   "execution_count": 16
  },
  {
   "cell_type": "markdown",
   "metadata": {},
   "source": [
    "## pandas.Index"
   ]
  },
  {
   "cell_type": "code",
   "metadata": {
    "ExecuteTime": {
     "end_time": "2024-11-25T13:01:32.449607Z",
     "start_time": "2024-11-25T13:01:32.446794Z"
    }
   },
   "source": [
    "ind1 = pd.Index(range(5))\n",
    "ind1"
   ],
   "outputs": [
    {
     "data": {
      "text/plain": [
       "RangeIndex(start=0, stop=5, step=1)"
      ]
     },
     "execution_count": 17,
     "metadata": {},
     "output_type": "execute_result"
    }
   ],
   "execution_count": 17
  },
  {
   "cell_type": "code",
   "metadata": {
    "ExecuteTime": {
     "end_time": "2024-11-25T13:01:58.386073Z",
     "start_time": "2024-11-25T13:01:58.382962Z"
    }
   },
   "source": [
    "ind2 = pd.Index(list(range(5)))\n",
    "ind2"
   ],
   "outputs": [
    {
     "data": {
      "text/plain": [
       "Index([0, 1, 2, 3, 4], dtype='int64')"
      ]
     },
     "execution_count": 19,
     "metadata": {},
     "output_type": "execute_result"
    }
   ],
   "execution_count": 19
  },
  {
   "cell_type": "code",
   "metadata": {
    "ExecuteTime": {
     "end_time": "2024-11-25T13:02:07.926992Z",
     "start_time": "2024-11-25T13:02:07.725472Z"
    }
   },
   "source": "#ind2[0] = -1",
   "outputs": [
    {
     "ename": "TypeError",
     "evalue": "Index does not support mutable operations",
     "output_type": "error",
     "traceback": [
      "\u001B[0;31m---------------------------------------------------------------------------\u001B[0m",
      "\u001B[0;31mTypeError\u001B[0m                                 Traceback (most recent call last)",
      "Cell \u001B[0;32mIn[21], line 1\u001B[0m\n\u001B[0;32m----> 1\u001B[0m ind2[\u001B[38;5;241m0\u001B[39m] \u001B[38;5;241m=\u001B[39m \u001B[38;5;241m-\u001B[39m\u001B[38;5;241m1\u001B[39m\n",
      "File \u001B[0;32m/opt/anaconda3/lib/python3.12/site-packages/pandas/core/indexes/base.py:5371\u001B[0m, in \u001B[0;36mIndex.__setitem__\u001B[0;34m(self, key, value)\u001B[0m\n\u001B[1;32m   5369\u001B[0m \u001B[38;5;129m@final\u001B[39m\n\u001B[1;32m   5370\u001B[0m \u001B[38;5;28;01mdef\u001B[39;00m \u001B[38;5;21m__setitem__\u001B[39m(\u001B[38;5;28mself\u001B[39m, key, value) \u001B[38;5;241m-\u001B[39m\u001B[38;5;241m>\u001B[39m \u001B[38;5;28;01mNone\u001B[39;00m:\n\u001B[0;32m-> 5371\u001B[0m     \u001B[38;5;28;01mraise\u001B[39;00m \u001B[38;5;167;01mTypeError\u001B[39;00m(\u001B[38;5;124m\"\u001B[39m\u001B[38;5;124mIndex does not support mutable operations\u001B[39m\u001B[38;5;124m\"\u001B[39m)\n",
      "\u001B[0;31mTypeError\u001B[0m: Index does not support mutable operations"
     ]
    }
   ],
   "execution_count": 21
  },
  {
   "cell_type": "markdown",
   "metadata": {},
   "source": [
    "# Essential pandas.DataFrame operations"
   ]
  },
  {
   "cell_type": "markdown",
   "metadata": {},
   "source": [
    "## Indexing, Selection and Filtering of DataFrames"
   ]
  },
  {
   "cell_type": "code",
   "metadata": {
    "ExecuteTime": {
     "end_time": "2024-11-25T13:02:18.560479Z",
     "start_time": "2024-11-25T13:02:18.557312Z"
    }
   },
   "source": [
    "df2"
   ],
   "outputs": [
    {
     "data": {
      "text/plain": [
       "uppercase  A   B    C     D\n",
       "lowercase                  \n",
       "a          1  10  100  1000\n",
       "b          2  20  200  2000\n",
       "c          3  30  300  3000\n",
       "d          4  40  400  4000"
      ],
      "text/html": [
       "<div>\n",
       "<style scoped>\n",
       "    .dataframe tbody tr th:only-of-type {\n",
       "        vertical-align: middle;\n",
       "    }\n",
       "\n",
       "    .dataframe tbody tr th {\n",
       "        vertical-align: top;\n",
       "    }\n",
       "\n",
       "    .dataframe thead th {\n",
       "        text-align: right;\n",
       "    }\n",
       "</style>\n",
       "<table border=\"1\" class=\"dataframe\">\n",
       "  <thead>\n",
       "    <tr style=\"text-align: right;\">\n",
       "      <th>uppercase</th>\n",
       "      <th>A</th>\n",
       "      <th>B</th>\n",
       "      <th>C</th>\n",
       "      <th>D</th>\n",
       "    </tr>\n",
       "    <tr>\n",
       "      <th>lowercase</th>\n",
       "      <th></th>\n",
       "      <th></th>\n",
       "      <th></th>\n",
       "      <th></th>\n",
       "    </tr>\n",
       "  </thead>\n",
       "  <tbody>\n",
       "    <tr>\n",
       "      <th>a</th>\n",
       "      <td>1</td>\n",
       "      <td>10</td>\n",
       "      <td>100</td>\n",
       "      <td>1000</td>\n",
       "    </tr>\n",
       "    <tr>\n",
       "      <th>b</th>\n",
       "      <td>2</td>\n",
       "      <td>20</td>\n",
       "      <td>200</td>\n",
       "      <td>2000</td>\n",
       "    </tr>\n",
       "    <tr>\n",
       "      <th>c</th>\n",
       "      <td>3</td>\n",
       "      <td>30</td>\n",
       "      <td>300</td>\n",
       "      <td>3000</td>\n",
       "    </tr>\n",
       "    <tr>\n",
       "      <th>d</th>\n",
       "      <td>4</td>\n",
       "      <td>40</td>\n",
       "      <td>400</td>\n",
       "      <td>4000</td>\n",
       "    </tr>\n",
       "  </tbody>\n",
       "</table>\n",
       "</div>"
      ]
     },
     "execution_count": 22,
     "metadata": {},
     "output_type": "execute_result"
    }
   ],
   "execution_count": 22
  },
  {
   "cell_type": "code",
   "metadata": {
    "ExecuteTime": {
     "end_time": "2024-11-25T13:02:22.562531Z",
     "start_time": "2024-11-25T13:02:22.558327Z"
    }
   },
   "source": [
    "df2['B']"
   ],
   "outputs": [
    {
     "data": {
      "text/plain": [
       "lowercase\n",
       "a    10\n",
       "b    20\n",
       "c    30\n",
       "d    40\n",
       "Name: B, dtype: int64"
      ]
     },
     "execution_count": 23,
     "metadata": {},
     "output_type": "execute_result"
    }
   ],
   "execution_count": 23
  },
  {
   "cell_type": "code",
   "metadata": {
    "ExecuteTime": {
     "end_time": "2024-11-25T13:02:25.726938Z",
     "start_time": "2024-11-25T13:02:25.721333Z"
    }
   },
   "source": [
    "df2[['A', 'C']]"
   ],
   "outputs": [
    {
     "data": {
      "text/plain": [
       "uppercase  A    C\n",
       "lowercase        \n",
       "a          1  100\n",
       "b          2  200\n",
       "c          3  300\n",
       "d          4  400"
      ],
      "text/html": [
       "<div>\n",
       "<style scoped>\n",
       "    .dataframe tbody tr th:only-of-type {\n",
       "        vertical-align: middle;\n",
       "    }\n",
       "\n",
       "    .dataframe tbody tr th {\n",
       "        vertical-align: top;\n",
       "    }\n",
       "\n",
       "    .dataframe thead th {\n",
       "        text-align: right;\n",
       "    }\n",
       "</style>\n",
       "<table border=\"1\" class=\"dataframe\">\n",
       "  <thead>\n",
       "    <tr style=\"text-align: right;\">\n",
       "      <th>uppercase</th>\n",
       "      <th>A</th>\n",
       "      <th>C</th>\n",
       "    </tr>\n",
       "    <tr>\n",
       "      <th>lowercase</th>\n",
       "      <th></th>\n",
       "      <th></th>\n",
       "    </tr>\n",
       "  </thead>\n",
       "  <tbody>\n",
       "    <tr>\n",
       "      <th>a</th>\n",
       "      <td>1</td>\n",
       "      <td>100</td>\n",
       "    </tr>\n",
       "    <tr>\n",
       "      <th>b</th>\n",
       "      <td>2</td>\n",
       "      <td>200</td>\n",
       "    </tr>\n",
       "    <tr>\n",
       "      <th>c</th>\n",
       "      <td>3</td>\n",
       "      <td>300</td>\n",
       "    </tr>\n",
       "    <tr>\n",
       "      <th>d</th>\n",
       "      <td>4</td>\n",
       "      <td>400</td>\n",
       "    </tr>\n",
       "  </tbody>\n",
       "</table>\n",
       "</div>"
      ]
     },
     "execution_count": 24,
     "metadata": {},
     "output_type": "execute_result"
    }
   ],
   "execution_count": 24
  },
  {
   "cell_type": "code",
   "metadata": {
    "ExecuteTime": {
     "end_time": "2024-11-25T13:02:43.573007Z",
     "start_time": "2024-11-25T13:02:43.569151Z"
    }
   },
   "source": [
    "df2[(df2['D'] > 1000) & (df2['D'] <= 3000)]"
   ],
   "outputs": [
    {
     "data": {
      "text/plain": [
       "uppercase  A   B    C     D\n",
       "lowercase                  \n",
       "b          2  20  200  2000\n",
       "c          3  30  300  3000"
      ],
      "text/html": [
       "<div>\n",
       "<style scoped>\n",
       "    .dataframe tbody tr th:only-of-type {\n",
       "        vertical-align: middle;\n",
       "    }\n",
       "\n",
       "    .dataframe tbody tr th {\n",
       "        vertical-align: top;\n",
       "    }\n",
       "\n",
       "    .dataframe thead th {\n",
       "        text-align: right;\n",
       "    }\n",
       "</style>\n",
       "<table border=\"1\" class=\"dataframe\">\n",
       "  <thead>\n",
       "    <tr style=\"text-align: right;\">\n",
       "      <th>uppercase</th>\n",
       "      <th>A</th>\n",
       "      <th>B</th>\n",
       "      <th>C</th>\n",
       "      <th>D</th>\n",
       "    </tr>\n",
       "    <tr>\n",
       "      <th>lowercase</th>\n",
       "      <th></th>\n",
       "      <th></th>\n",
       "      <th></th>\n",
       "      <th></th>\n",
       "    </tr>\n",
       "  </thead>\n",
       "  <tbody>\n",
       "    <tr>\n",
       "      <th>b</th>\n",
       "      <td>2</td>\n",
       "      <td>20</td>\n",
       "      <td>200</td>\n",
       "      <td>2000</td>\n",
       "    </tr>\n",
       "    <tr>\n",
       "      <th>c</th>\n",
       "      <td>3</td>\n",
       "      <td>30</td>\n",
       "      <td>300</td>\n",
       "      <td>3000</td>\n",
       "    </tr>\n",
       "  </tbody>\n",
       "</table>\n",
       "</div>"
      ]
     },
     "execution_count": 25,
     "metadata": {},
     "output_type": "execute_result"
    }
   ],
   "execution_count": 25
  },
  {
   "cell_type": "code",
   "execution_count": 23,
   "metadata": {},
   "outputs": [
    {
     "data": {
      "text/html": [
       "<div>\n",
       "<style scoped>\n",
       "    .dataframe tbody tr th:only-of-type {\n",
       "        vertical-align: middle;\n",
       "    }\n",
       "\n",
       "    .dataframe tbody tr th {\n",
       "        vertical-align: top;\n",
       "    }\n",
       "\n",
       "    .dataframe thead th {\n",
       "        text-align: right;\n",
       "    }\n",
       "</style>\n",
       "<table border=\"1\" class=\"dataframe\">\n",
       "  <thead>\n",
       "    <tr style=\"text-align: right;\">\n",
       "      <th>uppercase</th>\n",
       "      <th>A</th>\n",
       "      <th>B</th>\n",
       "      <th>C</th>\n",
       "      <th>D</th>\n",
       "    </tr>\n",
       "    <tr>\n",
       "      <th>lowercase</th>\n",
       "      <th></th>\n",
       "      <th></th>\n",
       "      <th></th>\n",
       "      <th></th>\n",
       "    </tr>\n",
       "  </thead>\n",
       "  <tbody>\n",
       "    <tr>\n",
       "      <th>c</th>\n",
       "      <td>3</td>\n",
       "      <td>30</td>\n",
       "      <td>300</td>\n",
       "      <td>3000</td>\n",
       "    </tr>\n",
       "    <tr>\n",
       "      <th>d</th>\n",
       "      <td>4</td>\n",
       "      <td>40</td>\n",
       "      <td>400</td>\n",
       "      <td>4000</td>\n",
       "    </tr>\n",
       "  </tbody>\n",
       "</table>\n",
       "</div>"
      ],
      "text/plain": [
       "uppercase  A   B    C     D\n",
       "lowercase                  \n",
       "c          3  30  300  3000\n",
       "d          4  40  400  4000"
      ]
     },
     "execution_count": 23,
     "metadata": {},
     "output_type": "execute_result"
    }
   ],
   "source": [
    "df2.loc[['c', 'd']]"
   ]
  },
  {
   "cell_type": "code",
   "metadata": {
    "ExecuteTime": {
     "end_time": "2024-11-25T13:03:51.624176Z",
     "start_time": "2024-11-25T13:03:51.620796Z"
    }
   },
   "source": [
    "df2.iloc[[0]]"
   ],
   "outputs": [
    {
     "data": {
      "text/plain": [
       "uppercase  A   B    C     D\n",
       "lowercase                  \n",
       "a          1  10  100  1000"
      ],
      "text/html": [
       "<div>\n",
       "<style scoped>\n",
       "    .dataframe tbody tr th:only-of-type {\n",
       "        vertical-align: middle;\n",
       "    }\n",
       "\n",
       "    .dataframe tbody tr th {\n",
       "        vertical-align: top;\n",
       "    }\n",
       "\n",
       "    .dataframe thead th {\n",
       "        text-align: right;\n",
       "    }\n",
       "</style>\n",
       "<table border=\"1\" class=\"dataframe\">\n",
       "  <thead>\n",
       "    <tr style=\"text-align: right;\">\n",
       "      <th>uppercase</th>\n",
       "      <th>A</th>\n",
       "      <th>B</th>\n",
       "      <th>C</th>\n",
       "      <th>D</th>\n",
       "    </tr>\n",
       "    <tr>\n",
       "      <th>lowercase</th>\n",
       "      <th></th>\n",
       "      <th></th>\n",
       "      <th></th>\n",
       "      <th></th>\n",
       "    </tr>\n",
       "  </thead>\n",
       "  <tbody>\n",
       "    <tr>\n",
       "      <th>a</th>\n",
       "      <td>1</td>\n",
       "      <td>10</td>\n",
       "      <td>100</td>\n",
       "      <td>1000</td>\n",
       "    </tr>\n",
       "  </tbody>\n",
       "</table>\n",
       "</div>"
      ]
     },
     "execution_count": 26,
     "metadata": {},
     "output_type": "execute_result"
    }
   ],
   "execution_count": 26
  },
  {
   "cell_type": "code",
   "metadata": {
    "ExecuteTime": {
     "end_time": "2024-11-25T13:04:01.710959Z",
     "start_time": "2024-11-25T13:04:01.706923Z"
    }
   },
   "source": [
    "df2[df2['D'] == 2000] = 0\n",
    "df2"
   ],
   "outputs": [
    {
     "data": {
      "text/plain": [
       "uppercase  A   B    C     D\n",
       "lowercase                  \n",
       "a          1  10  100  1000\n",
       "b          0   0    0     0\n",
       "c          3  30  300  3000\n",
       "d          4  40  400  4000"
      ],
      "text/html": [
       "<div>\n",
       "<style scoped>\n",
       "    .dataframe tbody tr th:only-of-type {\n",
       "        vertical-align: middle;\n",
       "    }\n",
       "\n",
       "    .dataframe tbody tr th {\n",
       "        vertical-align: top;\n",
       "    }\n",
       "\n",
       "    .dataframe thead th {\n",
       "        text-align: right;\n",
       "    }\n",
       "</style>\n",
       "<table border=\"1\" class=\"dataframe\">\n",
       "  <thead>\n",
       "    <tr style=\"text-align: right;\">\n",
       "      <th>uppercase</th>\n",
       "      <th>A</th>\n",
       "      <th>B</th>\n",
       "      <th>C</th>\n",
       "      <th>D</th>\n",
       "    </tr>\n",
       "    <tr>\n",
       "      <th>lowercase</th>\n",
       "      <th></th>\n",
       "      <th></th>\n",
       "      <th></th>\n",
       "      <th></th>\n",
       "    </tr>\n",
       "  </thead>\n",
       "  <tbody>\n",
       "    <tr>\n",
       "      <th>a</th>\n",
       "      <td>1</td>\n",
       "      <td>10</td>\n",
       "      <td>100</td>\n",
       "      <td>1000</td>\n",
       "    </tr>\n",
       "    <tr>\n",
       "      <th>b</th>\n",
       "      <td>0</td>\n",
       "      <td>0</td>\n",
       "      <td>0</td>\n",
       "      <td>0</td>\n",
       "    </tr>\n",
       "    <tr>\n",
       "      <th>c</th>\n",
       "      <td>3</td>\n",
       "      <td>30</td>\n",
       "      <td>300</td>\n",
       "      <td>3000</td>\n",
       "    </tr>\n",
       "    <tr>\n",
       "      <th>d</th>\n",
       "      <td>4</td>\n",
       "      <td>40</td>\n",
       "      <td>400</td>\n",
       "      <td>4000</td>\n",
       "    </tr>\n",
       "  </tbody>\n",
       "</table>\n",
       "</div>"
      ]
     },
     "execution_count": 27,
     "metadata": {},
     "output_type": "execute_result"
    }
   ],
   "execution_count": 27
  },
  {
   "cell_type": "markdown",
   "metadata": {},
   "source": [
    "## Dropping rows and columns from a DataFrame"
   ]
  },
  {
   "cell_type": "code",
   "metadata": {
    "ExecuteTime": {
     "end_time": "2024-11-25T13:04:31.256798Z",
     "start_time": "2024-11-25T13:04:31.253526Z"
    }
   },
   "source": [
    "df2"
   ],
   "outputs": [
    {
     "data": {
      "text/plain": [
       "uppercase  A   B    C     D\n",
       "lowercase                  \n",
       "a          1  10  100  1000\n",
       "b          0   0    0     0\n",
       "c          3  30  300  3000\n",
       "d          4  40  400  4000"
      ],
      "text/html": [
       "<div>\n",
       "<style scoped>\n",
       "    .dataframe tbody tr th:only-of-type {\n",
       "        vertical-align: middle;\n",
       "    }\n",
       "\n",
       "    .dataframe tbody tr th {\n",
       "        vertical-align: top;\n",
       "    }\n",
       "\n",
       "    .dataframe thead th {\n",
       "        text-align: right;\n",
       "    }\n",
       "</style>\n",
       "<table border=\"1\" class=\"dataframe\">\n",
       "  <thead>\n",
       "    <tr style=\"text-align: right;\">\n",
       "      <th>uppercase</th>\n",
       "      <th>A</th>\n",
       "      <th>B</th>\n",
       "      <th>C</th>\n",
       "      <th>D</th>\n",
       "    </tr>\n",
       "    <tr>\n",
       "      <th>lowercase</th>\n",
       "      <th></th>\n",
       "      <th></th>\n",
       "      <th></th>\n",
       "      <th></th>\n",
       "    </tr>\n",
       "  </thead>\n",
       "  <tbody>\n",
       "    <tr>\n",
       "      <th>a</th>\n",
       "      <td>1</td>\n",
       "      <td>10</td>\n",
       "      <td>100</td>\n",
       "      <td>1000</td>\n",
       "    </tr>\n",
       "    <tr>\n",
       "      <th>b</th>\n",
       "      <td>0</td>\n",
       "      <td>0</td>\n",
       "      <td>0</td>\n",
       "      <td>0</td>\n",
       "    </tr>\n",
       "    <tr>\n",
       "      <th>c</th>\n",
       "      <td>3</td>\n",
       "      <td>30</td>\n",
       "      <td>300</td>\n",
       "      <td>3000</td>\n",
       "    </tr>\n",
       "    <tr>\n",
       "      <th>d</th>\n",
       "      <td>4</td>\n",
       "      <td>40</td>\n",
       "      <td>400</td>\n",
       "      <td>4000</td>\n",
       "    </tr>\n",
       "  </tbody>\n",
       "</table>\n",
       "</div>"
      ]
     },
     "execution_count": 28,
     "metadata": {},
     "output_type": "execute_result"
    }
   ],
   "execution_count": 28
  },
  {
   "cell_type": "code",
   "metadata": {
    "ExecuteTime": {
     "end_time": "2024-11-25T13:04:37.978562Z",
     "start_time": "2024-11-25T13:04:37.975103Z"
    }
   },
   "source": [
    "df2.drop('b')"
   ],
   "outputs": [
    {
     "data": {
      "text/plain": [
       "uppercase  A   B    C     D\n",
       "lowercase                  \n",
       "a          1  10  100  1000\n",
       "c          3  30  300  3000\n",
       "d          4  40  400  4000"
      ],
      "text/html": [
       "<div>\n",
       "<style scoped>\n",
       "    .dataframe tbody tr th:only-of-type {\n",
       "        vertical-align: middle;\n",
       "    }\n",
       "\n",
       "    .dataframe tbody tr th {\n",
       "        vertical-align: top;\n",
       "    }\n",
       "\n",
       "    .dataframe thead th {\n",
       "        text-align: right;\n",
       "    }\n",
       "</style>\n",
       "<table border=\"1\" class=\"dataframe\">\n",
       "  <thead>\n",
       "    <tr style=\"text-align: right;\">\n",
       "      <th>uppercase</th>\n",
       "      <th>A</th>\n",
       "      <th>B</th>\n",
       "      <th>C</th>\n",
       "      <th>D</th>\n",
       "    </tr>\n",
       "    <tr>\n",
       "      <th>lowercase</th>\n",
       "      <th></th>\n",
       "      <th></th>\n",
       "      <th></th>\n",
       "      <th></th>\n",
       "    </tr>\n",
       "  </thead>\n",
       "  <tbody>\n",
       "    <tr>\n",
       "      <th>a</th>\n",
       "      <td>1</td>\n",
       "      <td>10</td>\n",
       "      <td>100</td>\n",
       "      <td>1000</td>\n",
       "    </tr>\n",
       "    <tr>\n",
       "      <th>c</th>\n",
       "      <td>3</td>\n",
       "      <td>30</td>\n",
       "      <td>300</td>\n",
       "      <td>3000</td>\n",
       "    </tr>\n",
       "    <tr>\n",
       "      <th>d</th>\n",
       "      <td>4</td>\n",
       "      <td>40</td>\n",
       "      <td>400</td>\n",
       "      <td>4000</td>\n",
       "    </tr>\n",
       "  </tbody>\n",
       "</table>\n",
       "</div>"
      ]
     },
     "execution_count": 29,
     "metadata": {},
     "output_type": "execute_result"
    }
   ],
   "execution_count": 29
  },
  {
   "cell_type": "code",
   "metadata": {
    "ExecuteTime": {
     "end_time": "2024-11-25T13:04:39.018767Z",
     "start_time": "2024-11-25T13:04:39.015665Z"
    }
   },
   "source": [
    "df2"
   ],
   "outputs": [
    {
     "data": {
      "text/plain": [
       "uppercase  A   B    C     D\n",
       "lowercase                  \n",
       "a          1  10  100  1000\n",
       "b          0   0    0     0\n",
       "c          3  30  300  3000\n",
       "d          4  40  400  4000"
      ],
      "text/html": [
       "<div>\n",
       "<style scoped>\n",
       "    .dataframe tbody tr th:only-of-type {\n",
       "        vertical-align: middle;\n",
       "    }\n",
       "\n",
       "    .dataframe tbody tr th {\n",
       "        vertical-align: top;\n",
       "    }\n",
       "\n",
       "    .dataframe thead th {\n",
       "        text-align: right;\n",
       "    }\n",
       "</style>\n",
       "<table border=\"1\" class=\"dataframe\">\n",
       "  <thead>\n",
       "    <tr style=\"text-align: right;\">\n",
       "      <th>uppercase</th>\n",
       "      <th>A</th>\n",
       "      <th>B</th>\n",
       "      <th>C</th>\n",
       "      <th>D</th>\n",
       "    </tr>\n",
       "    <tr>\n",
       "      <th>lowercase</th>\n",
       "      <th></th>\n",
       "      <th></th>\n",
       "      <th></th>\n",
       "      <th></th>\n",
       "    </tr>\n",
       "  </thead>\n",
       "  <tbody>\n",
       "    <tr>\n",
       "      <th>a</th>\n",
       "      <td>1</td>\n",
       "      <td>10</td>\n",
       "      <td>100</td>\n",
       "      <td>1000</td>\n",
       "    </tr>\n",
       "    <tr>\n",
       "      <th>b</th>\n",
       "      <td>0</td>\n",
       "      <td>0</td>\n",
       "      <td>0</td>\n",
       "      <td>0</td>\n",
       "    </tr>\n",
       "    <tr>\n",
       "      <th>c</th>\n",
       "      <td>3</td>\n",
       "      <td>30</td>\n",
       "      <td>300</td>\n",
       "      <td>3000</td>\n",
       "    </tr>\n",
       "    <tr>\n",
       "      <th>d</th>\n",
       "      <td>4</td>\n",
       "      <td>40</td>\n",
       "      <td>400</td>\n",
       "      <td>4000</td>\n",
       "    </tr>\n",
       "  </tbody>\n",
       "</table>\n",
       "</div>"
      ]
     },
     "execution_count": 30,
     "metadata": {},
     "output_type": "execute_result"
    }
   ],
   "execution_count": 30
  },
  {
   "cell_type": "code",
   "metadata": {
    "ExecuteTime": {
     "end_time": "2024-11-25T13:04:46.502433Z",
     "start_time": "2024-11-25T13:04:46.498788Z"
    }
   },
   "source": [
    "df2.drop('b', inplace=True)\n",
    "df2"
   ],
   "outputs": [
    {
     "data": {
      "text/plain": [
       "uppercase  A   B    C     D\n",
       "lowercase                  \n",
       "a          1  10  100  1000\n",
       "c          3  30  300  3000\n",
       "d          4  40  400  4000"
      ],
      "text/html": [
       "<div>\n",
       "<style scoped>\n",
       "    .dataframe tbody tr th:only-of-type {\n",
       "        vertical-align: middle;\n",
       "    }\n",
       "\n",
       "    .dataframe tbody tr th {\n",
       "        vertical-align: top;\n",
       "    }\n",
       "\n",
       "    .dataframe thead th {\n",
       "        text-align: right;\n",
       "    }\n",
       "</style>\n",
       "<table border=\"1\" class=\"dataframe\">\n",
       "  <thead>\n",
       "    <tr style=\"text-align: right;\">\n",
       "      <th>uppercase</th>\n",
       "      <th>A</th>\n",
       "      <th>B</th>\n",
       "      <th>C</th>\n",
       "      <th>D</th>\n",
       "    </tr>\n",
       "    <tr>\n",
       "      <th>lowercase</th>\n",
       "      <th></th>\n",
       "      <th></th>\n",
       "      <th></th>\n",
       "      <th></th>\n",
       "    </tr>\n",
       "  </thead>\n",
       "  <tbody>\n",
       "    <tr>\n",
       "      <th>a</th>\n",
       "      <td>1</td>\n",
       "      <td>10</td>\n",
       "      <td>100</td>\n",
       "      <td>1000</td>\n",
       "    </tr>\n",
       "    <tr>\n",
       "      <th>c</th>\n",
       "      <td>3</td>\n",
       "      <td>30</td>\n",
       "      <td>300</td>\n",
       "      <td>3000</td>\n",
       "    </tr>\n",
       "    <tr>\n",
       "      <th>d</th>\n",
       "      <td>4</td>\n",
       "      <td>40</td>\n",
       "      <td>400</td>\n",
       "      <td>4000</td>\n",
       "    </tr>\n",
       "  </tbody>\n",
       "</table>\n",
       "</div>"
      ]
     },
     "execution_count": 31,
     "metadata": {},
     "output_type": "execute_result"
    }
   ],
   "execution_count": 31
  },
  {
   "cell_type": "code",
   "metadata": {
    "ExecuteTime": {
     "end_time": "2024-11-25T13:05:19.841401Z",
     "start_time": "2024-11-25T13:05:19.837685Z"
    }
   },
   "source": [
    "df2.drop(['a', 'd'])"
   ],
   "outputs": [
    {
     "data": {
      "text/plain": [
       "uppercase  A   B    C     D\n",
       "lowercase                  \n",
       "c          3  30  300  3000"
      ],
      "text/html": [
       "<div>\n",
       "<style scoped>\n",
       "    .dataframe tbody tr th:only-of-type {\n",
       "        vertical-align: middle;\n",
       "    }\n",
       "\n",
       "    .dataframe tbody tr th {\n",
       "        vertical-align: top;\n",
       "    }\n",
       "\n",
       "    .dataframe thead th {\n",
       "        text-align: right;\n",
       "    }\n",
       "</style>\n",
       "<table border=\"1\" class=\"dataframe\">\n",
       "  <thead>\n",
       "    <tr style=\"text-align: right;\">\n",
       "      <th>uppercase</th>\n",
       "      <th>A</th>\n",
       "      <th>B</th>\n",
       "      <th>C</th>\n",
       "      <th>D</th>\n",
       "    </tr>\n",
       "    <tr>\n",
       "      <th>lowercase</th>\n",
       "      <th></th>\n",
       "      <th></th>\n",
       "      <th></th>\n",
       "      <th></th>\n",
       "    </tr>\n",
       "  </thead>\n",
       "  <tbody>\n",
       "    <tr>\n",
       "      <th>c</th>\n",
       "      <td>3</td>\n",
       "      <td>30</td>\n",
       "      <td>300</td>\n",
       "      <td>3000</td>\n",
       "    </tr>\n",
       "  </tbody>\n",
       "</table>\n",
       "</div>"
      ]
     },
     "execution_count": 32,
     "metadata": {},
     "output_type": "execute_result"
    }
   ],
   "execution_count": 32
  },
  {
   "cell_type": "code",
   "metadata": {
    "ExecuteTime": {
     "end_time": "2024-11-25T13:05:23.789527Z",
     "start_time": "2024-11-25T13:05:23.786069Z"
    }
   },
   "source": [
    "df2.drop(['A', 'B'], axis=1)"
   ],
   "outputs": [
    {
     "data": {
      "text/plain": [
       "uppercase    C     D\n",
       "lowercase           \n",
       "a          100  1000\n",
       "c          300  3000\n",
       "d          400  4000"
      ],
      "text/html": [
       "<div>\n",
       "<style scoped>\n",
       "    .dataframe tbody tr th:only-of-type {\n",
       "        vertical-align: middle;\n",
       "    }\n",
       "\n",
       "    .dataframe tbody tr th {\n",
       "        vertical-align: top;\n",
       "    }\n",
       "\n",
       "    .dataframe thead th {\n",
       "        text-align: right;\n",
       "    }\n",
       "</style>\n",
       "<table border=\"1\" class=\"dataframe\">\n",
       "  <thead>\n",
       "    <tr style=\"text-align: right;\">\n",
       "      <th>uppercase</th>\n",
       "      <th>C</th>\n",
       "      <th>D</th>\n",
       "    </tr>\n",
       "    <tr>\n",
       "      <th>lowercase</th>\n",
       "      <th></th>\n",
       "      <th></th>\n",
       "    </tr>\n",
       "  </thead>\n",
       "  <tbody>\n",
       "    <tr>\n",
       "      <th>a</th>\n",
       "      <td>100</td>\n",
       "      <td>1000</td>\n",
       "    </tr>\n",
       "    <tr>\n",
       "      <th>c</th>\n",
       "      <td>300</td>\n",
       "      <td>3000</td>\n",
       "    </tr>\n",
       "    <tr>\n",
       "      <th>d</th>\n",
       "      <td>400</td>\n",
       "      <td>4000</td>\n",
       "    </tr>\n",
       "  </tbody>\n",
       "</table>\n",
       "</div>"
      ]
     },
     "execution_count": 33,
     "metadata": {},
     "output_type": "execute_result"
    }
   ],
   "execution_count": 33
  },
  {
   "cell_type": "markdown",
   "metadata": {},
   "source": [
    "## Sorting Values and Ranking the Values Order within a DataFrame"
   ]
  },
  {
   "cell_type": "code",
   "metadata": {
    "ExecuteTime": {
     "end_time": "2024-11-25T13:05:30.409365Z",
     "start_time": "2024-11-25T13:05:30.406568Z"
    }
   },
   "source": [
    "import numpy as np\n",
    "np.random.seed(0)"
   ],
   "outputs": [],
   "execution_count": 34
  },
  {
   "cell_type": "code",
   "metadata": {
    "ExecuteTime": {
     "end_time": "2024-11-25T13:05:43.022944Z",
     "start_time": "2024-11-25T13:05:43.016940Z"
    }
   },
   "source": [
    "df = pd.DataFrame(np.random.randn(5,5), index=np.random.randint(0, 100, size=5), columns=np.random.randint(0, 100, size=5))\n",
    "df"
   ],
   "outputs": [
    {
     "data": {
      "text/plain": [
       "          17        79        4         42        58\n",
       "0   1.764052  0.400157  0.978738  2.240893  1.867558\n",
       "36 -0.977278  0.950088 -0.151357 -0.103219  0.410599\n",
       "53  0.144044  1.454274  0.761038  0.121675  0.443863\n",
       "5   0.333674  1.494079 -0.205158  0.313068 -0.854096\n",
       "38 -2.552990  0.653619  0.864436 -0.742165  2.269755"
      ],
      "text/html": [
       "<div>\n",
       "<style scoped>\n",
       "    .dataframe tbody tr th:only-of-type {\n",
       "        vertical-align: middle;\n",
       "    }\n",
       "\n",
       "    .dataframe tbody tr th {\n",
       "        vertical-align: top;\n",
       "    }\n",
       "\n",
       "    .dataframe thead th {\n",
       "        text-align: right;\n",
       "    }\n",
       "</style>\n",
       "<table border=\"1\" class=\"dataframe\">\n",
       "  <thead>\n",
       "    <tr style=\"text-align: right;\">\n",
       "      <th></th>\n",
       "      <th>17</th>\n",
       "      <th>79</th>\n",
       "      <th>4</th>\n",
       "      <th>42</th>\n",
       "      <th>58</th>\n",
       "    </tr>\n",
       "  </thead>\n",
       "  <tbody>\n",
       "    <tr>\n",
       "      <th>0</th>\n",
       "      <td>1.764052</td>\n",
       "      <td>0.400157</td>\n",
       "      <td>0.978738</td>\n",
       "      <td>2.240893</td>\n",
       "      <td>1.867558</td>\n",
       "    </tr>\n",
       "    <tr>\n",
       "      <th>36</th>\n",
       "      <td>-0.977278</td>\n",
       "      <td>0.950088</td>\n",
       "      <td>-0.151357</td>\n",
       "      <td>-0.103219</td>\n",
       "      <td>0.410599</td>\n",
       "    </tr>\n",
       "    <tr>\n",
       "      <th>53</th>\n",
       "      <td>0.144044</td>\n",
       "      <td>1.454274</td>\n",
       "      <td>0.761038</td>\n",
       "      <td>0.121675</td>\n",
       "      <td>0.443863</td>\n",
       "    </tr>\n",
       "    <tr>\n",
       "      <th>5</th>\n",
       "      <td>0.333674</td>\n",
       "      <td>1.494079</td>\n",
       "      <td>-0.205158</td>\n",
       "      <td>0.313068</td>\n",
       "      <td>-0.854096</td>\n",
       "    </tr>\n",
       "    <tr>\n",
       "      <th>38</th>\n",
       "      <td>-2.552990</td>\n",
       "      <td>0.653619</td>\n",
       "      <td>0.864436</td>\n",
       "      <td>-0.742165</td>\n",
       "      <td>2.269755</td>\n",
       "    </tr>\n",
       "  </tbody>\n",
       "</table>\n",
       "</div>"
      ]
     },
     "execution_count": 35,
     "metadata": {},
     "output_type": "execute_result"
    }
   ],
   "execution_count": 35
  },
  {
   "cell_type": "code",
   "metadata": {
    "ExecuteTime": {
     "end_time": "2024-11-25T13:05:50.041951Z",
     "start_time": "2024-11-25T13:05:50.037177Z"
    }
   },
   "source": [
    "df.sort_index()"
   ],
   "outputs": [
    {
     "data": {
      "text/plain": [
       "          17        79        4         42        58\n",
       "0   1.764052  0.400157  0.978738  2.240893  1.867558\n",
       "5   0.333674  1.494079 -0.205158  0.313068 -0.854096\n",
       "36 -0.977278  0.950088 -0.151357 -0.103219  0.410599\n",
       "38 -2.552990  0.653619  0.864436 -0.742165  2.269755\n",
       "53  0.144044  1.454274  0.761038  0.121675  0.443863"
      ],
      "text/html": [
       "<div>\n",
       "<style scoped>\n",
       "    .dataframe tbody tr th:only-of-type {\n",
       "        vertical-align: middle;\n",
       "    }\n",
       "\n",
       "    .dataframe tbody tr th {\n",
       "        vertical-align: top;\n",
       "    }\n",
       "\n",
       "    .dataframe thead th {\n",
       "        text-align: right;\n",
       "    }\n",
       "</style>\n",
       "<table border=\"1\" class=\"dataframe\">\n",
       "  <thead>\n",
       "    <tr style=\"text-align: right;\">\n",
       "      <th></th>\n",
       "      <th>17</th>\n",
       "      <th>79</th>\n",
       "      <th>4</th>\n",
       "      <th>42</th>\n",
       "      <th>58</th>\n",
       "    </tr>\n",
       "  </thead>\n",
       "  <tbody>\n",
       "    <tr>\n",
       "      <th>0</th>\n",
       "      <td>1.764052</td>\n",
       "      <td>0.400157</td>\n",
       "      <td>0.978738</td>\n",
       "      <td>2.240893</td>\n",
       "      <td>1.867558</td>\n",
       "    </tr>\n",
       "    <tr>\n",
       "      <th>5</th>\n",
       "      <td>0.333674</td>\n",
       "      <td>1.494079</td>\n",
       "      <td>-0.205158</td>\n",
       "      <td>0.313068</td>\n",
       "      <td>-0.854096</td>\n",
       "    </tr>\n",
       "    <tr>\n",
       "      <th>36</th>\n",
       "      <td>-0.977278</td>\n",
       "      <td>0.950088</td>\n",
       "      <td>-0.151357</td>\n",
       "      <td>-0.103219</td>\n",
       "      <td>0.410599</td>\n",
       "    </tr>\n",
       "    <tr>\n",
       "      <th>38</th>\n",
       "      <td>-2.552990</td>\n",
       "      <td>0.653619</td>\n",
       "      <td>0.864436</td>\n",
       "      <td>-0.742165</td>\n",
       "      <td>2.269755</td>\n",
       "    </tr>\n",
       "    <tr>\n",
       "      <th>53</th>\n",
       "      <td>0.144044</td>\n",
       "      <td>1.454274</td>\n",
       "      <td>0.761038</td>\n",
       "      <td>0.121675</td>\n",
       "      <td>0.443863</td>\n",
       "    </tr>\n",
       "  </tbody>\n",
       "</table>\n",
       "</div>"
      ]
     },
     "execution_count": 36,
     "metadata": {},
     "output_type": "execute_result"
    }
   ],
   "execution_count": 36
  },
  {
   "cell_type": "code",
   "metadata": {
    "ExecuteTime": {
     "end_time": "2024-11-25T13:05:55.035327Z",
     "start_time": "2024-11-25T13:05:55.030350Z"
    }
   },
   "source": [
    "df.sort_index(axis=1)"
   ],
   "outputs": [
    {
     "data": {
      "text/plain": [
       "          4         17        42        58        79\n",
       "0   0.978738  1.764052  2.240893  1.867558  0.400157\n",
       "36 -0.151357 -0.977278 -0.103219  0.410599  0.950088\n",
       "53  0.761038  0.144044  0.121675  0.443863  1.454274\n",
       "5  -0.205158  0.333674  0.313068 -0.854096  1.494079\n",
       "38  0.864436 -2.552990 -0.742165  2.269755  0.653619"
      ],
      "text/html": [
       "<div>\n",
       "<style scoped>\n",
       "    .dataframe tbody tr th:only-of-type {\n",
       "        vertical-align: middle;\n",
       "    }\n",
       "\n",
       "    .dataframe tbody tr th {\n",
       "        vertical-align: top;\n",
       "    }\n",
       "\n",
       "    .dataframe thead th {\n",
       "        text-align: right;\n",
       "    }\n",
       "</style>\n",
       "<table border=\"1\" class=\"dataframe\">\n",
       "  <thead>\n",
       "    <tr style=\"text-align: right;\">\n",
       "      <th></th>\n",
       "      <th>4</th>\n",
       "      <th>17</th>\n",
       "      <th>42</th>\n",
       "      <th>58</th>\n",
       "      <th>79</th>\n",
       "    </tr>\n",
       "  </thead>\n",
       "  <tbody>\n",
       "    <tr>\n",
       "      <th>0</th>\n",
       "      <td>0.978738</td>\n",
       "      <td>1.764052</td>\n",
       "      <td>2.240893</td>\n",
       "      <td>1.867558</td>\n",
       "      <td>0.400157</td>\n",
       "    </tr>\n",
       "    <tr>\n",
       "      <th>36</th>\n",
       "      <td>-0.151357</td>\n",
       "      <td>-0.977278</td>\n",
       "      <td>-0.103219</td>\n",
       "      <td>0.410599</td>\n",
       "      <td>0.950088</td>\n",
       "    </tr>\n",
       "    <tr>\n",
       "      <th>53</th>\n",
       "      <td>0.761038</td>\n",
       "      <td>0.144044</td>\n",
       "      <td>0.121675</td>\n",
       "      <td>0.443863</td>\n",
       "      <td>1.454274</td>\n",
       "    </tr>\n",
       "    <tr>\n",
       "      <th>5</th>\n",
       "      <td>-0.205158</td>\n",
       "      <td>0.333674</td>\n",
       "      <td>0.313068</td>\n",
       "      <td>-0.854096</td>\n",
       "      <td>1.494079</td>\n",
       "    </tr>\n",
       "    <tr>\n",
       "      <th>38</th>\n",
       "      <td>0.864436</td>\n",
       "      <td>-2.552990</td>\n",
       "      <td>-0.742165</td>\n",
       "      <td>2.269755</td>\n",
       "      <td>0.653619</td>\n",
       "    </tr>\n",
       "  </tbody>\n",
       "</table>\n",
       "</div>"
      ]
     },
     "execution_count": 37,
     "metadata": {},
     "output_type": "execute_result"
    }
   ],
   "execution_count": 37
  },
  {
   "cell_type": "code",
   "metadata": {
    "ExecuteTime": {
     "end_time": "2024-11-25T13:06:10.242506Z",
     "start_time": "2024-11-25T13:06:10.237779Z"
    }
   },
   "source": [
    "df.sort_values(by=df.columns[0])"
   ],
   "outputs": [
    {
     "data": {
      "text/plain": [
       "          17        79        4         42        58\n",
       "38 -2.552990  0.653619  0.864436 -0.742165  2.269755\n",
       "36 -0.977278  0.950088 -0.151357 -0.103219  0.410599\n",
       "53  0.144044  1.454274  0.761038  0.121675  0.443863\n",
       "5   0.333674  1.494079 -0.205158  0.313068 -0.854096\n",
       "0   1.764052  0.400157  0.978738  2.240893  1.867558"
      ],
      "text/html": [
       "<div>\n",
       "<style scoped>\n",
       "    .dataframe tbody tr th:only-of-type {\n",
       "        vertical-align: middle;\n",
       "    }\n",
       "\n",
       "    .dataframe tbody tr th {\n",
       "        vertical-align: top;\n",
       "    }\n",
       "\n",
       "    .dataframe thead th {\n",
       "        text-align: right;\n",
       "    }\n",
       "</style>\n",
       "<table border=\"1\" class=\"dataframe\">\n",
       "  <thead>\n",
       "    <tr style=\"text-align: right;\">\n",
       "      <th></th>\n",
       "      <th>17</th>\n",
       "      <th>79</th>\n",
       "      <th>4</th>\n",
       "      <th>42</th>\n",
       "      <th>58</th>\n",
       "    </tr>\n",
       "  </thead>\n",
       "  <tbody>\n",
       "    <tr>\n",
       "      <th>38</th>\n",
       "      <td>-2.552990</td>\n",
       "      <td>0.653619</td>\n",
       "      <td>0.864436</td>\n",
       "      <td>-0.742165</td>\n",
       "      <td>2.269755</td>\n",
       "    </tr>\n",
       "    <tr>\n",
       "      <th>36</th>\n",
       "      <td>-0.977278</td>\n",
       "      <td>0.950088</td>\n",
       "      <td>-0.151357</td>\n",
       "      <td>-0.103219</td>\n",
       "      <td>0.410599</td>\n",
       "    </tr>\n",
       "    <tr>\n",
       "      <th>53</th>\n",
       "      <td>0.144044</td>\n",
       "      <td>1.454274</td>\n",
       "      <td>0.761038</td>\n",
       "      <td>0.121675</td>\n",
       "      <td>0.443863</td>\n",
       "    </tr>\n",
       "    <tr>\n",
       "      <th>5</th>\n",
       "      <td>0.333674</td>\n",
       "      <td>1.494079</td>\n",
       "      <td>-0.205158</td>\n",
       "      <td>0.313068</td>\n",
       "      <td>-0.854096</td>\n",
       "    </tr>\n",
       "    <tr>\n",
       "      <th>0</th>\n",
       "      <td>1.764052</td>\n",
       "      <td>0.400157</td>\n",
       "      <td>0.978738</td>\n",
       "      <td>2.240893</td>\n",
       "      <td>1.867558</td>\n",
       "    </tr>\n",
       "  </tbody>\n",
       "</table>\n",
       "</div>"
      ]
     },
     "execution_count": 38,
     "metadata": {},
     "output_type": "execute_result"
    }
   ],
   "execution_count": 38
  },
  {
   "cell_type": "code",
   "execution_count": 37,
   "metadata": {},
   "outputs": [
    {
     "data": {
      "text/html": [
       "<div>\n",
       "<style scoped>\n",
       "    .dataframe tbody tr th:only-of-type {\n",
       "        vertical-align: middle;\n",
       "    }\n",
       "\n",
       "    .dataframe tbody tr th {\n",
       "        vertical-align: top;\n",
       "    }\n",
       "\n",
       "    .dataframe thead th {\n",
       "        text-align: right;\n",
       "    }\n",
       "</style>\n",
       "<table border=\"1\" class=\"dataframe\">\n",
       "  <thead>\n",
       "    <tr style=\"text-align: right;\">\n",
       "      <th></th>\n",
       "      <th>17</th>\n",
       "      <th>79</th>\n",
       "      <th>4</th>\n",
       "      <th>42</th>\n",
       "      <th>58</th>\n",
       "    </tr>\n",
       "  </thead>\n",
       "  <tbody>\n",
       "    <tr>\n",
       "      <th>0</th>\n",
       "      <td>5.0</td>\n",
       "      <td>1.0</td>\n",
       "      <td>5.0</td>\n",
       "      <td>5.0</td>\n",
       "      <td>4.0</td>\n",
       "    </tr>\n",
       "    <tr>\n",
       "      <th>36</th>\n",
       "      <td>2.0</td>\n",
       "      <td>3.0</td>\n",
       "      <td>2.0</td>\n",
       "      <td>2.0</td>\n",
       "      <td>2.0</td>\n",
       "    </tr>\n",
       "    <tr>\n",
       "      <th>53</th>\n",
       "      <td>3.0</td>\n",
       "      <td>4.0</td>\n",
       "      <td>3.0</td>\n",
       "      <td>3.0</td>\n",
       "      <td>3.0</td>\n",
       "    </tr>\n",
       "    <tr>\n",
       "      <th>5</th>\n",
       "      <td>4.0</td>\n",
       "      <td>5.0</td>\n",
       "      <td>1.0</td>\n",
       "      <td>4.0</td>\n",
       "      <td>1.0</td>\n",
       "    </tr>\n",
       "    <tr>\n",
       "      <th>38</th>\n",
       "      <td>1.0</td>\n",
       "      <td>2.0</td>\n",
       "      <td>4.0</td>\n",
       "      <td>1.0</td>\n",
       "      <td>5.0</td>\n",
       "    </tr>\n",
       "  </tbody>\n",
       "</table>\n",
       "</div>"
      ],
      "text/plain": [
       "     17   79   4    42   58\n",
       "0   5.0  1.0  5.0  5.0  4.0\n",
       "36  2.0  3.0  2.0  2.0  2.0\n",
       "53  3.0  4.0  3.0  3.0  3.0\n",
       "5   4.0  5.0  1.0  4.0  1.0\n",
       "38  1.0  2.0  4.0  1.0  5.0"
      ]
     },
     "execution_count": 37,
     "metadata": {},
     "output_type": "execute_result"
    }
   ],
   "source": [
    "df.rank()"
   ]
  },
  {
   "cell_type": "markdown",
   "metadata": {},
   "source": [
    "## Arithmetic Operations on DataFrames"
   ]
  },
  {
   "cell_type": "code",
   "metadata": {
    "ExecuteTime": {
     "end_time": "2024-11-25T13:15:09.466697Z",
     "start_time": "2024-11-25T13:15:09.463402Z"
    }
   },
   "source": [
    "df1 = pd.DataFrame(np.random.randn(3,2), index=['A', 'C', 'E'], columns=['colA', 'colB'])\n",
    "df1"
   ],
   "outputs": [
    {
     "data": {
      "text/plain": [
       "       colA      colB\n",
       "A -1.454366  0.815270\n",
       "C  0.229098 -1.026179\n",
       "E  0.477525  1.292698"
      ],
      "text/html": [
       "<div>\n",
       "<style scoped>\n",
       "    .dataframe tbody tr th:only-of-type {\n",
       "        vertical-align: middle;\n",
       "    }\n",
       "\n",
       "    .dataframe tbody tr th {\n",
       "        vertical-align: top;\n",
       "    }\n",
       "\n",
       "    .dataframe thead th {\n",
       "        text-align: right;\n",
       "    }\n",
       "</style>\n",
       "<table border=\"1\" class=\"dataframe\">\n",
       "  <thead>\n",
       "    <tr style=\"text-align: right;\">\n",
       "      <th></th>\n",
       "      <th>colA</th>\n",
       "      <th>colB</th>\n",
       "    </tr>\n",
       "  </thead>\n",
       "  <tbody>\n",
       "    <tr>\n",
       "      <th>A</th>\n",
       "      <td>-1.454366</td>\n",
       "      <td>0.815270</td>\n",
       "    </tr>\n",
       "    <tr>\n",
       "      <th>C</th>\n",
       "      <td>0.229098</td>\n",
       "      <td>-1.026179</td>\n",
       "    </tr>\n",
       "    <tr>\n",
       "      <th>E</th>\n",
       "      <td>0.477525</td>\n",
       "      <td>1.292698</td>\n",
       "    </tr>\n",
       "  </tbody>\n",
       "</table>\n",
       "</div>"
      ]
     },
     "execution_count": 39,
     "metadata": {},
     "output_type": "execute_result"
    }
   ],
   "execution_count": 39
  },
  {
   "cell_type": "code",
   "metadata": {
    "ExecuteTime": {
     "end_time": "2024-11-25T13:15:17.024825Z",
     "start_time": "2024-11-25T13:15:17.020833Z"
    }
   },
   "source": [
    "df2 = pd.DataFrame(np.random.randn(4,3), index=['A', 'B', 'C', 'D'], columns=['colA', 'colB', 'colC'])\n",
    "df2"
   ],
   "outputs": [
    {
     "data": {
      "text/plain": [
       "       colA      colB      colC\n",
       "A -0.731458 -1.605402  0.989476\n",
       "B  0.110815 -0.380931  0.114959\n",
       "C  0.345313 -1.734959  1.658351\n",
       "D  2.299772 -0.471135  1.262715"
      ],
      "text/html": [
       "<div>\n",
       "<style scoped>\n",
       "    .dataframe tbody tr th:only-of-type {\n",
       "        vertical-align: middle;\n",
       "    }\n",
       "\n",
       "    .dataframe tbody tr th {\n",
       "        vertical-align: top;\n",
       "    }\n",
       "\n",
       "    .dataframe thead th {\n",
       "        text-align: right;\n",
       "    }\n",
       "</style>\n",
       "<table border=\"1\" class=\"dataframe\">\n",
       "  <thead>\n",
       "    <tr style=\"text-align: right;\">\n",
       "      <th></th>\n",
       "      <th>colA</th>\n",
       "      <th>colB</th>\n",
       "      <th>colC</th>\n",
       "    </tr>\n",
       "  </thead>\n",
       "  <tbody>\n",
       "    <tr>\n",
       "      <th>A</th>\n",
       "      <td>-0.731458</td>\n",
       "      <td>-1.605402</td>\n",
       "      <td>0.989476</td>\n",
       "    </tr>\n",
       "    <tr>\n",
       "      <th>B</th>\n",
       "      <td>0.110815</td>\n",
       "      <td>-0.380931</td>\n",
       "      <td>0.114959</td>\n",
       "    </tr>\n",
       "    <tr>\n",
       "      <th>C</th>\n",
       "      <td>0.345313</td>\n",
       "      <td>-1.734959</td>\n",
       "      <td>1.658351</td>\n",
       "    </tr>\n",
       "    <tr>\n",
       "      <th>D</th>\n",
       "      <td>2.299772</td>\n",
       "      <td>-0.471135</td>\n",
       "      <td>1.262715</td>\n",
       "    </tr>\n",
       "  </tbody>\n",
       "</table>\n",
       "</div>"
      ]
     },
     "execution_count": 40,
     "metadata": {},
     "output_type": "execute_result"
    }
   ],
   "execution_count": 40
  },
  {
   "cell_type": "code",
   "metadata": {
    "ExecuteTime": {
     "end_time": "2024-11-25T13:15:35.497788Z",
     "start_time": "2024-11-25T13:15:35.491635Z"
    }
   },
   "source": [
    "df1 + df2"
   ],
   "outputs": [
    {
     "data": {
      "text/plain": [
       "       colA      colB  colC\n",
       "A -2.185824 -0.790132   NaN\n",
       "B       NaN       NaN   NaN\n",
       "C  0.574411 -2.761138   NaN\n",
       "D       NaN       NaN   NaN\n",
       "E       NaN       NaN   NaN"
      ],
      "text/html": [
       "<div>\n",
       "<style scoped>\n",
       "    .dataframe tbody tr th:only-of-type {\n",
       "        vertical-align: middle;\n",
       "    }\n",
       "\n",
       "    .dataframe tbody tr th {\n",
       "        vertical-align: top;\n",
       "    }\n",
       "\n",
       "    .dataframe thead th {\n",
       "        text-align: right;\n",
       "    }\n",
       "</style>\n",
       "<table border=\"1\" class=\"dataframe\">\n",
       "  <thead>\n",
       "    <tr style=\"text-align: right;\">\n",
       "      <th></th>\n",
       "      <th>colA</th>\n",
       "      <th>colB</th>\n",
       "      <th>colC</th>\n",
       "    </tr>\n",
       "  </thead>\n",
       "  <tbody>\n",
       "    <tr>\n",
       "      <th>A</th>\n",
       "      <td>-2.185824</td>\n",
       "      <td>-0.790132</td>\n",
       "      <td>NaN</td>\n",
       "    </tr>\n",
       "    <tr>\n",
       "      <th>B</th>\n",
       "      <td>NaN</td>\n",
       "      <td>NaN</td>\n",
       "      <td>NaN</td>\n",
       "    </tr>\n",
       "    <tr>\n",
       "      <th>C</th>\n",
       "      <td>0.574411</td>\n",
       "      <td>-2.761138</td>\n",
       "      <td>NaN</td>\n",
       "    </tr>\n",
       "    <tr>\n",
       "      <th>D</th>\n",
       "      <td>NaN</td>\n",
       "      <td>NaN</td>\n",
       "      <td>NaN</td>\n",
       "    </tr>\n",
       "    <tr>\n",
       "      <th>E</th>\n",
       "      <td>NaN</td>\n",
       "      <td>NaN</td>\n",
       "      <td>NaN</td>\n",
       "    </tr>\n",
       "  </tbody>\n",
       "</table>\n",
       "</div>"
      ]
     },
     "execution_count": 41,
     "metadata": {},
     "output_type": "execute_result"
    }
   ],
   "execution_count": 41
  },
  {
   "cell_type": "code",
   "metadata": {
    "ExecuteTime": {
     "end_time": "2024-11-25T13:15:43.245696Z",
     "start_time": "2024-11-25T13:15:43.241413Z"
    }
   },
   "source": [
    "df1.add(df2, fill_value=0)"
   ],
   "outputs": [
    {
     "data": {
      "text/plain": [
       "       colA      colB      colC\n",
       "A -2.185824 -0.790132  0.989476\n",
       "B  0.110815 -0.380931  0.114959\n",
       "C  0.574411 -2.761138  1.658351\n",
       "D  2.299772 -0.471135  1.262715\n",
       "E  0.477525  1.292698       NaN"
      ],
      "text/html": [
       "<div>\n",
       "<style scoped>\n",
       "    .dataframe tbody tr th:only-of-type {\n",
       "        vertical-align: middle;\n",
       "    }\n",
       "\n",
       "    .dataframe tbody tr th {\n",
       "        vertical-align: top;\n",
       "    }\n",
       "\n",
       "    .dataframe thead th {\n",
       "        text-align: right;\n",
       "    }\n",
       "</style>\n",
       "<table border=\"1\" class=\"dataframe\">\n",
       "  <thead>\n",
       "    <tr style=\"text-align: right;\">\n",
       "      <th></th>\n",
       "      <th>colA</th>\n",
       "      <th>colB</th>\n",
       "      <th>colC</th>\n",
       "    </tr>\n",
       "  </thead>\n",
       "  <tbody>\n",
       "    <tr>\n",
       "      <th>A</th>\n",
       "      <td>-2.185824</td>\n",
       "      <td>-0.790132</td>\n",
       "      <td>0.989476</td>\n",
       "    </tr>\n",
       "    <tr>\n",
       "      <th>B</th>\n",
       "      <td>0.110815</td>\n",
       "      <td>-0.380931</td>\n",
       "      <td>0.114959</td>\n",
       "    </tr>\n",
       "    <tr>\n",
       "      <th>C</th>\n",
       "      <td>0.574411</td>\n",
       "      <td>-2.761138</td>\n",
       "      <td>1.658351</td>\n",
       "    </tr>\n",
       "    <tr>\n",
       "      <th>D</th>\n",
       "      <td>2.299772</td>\n",
       "      <td>-0.471135</td>\n",
       "      <td>1.262715</td>\n",
       "    </tr>\n",
       "    <tr>\n",
       "      <th>E</th>\n",
       "      <td>0.477525</td>\n",
       "      <td>1.292698</td>\n",
       "      <td>NaN</td>\n",
       "    </tr>\n",
       "  </tbody>\n",
       "</table>\n",
       "</div>"
      ]
     },
     "execution_count": 42,
     "metadata": {},
     "output_type": "execute_result"
    }
   ],
   "execution_count": 42
  },
  {
   "cell_type": "code",
   "metadata": {
    "ExecuteTime": {
     "end_time": "2024-11-25T13:15:51.809580Z",
     "start_time": "2024-11-25T13:15:51.806014Z"
    }
   },
   "source": [
    "df1"
   ],
   "outputs": [
    {
     "data": {
      "text/plain": [
       "       colA      colB\n",
       "A -1.454366  0.815270\n",
       "C  0.229098 -1.026179\n",
       "E  0.477525  1.292698"
      ],
      "text/html": [
       "<div>\n",
       "<style scoped>\n",
       "    .dataframe tbody tr th:only-of-type {\n",
       "        vertical-align: middle;\n",
       "    }\n",
       "\n",
       "    .dataframe tbody tr th {\n",
       "        vertical-align: top;\n",
       "    }\n",
       "\n",
       "    .dataframe thead th {\n",
       "        text-align: right;\n",
       "    }\n",
       "</style>\n",
       "<table border=\"1\" class=\"dataframe\">\n",
       "  <thead>\n",
       "    <tr style=\"text-align: right;\">\n",
       "      <th></th>\n",
       "      <th>colA</th>\n",
       "      <th>colB</th>\n",
       "    </tr>\n",
       "  </thead>\n",
       "  <tbody>\n",
       "    <tr>\n",
       "      <th>A</th>\n",
       "      <td>-1.454366</td>\n",
       "      <td>0.815270</td>\n",
       "    </tr>\n",
       "    <tr>\n",
       "      <th>C</th>\n",
       "      <td>0.229098</td>\n",
       "      <td>-1.026179</td>\n",
       "    </tr>\n",
       "    <tr>\n",
       "      <th>E</th>\n",
       "      <td>0.477525</td>\n",
       "      <td>1.292698</td>\n",
       "    </tr>\n",
       "  </tbody>\n",
       "</table>\n",
       "</div>"
      ]
     },
     "execution_count": 43,
     "metadata": {},
     "output_type": "execute_result"
    }
   ],
   "execution_count": 43
  },
  {
   "cell_type": "code",
   "metadata": {
    "ExecuteTime": {
     "end_time": "2024-11-25T13:15:53.906423Z",
     "start_time": "2024-11-25T13:15:53.902865Z"
    }
   },
   "source": [
    "df2"
   ],
   "outputs": [
    {
     "data": {
      "text/plain": [
       "       colA      colB      colC\n",
       "A -0.731458 -1.605402  0.989476\n",
       "B  0.110815 -0.380931  0.114959\n",
       "C  0.345313 -1.734959  1.658351\n",
       "D  2.299772 -0.471135  1.262715"
      ],
      "text/html": [
       "<div>\n",
       "<style scoped>\n",
       "    .dataframe tbody tr th:only-of-type {\n",
       "        vertical-align: middle;\n",
       "    }\n",
       "\n",
       "    .dataframe tbody tr th {\n",
       "        vertical-align: top;\n",
       "    }\n",
       "\n",
       "    .dataframe thead th {\n",
       "        text-align: right;\n",
       "    }\n",
       "</style>\n",
       "<table border=\"1\" class=\"dataframe\">\n",
       "  <thead>\n",
       "    <tr style=\"text-align: right;\">\n",
       "      <th></th>\n",
       "      <th>colA</th>\n",
       "      <th>colB</th>\n",
       "      <th>colC</th>\n",
       "    </tr>\n",
       "  </thead>\n",
       "  <tbody>\n",
       "    <tr>\n",
       "      <th>A</th>\n",
       "      <td>-0.731458</td>\n",
       "      <td>-1.605402</td>\n",
       "      <td>0.989476</td>\n",
       "    </tr>\n",
       "    <tr>\n",
       "      <th>B</th>\n",
       "      <td>0.110815</td>\n",
       "      <td>-0.380931</td>\n",
       "      <td>0.114959</td>\n",
       "    </tr>\n",
       "    <tr>\n",
       "      <th>C</th>\n",
       "      <td>0.345313</td>\n",
       "      <td>-1.734959</td>\n",
       "      <td>1.658351</td>\n",
       "    </tr>\n",
       "    <tr>\n",
       "      <th>D</th>\n",
       "      <td>2.299772</td>\n",
       "      <td>-0.471135</td>\n",
       "      <td>1.262715</td>\n",
       "    </tr>\n",
       "  </tbody>\n",
       "</table>\n",
       "</div>"
      ]
     },
     "execution_count": 44,
     "metadata": {},
     "output_type": "execute_result"
    }
   ],
   "execution_count": 44
  },
  {
   "cell_type": "code",
   "metadata": {
    "ExecuteTime": {
     "end_time": "2024-11-25T13:16:07.681920Z",
     "start_time": "2024-11-25T13:16:07.677452Z"
    }
   },
   "source": [
    "df1 - df2[['colB']]"
   ],
   "outputs": [
    {
     "data": {
      "text/plain": [
       "   colA      colB\n",
       "A   NaN  2.420672\n",
       "B   NaN       NaN\n",
       "C   NaN  0.708780\n",
       "D   NaN       NaN\n",
       "E   NaN       NaN"
      ],
      "text/html": [
       "<div>\n",
       "<style scoped>\n",
       "    .dataframe tbody tr th:only-of-type {\n",
       "        vertical-align: middle;\n",
       "    }\n",
       "\n",
       "    .dataframe tbody tr th {\n",
       "        vertical-align: top;\n",
       "    }\n",
       "\n",
       "    .dataframe thead th {\n",
       "        text-align: right;\n",
       "    }\n",
       "</style>\n",
       "<table border=\"1\" class=\"dataframe\">\n",
       "  <thead>\n",
       "    <tr style=\"text-align: right;\">\n",
       "      <th></th>\n",
       "      <th>colA</th>\n",
       "      <th>colB</th>\n",
       "    </tr>\n",
       "  </thead>\n",
       "  <tbody>\n",
       "    <tr>\n",
       "      <th>A</th>\n",
       "      <td>NaN</td>\n",
       "      <td>2.420672</td>\n",
       "    </tr>\n",
       "    <tr>\n",
       "      <th>B</th>\n",
       "      <td>NaN</td>\n",
       "      <td>NaN</td>\n",
       "    </tr>\n",
       "    <tr>\n",
       "      <th>C</th>\n",
       "      <td>NaN</td>\n",
       "      <td>0.708780</td>\n",
       "    </tr>\n",
       "    <tr>\n",
       "      <th>D</th>\n",
       "      <td>NaN</td>\n",
       "      <td>NaN</td>\n",
       "    </tr>\n",
       "    <tr>\n",
       "      <th>E</th>\n",
       "      <td>NaN</td>\n",
       "      <td>NaN</td>\n",
       "    </tr>\n",
       "  </tbody>\n",
       "</table>\n",
       "</div>"
      ]
     },
     "execution_count": 45,
     "metadata": {},
     "output_type": "execute_result"
    }
   ],
   "execution_count": 45
  },
  {
   "cell_type": "markdown",
   "metadata": {},
   "source": [
    "## Merging and Combining Multiple DataFrames into a single DataFrame"
   ]
  },
  {
   "cell_type": "code",
   "metadata": {
    "ExecuteTime": {
     "end_time": "2024-11-25T13:16:14.307489Z",
     "start_time": "2024-11-25T13:16:14.303749Z"
    }
   },
   "source": [
    "df1.index.name = 'Index'\n",
    "df1.columns.name = 'Columns'\n",
    "df1"
   ],
   "outputs": [
    {
     "data": {
      "text/plain": [
       "Columns      colA      colB\n",
       "Index                      \n",
       "A       -1.454366  0.815270\n",
       "C        0.229098 -1.026179\n",
       "E        0.477525  1.292698"
      ],
      "text/html": [
       "<div>\n",
       "<style scoped>\n",
       "    .dataframe tbody tr th:only-of-type {\n",
       "        vertical-align: middle;\n",
       "    }\n",
       "\n",
       "    .dataframe tbody tr th {\n",
       "        vertical-align: top;\n",
       "    }\n",
       "\n",
       "    .dataframe thead th {\n",
       "        text-align: right;\n",
       "    }\n",
       "</style>\n",
       "<table border=\"1\" class=\"dataframe\">\n",
       "  <thead>\n",
       "    <tr style=\"text-align: right;\">\n",
       "      <th>Columns</th>\n",
       "      <th>colA</th>\n",
       "      <th>colB</th>\n",
       "    </tr>\n",
       "    <tr>\n",
       "      <th>Index</th>\n",
       "      <th></th>\n",
       "      <th></th>\n",
       "    </tr>\n",
       "  </thead>\n",
       "  <tbody>\n",
       "    <tr>\n",
       "      <th>A</th>\n",
       "      <td>-1.454366</td>\n",
       "      <td>0.815270</td>\n",
       "    </tr>\n",
       "    <tr>\n",
       "      <th>C</th>\n",
       "      <td>0.229098</td>\n",
       "      <td>-1.026179</td>\n",
       "    </tr>\n",
       "    <tr>\n",
       "      <th>E</th>\n",
       "      <td>0.477525</td>\n",
       "      <td>1.292698</td>\n",
       "    </tr>\n",
       "  </tbody>\n",
       "</table>\n",
       "</div>"
      ]
     },
     "execution_count": 46,
     "metadata": {},
     "output_type": "execute_result"
    }
   ],
   "execution_count": 46
  },
  {
   "cell_type": "code",
   "metadata": {
    "ExecuteTime": {
     "end_time": "2024-11-25T13:16:42.038229Z",
     "start_time": "2024-11-25T13:16:42.035303Z"
    }
   },
   "source": [
    "df2.index.name = 'Index'\n",
    "df2.columns.name = 'Columns'\n",
    "df2"
   ],
   "outputs": [
    {
     "data": {
      "text/plain": [
       "Columns      colA      colB      colC\n",
       "Index                                \n",
       "A       -0.731458 -1.605402  0.989476\n",
       "B        0.110815 -0.380931  0.114959\n",
       "C        0.345313 -1.734959  1.658351\n",
       "D        2.299772 -0.471135  1.262715"
      ],
      "text/html": [
       "<div>\n",
       "<style scoped>\n",
       "    .dataframe tbody tr th:only-of-type {\n",
       "        vertical-align: middle;\n",
       "    }\n",
       "\n",
       "    .dataframe tbody tr th {\n",
       "        vertical-align: top;\n",
       "    }\n",
       "\n",
       "    .dataframe thead th {\n",
       "        text-align: right;\n",
       "    }\n",
       "</style>\n",
       "<table border=\"1\" class=\"dataframe\">\n",
       "  <thead>\n",
       "    <tr style=\"text-align: right;\">\n",
       "      <th>Columns</th>\n",
       "      <th>colA</th>\n",
       "      <th>colB</th>\n",
       "      <th>colC</th>\n",
       "    </tr>\n",
       "    <tr>\n",
       "      <th>Index</th>\n",
       "      <th></th>\n",
       "      <th></th>\n",
       "      <th></th>\n",
       "    </tr>\n",
       "  </thead>\n",
       "  <tbody>\n",
       "    <tr>\n",
       "      <th>A</th>\n",
       "      <td>-0.731458</td>\n",
       "      <td>-1.605402</td>\n",
       "      <td>0.989476</td>\n",
       "    </tr>\n",
       "    <tr>\n",
       "      <th>B</th>\n",
       "      <td>0.110815</td>\n",
       "      <td>-0.380931</td>\n",
       "      <td>0.114959</td>\n",
       "    </tr>\n",
       "    <tr>\n",
       "      <th>C</th>\n",
       "      <td>0.345313</td>\n",
       "      <td>-1.734959</td>\n",
       "      <td>1.658351</td>\n",
       "    </tr>\n",
       "    <tr>\n",
       "      <th>D</th>\n",
       "      <td>2.299772</td>\n",
       "      <td>-0.471135</td>\n",
       "      <td>1.262715</td>\n",
       "    </tr>\n",
       "  </tbody>\n",
       "</table>\n",
       "</div>"
      ]
     },
     "execution_count": 48,
     "metadata": {},
     "output_type": "execute_result"
    }
   ],
   "execution_count": 48
  },
  {
   "cell_type": "code",
   "metadata": {
    "ExecuteTime": {
     "end_time": "2024-11-25T13:17:10.052013Z",
     "start_time": "2024-11-25T13:17:10.047914Z"
    }
   },
   "source": [
    "pd.merge(df1, df2, left_index=True, right_index=True)"
   ],
   "outputs": [
    {
     "data": {
      "text/plain": [
       "Columns    colA_x    colB_x    colA_y    colB_y      colC\n",
       "Index                                                    \n",
       "A       -1.454366  0.815270 -0.731458 -1.605402  0.989476\n",
       "C        0.229098 -1.026179  0.345313 -1.734959  1.658351"
      ],
      "text/html": [
       "<div>\n",
       "<style scoped>\n",
       "    .dataframe tbody tr th:only-of-type {\n",
       "        vertical-align: middle;\n",
       "    }\n",
       "\n",
       "    .dataframe tbody tr th {\n",
       "        vertical-align: top;\n",
       "    }\n",
       "\n",
       "    .dataframe thead th {\n",
       "        text-align: right;\n",
       "    }\n",
       "</style>\n",
       "<table border=\"1\" class=\"dataframe\">\n",
       "  <thead>\n",
       "    <tr style=\"text-align: right;\">\n",
       "      <th>Columns</th>\n",
       "      <th>colA_x</th>\n",
       "      <th>colB_x</th>\n",
       "      <th>colA_y</th>\n",
       "      <th>colB_y</th>\n",
       "      <th>colC</th>\n",
       "    </tr>\n",
       "    <tr>\n",
       "      <th>Index</th>\n",
       "      <th></th>\n",
       "      <th></th>\n",
       "      <th></th>\n",
       "      <th></th>\n",
       "      <th></th>\n",
       "    </tr>\n",
       "  </thead>\n",
       "  <tbody>\n",
       "    <tr>\n",
       "      <th>A</th>\n",
       "      <td>-1.454366</td>\n",
       "      <td>0.815270</td>\n",
       "      <td>-0.731458</td>\n",
       "      <td>-1.605402</td>\n",
       "      <td>0.989476</td>\n",
       "    </tr>\n",
       "    <tr>\n",
       "      <th>C</th>\n",
       "      <td>0.229098</td>\n",
       "      <td>-1.026179</td>\n",
       "      <td>0.345313</td>\n",
       "      <td>-1.734959</td>\n",
       "      <td>1.658351</td>\n",
       "    </tr>\n",
       "  </tbody>\n",
       "</table>\n",
       "</div>"
      ]
     },
     "execution_count": 49,
     "metadata": {},
     "output_type": "execute_result"
    }
   ],
   "execution_count": 49
  },
  {
   "cell_type": "code",
   "metadata": {
    "ExecuteTime": {
     "end_time": "2024-11-25T13:17:23.521325Z",
     "start_time": "2024-11-25T13:17:23.517348Z"
    }
   },
   "source": [
    "pd.merge(df1, df2, left_index=True, right_index=True, suffixes=('_1', '_2'))"
   ],
   "outputs": [
    {
     "data": {
      "text/plain": [
       "Columns    colA_1    colB_1    colA_2    colB_2      colC\n",
       "Index                                                    \n",
       "A       -1.454366  0.815270 -0.731458 -1.605402  0.989476\n",
       "C        0.229098 -1.026179  0.345313 -1.734959  1.658351"
      ],
      "text/html": [
       "<div>\n",
       "<style scoped>\n",
       "    .dataframe tbody tr th:only-of-type {\n",
       "        vertical-align: middle;\n",
       "    }\n",
       "\n",
       "    .dataframe tbody tr th {\n",
       "        vertical-align: top;\n",
       "    }\n",
       "\n",
       "    .dataframe thead th {\n",
       "        text-align: right;\n",
       "    }\n",
       "</style>\n",
       "<table border=\"1\" class=\"dataframe\">\n",
       "  <thead>\n",
       "    <tr style=\"text-align: right;\">\n",
       "      <th>Columns</th>\n",
       "      <th>colA_1</th>\n",
       "      <th>colB_1</th>\n",
       "      <th>colA_2</th>\n",
       "      <th>colB_2</th>\n",
       "      <th>colC</th>\n",
       "    </tr>\n",
       "    <tr>\n",
       "      <th>Index</th>\n",
       "      <th></th>\n",
       "      <th></th>\n",
       "      <th></th>\n",
       "      <th></th>\n",
       "      <th></th>\n",
       "    </tr>\n",
       "  </thead>\n",
       "  <tbody>\n",
       "    <tr>\n",
       "      <th>A</th>\n",
       "      <td>-1.454366</td>\n",
       "      <td>0.815270</td>\n",
       "      <td>-0.731458</td>\n",
       "      <td>-1.605402</td>\n",
       "      <td>0.989476</td>\n",
       "    </tr>\n",
       "    <tr>\n",
       "      <th>C</th>\n",
       "      <td>0.229098</td>\n",
       "      <td>-1.026179</td>\n",
       "      <td>0.345313</td>\n",
       "      <td>-1.734959</td>\n",
       "      <td>1.658351</td>\n",
       "    </tr>\n",
       "  </tbody>\n",
       "</table>\n",
       "</div>"
      ]
     },
     "execution_count": 50,
     "metadata": {},
     "output_type": "execute_result"
    }
   ],
   "execution_count": 50
  },
  {
   "cell_type": "code",
   "metadata": {
    "ExecuteTime": {
     "end_time": "2024-11-25T13:17:49.336553Z",
     "start_time": "2024-11-25T13:17:49.331790Z"
    }
   },
   "source": [
    "pd.merge(df1, df2, left_index=True, right_index=True, suffixes=('_1', '_2'), how='outer')"
   ],
   "outputs": [
    {
     "data": {
      "text/plain": [
       "Columns    colA_1    colB_1    colA_2    colB_2      colC\n",
       "Index                                                    \n",
       "A       -1.454366  0.815270 -0.731458 -1.605402  0.989476\n",
       "B             NaN       NaN  0.110815 -0.380931  0.114959\n",
       "C        0.229098 -1.026179  0.345313 -1.734959  1.658351\n",
       "D             NaN       NaN  2.299772 -0.471135  1.262715\n",
       "E        0.477525  1.292698       NaN       NaN       NaN"
      ],
      "text/html": [
       "<div>\n",
       "<style scoped>\n",
       "    .dataframe tbody tr th:only-of-type {\n",
       "        vertical-align: middle;\n",
       "    }\n",
       "\n",
       "    .dataframe tbody tr th {\n",
       "        vertical-align: top;\n",
       "    }\n",
       "\n",
       "    .dataframe thead th {\n",
       "        text-align: right;\n",
       "    }\n",
       "</style>\n",
       "<table border=\"1\" class=\"dataframe\">\n",
       "  <thead>\n",
       "    <tr style=\"text-align: right;\">\n",
       "      <th>Columns</th>\n",
       "      <th>colA_1</th>\n",
       "      <th>colB_1</th>\n",
       "      <th>colA_2</th>\n",
       "      <th>colB_2</th>\n",
       "      <th>colC</th>\n",
       "    </tr>\n",
       "    <tr>\n",
       "      <th>Index</th>\n",
       "      <th></th>\n",
       "      <th></th>\n",
       "      <th></th>\n",
       "      <th></th>\n",
       "      <th></th>\n",
       "    </tr>\n",
       "  </thead>\n",
       "  <tbody>\n",
       "    <tr>\n",
       "      <th>A</th>\n",
       "      <td>-1.454366</td>\n",
       "      <td>0.815270</td>\n",
       "      <td>-0.731458</td>\n",
       "      <td>-1.605402</td>\n",
       "      <td>0.989476</td>\n",
       "    </tr>\n",
       "    <tr>\n",
       "      <th>B</th>\n",
       "      <td>NaN</td>\n",
       "      <td>NaN</td>\n",
       "      <td>0.110815</td>\n",
       "      <td>-0.380931</td>\n",
       "      <td>0.114959</td>\n",
       "    </tr>\n",
       "    <tr>\n",
       "      <th>C</th>\n",
       "      <td>0.229098</td>\n",
       "      <td>-1.026179</td>\n",
       "      <td>0.345313</td>\n",
       "      <td>-1.734959</td>\n",
       "      <td>1.658351</td>\n",
       "    </tr>\n",
       "    <tr>\n",
       "      <th>D</th>\n",
       "      <td>NaN</td>\n",
       "      <td>NaN</td>\n",
       "      <td>2.299772</td>\n",
       "      <td>-0.471135</td>\n",
       "      <td>1.262715</td>\n",
       "    </tr>\n",
       "    <tr>\n",
       "      <th>E</th>\n",
       "      <td>0.477525</td>\n",
       "      <td>1.292698</td>\n",
       "      <td>NaN</td>\n",
       "      <td>NaN</td>\n",
       "      <td>NaN</td>\n",
       "    </tr>\n",
       "  </tbody>\n",
       "</table>\n",
       "</div>"
      ]
     },
     "execution_count": 51,
     "metadata": {},
     "output_type": "execute_result"
    }
   ],
   "execution_count": 51
  },
  {
   "cell_type": "code",
   "metadata": {
    "ExecuteTime": {
     "end_time": "2024-11-25T13:17:51.152199Z",
     "start_time": "2024-11-25T13:17:51.147766Z"
    }
   },
   "source": [
    "df1.merge(df2, left_index=True, right_index=True, suffixes=('_1', '_2'), how='outer')"
   ],
   "outputs": [
    {
     "data": {
      "text/plain": [
       "Columns    colA_1    colB_1    colA_2    colB_2      colC\n",
       "Index                                                    \n",
       "A       -1.454366  0.815270 -0.731458 -1.605402  0.989476\n",
       "B             NaN       NaN  0.110815 -0.380931  0.114959\n",
       "C        0.229098 -1.026179  0.345313 -1.734959  1.658351\n",
       "D             NaN       NaN  2.299772 -0.471135  1.262715\n",
       "E        0.477525  1.292698       NaN       NaN       NaN"
      ],
      "text/html": [
       "<div>\n",
       "<style scoped>\n",
       "    .dataframe tbody tr th:only-of-type {\n",
       "        vertical-align: middle;\n",
       "    }\n",
       "\n",
       "    .dataframe tbody tr th {\n",
       "        vertical-align: top;\n",
       "    }\n",
       "\n",
       "    .dataframe thead th {\n",
       "        text-align: right;\n",
       "    }\n",
       "</style>\n",
       "<table border=\"1\" class=\"dataframe\">\n",
       "  <thead>\n",
       "    <tr style=\"text-align: right;\">\n",
       "      <th>Columns</th>\n",
       "      <th>colA_1</th>\n",
       "      <th>colB_1</th>\n",
       "      <th>colA_2</th>\n",
       "      <th>colB_2</th>\n",
       "      <th>colC</th>\n",
       "    </tr>\n",
       "    <tr>\n",
       "      <th>Index</th>\n",
       "      <th></th>\n",
       "      <th></th>\n",
       "      <th></th>\n",
       "      <th></th>\n",
       "      <th></th>\n",
       "    </tr>\n",
       "  </thead>\n",
       "  <tbody>\n",
       "    <tr>\n",
       "      <th>A</th>\n",
       "      <td>-1.454366</td>\n",
       "      <td>0.815270</td>\n",
       "      <td>-0.731458</td>\n",
       "      <td>-1.605402</td>\n",
       "      <td>0.989476</td>\n",
       "    </tr>\n",
       "    <tr>\n",
       "      <th>B</th>\n",
       "      <td>NaN</td>\n",
       "      <td>NaN</td>\n",
       "      <td>0.110815</td>\n",
       "      <td>-0.380931</td>\n",
       "      <td>0.114959</td>\n",
       "    </tr>\n",
       "    <tr>\n",
       "      <th>C</th>\n",
       "      <td>0.229098</td>\n",
       "      <td>-1.026179</td>\n",
       "      <td>0.345313</td>\n",
       "      <td>-1.734959</td>\n",
       "      <td>1.658351</td>\n",
       "    </tr>\n",
       "    <tr>\n",
       "      <th>D</th>\n",
       "      <td>NaN</td>\n",
       "      <td>NaN</td>\n",
       "      <td>2.299772</td>\n",
       "      <td>-0.471135</td>\n",
       "      <td>1.262715</td>\n",
       "    </tr>\n",
       "    <tr>\n",
       "      <th>E</th>\n",
       "      <td>0.477525</td>\n",
       "      <td>1.292698</td>\n",
       "      <td>NaN</td>\n",
       "      <td>NaN</td>\n",
       "      <td>NaN</td>\n",
       "    </tr>\n",
       "  </tbody>\n",
       "</table>\n",
       "</div>"
      ]
     },
     "execution_count": 52,
     "metadata": {},
     "output_type": "execute_result"
    }
   ],
   "execution_count": 52
  },
  {
   "cell_type": "code",
   "metadata": {
    "ExecuteTime": {
     "end_time": "2024-11-25T13:17:54.783747Z",
     "start_time": "2024-11-25T13:17:54.778561Z"
    }
   },
   "source": [
    "df1.join(df2, lsuffix='_1', rsuffix='_2')"
   ],
   "outputs": [
    {
     "data": {
      "text/plain": [
       "Columns    colA_1    colB_1    colA_2    colB_2      colC\n",
       "Index                                                    \n",
       "A       -1.454366  0.815270 -0.731458 -1.605402  0.989476\n",
       "C        0.229098 -1.026179  0.345313 -1.734959  1.658351\n",
       "E        0.477525  1.292698       NaN       NaN       NaN"
      ],
      "text/html": [
       "<div>\n",
       "<style scoped>\n",
       "    .dataframe tbody tr th:only-of-type {\n",
       "        vertical-align: middle;\n",
       "    }\n",
       "\n",
       "    .dataframe tbody tr th {\n",
       "        vertical-align: top;\n",
       "    }\n",
       "\n",
       "    .dataframe thead th {\n",
       "        text-align: right;\n",
       "    }\n",
       "</style>\n",
       "<table border=\"1\" class=\"dataframe\">\n",
       "  <thead>\n",
       "    <tr style=\"text-align: right;\">\n",
       "      <th>Columns</th>\n",
       "      <th>colA_1</th>\n",
       "      <th>colB_1</th>\n",
       "      <th>colA_2</th>\n",
       "      <th>colB_2</th>\n",
       "      <th>colC</th>\n",
       "    </tr>\n",
       "    <tr>\n",
       "      <th>Index</th>\n",
       "      <th></th>\n",
       "      <th></th>\n",
       "      <th></th>\n",
       "      <th></th>\n",
       "      <th></th>\n",
       "    </tr>\n",
       "  </thead>\n",
       "  <tbody>\n",
       "    <tr>\n",
       "      <th>A</th>\n",
       "      <td>-1.454366</td>\n",
       "      <td>0.815270</td>\n",
       "      <td>-0.731458</td>\n",
       "      <td>-1.605402</td>\n",
       "      <td>0.989476</td>\n",
       "    </tr>\n",
       "    <tr>\n",
       "      <th>C</th>\n",
       "      <td>0.229098</td>\n",
       "      <td>-1.026179</td>\n",
       "      <td>0.345313</td>\n",
       "      <td>-1.734959</td>\n",
       "      <td>1.658351</td>\n",
       "    </tr>\n",
       "    <tr>\n",
       "      <th>E</th>\n",
       "      <td>0.477525</td>\n",
       "      <td>1.292698</td>\n",
       "      <td>NaN</td>\n",
       "      <td>NaN</td>\n",
       "      <td>NaN</td>\n",
       "    </tr>\n",
       "  </tbody>\n",
       "</table>\n",
       "</div>"
      ]
     },
     "execution_count": 53,
     "metadata": {},
     "output_type": "execute_result"
    }
   ],
   "execution_count": 53
  },
  {
   "cell_type": "code",
   "metadata": {
    "ExecuteTime": {
     "end_time": "2024-11-25T13:17:57.615768Z",
     "start_time": "2024-11-25T13:17:57.611077Z"
    }
   },
   "source": [
    "pd.concat([df1, df2])"
   ],
   "outputs": [
    {
     "data": {
      "text/plain": [
       "Columns      colA      colB      colC\n",
       "Index                                \n",
       "A       -1.454366  0.815270       NaN\n",
       "C        0.229098 -1.026179       NaN\n",
       "E        0.477525  1.292698       NaN\n",
       "A       -0.731458 -1.605402  0.989476\n",
       "B        0.110815 -0.380931  0.114959\n",
       "C        0.345313 -1.734959  1.658351\n",
       "D        2.299772 -0.471135  1.262715"
      ],
      "text/html": [
       "<div>\n",
       "<style scoped>\n",
       "    .dataframe tbody tr th:only-of-type {\n",
       "        vertical-align: middle;\n",
       "    }\n",
       "\n",
       "    .dataframe tbody tr th {\n",
       "        vertical-align: top;\n",
       "    }\n",
       "\n",
       "    .dataframe thead th {\n",
       "        text-align: right;\n",
       "    }\n",
       "</style>\n",
       "<table border=\"1\" class=\"dataframe\">\n",
       "  <thead>\n",
       "    <tr style=\"text-align: right;\">\n",
       "      <th>Columns</th>\n",
       "      <th>colA</th>\n",
       "      <th>colB</th>\n",
       "      <th>colC</th>\n",
       "    </tr>\n",
       "    <tr>\n",
       "      <th>Index</th>\n",
       "      <th></th>\n",
       "      <th></th>\n",
       "      <th></th>\n",
       "    </tr>\n",
       "  </thead>\n",
       "  <tbody>\n",
       "    <tr>\n",
       "      <th>A</th>\n",
       "      <td>-1.454366</td>\n",
       "      <td>0.815270</td>\n",
       "      <td>NaN</td>\n",
       "    </tr>\n",
       "    <tr>\n",
       "      <th>C</th>\n",
       "      <td>0.229098</td>\n",
       "      <td>-1.026179</td>\n",
       "      <td>NaN</td>\n",
       "    </tr>\n",
       "    <tr>\n",
       "      <th>E</th>\n",
       "      <td>0.477525</td>\n",
       "      <td>1.292698</td>\n",
       "      <td>NaN</td>\n",
       "    </tr>\n",
       "    <tr>\n",
       "      <th>A</th>\n",
       "      <td>-0.731458</td>\n",
       "      <td>-1.605402</td>\n",
       "      <td>0.989476</td>\n",
       "    </tr>\n",
       "    <tr>\n",
       "      <th>B</th>\n",
       "      <td>0.110815</td>\n",
       "      <td>-0.380931</td>\n",
       "      <td>0.114959</td>\n",
       "    </tr>\n",
       "    <tr>\n",
       "      <th>C</th>\n",
       "      <td>0.345313</td>\n",
       "      <td>-1.734959</td>\n",
       "      <td>1.658351</td>\n",
       "    </tr>\n",
       "    <tr>\n",
       "      <th>D</th>\n",
       "      <td>2.299772</td>\n",
       "      <td>-0.471135</td>\n",
       "      <td>1.262715</td>\n",
       "    </tr>\n",
       "  </tbody>\n",
       "</table>\n",
       "</div>"
      ]
     },
     "execution_count": 54,
     "metadata": {},
     "output_type": "execute_result"
    }
   ],
   "execution_count": 54
  },
  {
   "cell_type": "code",
   "metadata": {
    "ExecuteTime": {
     "end_time": "2024-11-25T13:18:00.016082Z",
     "start_time": "2024-11-25T13:18:00.011724Z"
    }
   },
   "source": [
    "pd.concat([df1, df2], axis=1)"
   ],
   "outputs": [
    {
     "data": {
      "text/plain": [
       "Columns      colA      colB      colA      colB      colC\n",
       "Index                                                    \n",
       "A       -1.454366  0.815270 -0.731458 -1.605402  0.989476\n",
       "C        0.229098 -1.026179  0.345313 -1.734959  1.658351\n",
       "E        0.477525  1.292698       NaN       NaN       NaN\n",
       "B             NaN       NaN  0.110815 -0.380931  0.114959\n",
       "D             NaN       NaN  2.299772 -0.471135  1.262715"
      ],
      "text/html": [
       "<div>\n",
       "<style scoped>\n",
       "    .dataframe tbody tr th:only-of-type {\n",
       "        vertical-align: middle;\n",
       "    }\n",
       "\n",
       "    .dataframe tbody tr th {\n",
       "        vertical-align: top;\n",
       "    }\n",
       "\n",
       "    .dataframe thead th {\n",
       "        text-align: right;\n",
       "    }\n",
       "</style>\n",
       "<table border=\"1\" class=\"dataframe\">\n",
       "  <thead>\n",
       "    <tr style=\"text-align: right;\">\n",
       "      <th>Columns</th>\n",
       "      <th>colA</th>\n",
       "      <th>colB</th>\n",
       "      <th>colA</th>\n",
       "      <th>colB</th>\n",
       "      <th>colC</th>\n",
       "    </tr>\n",
       "    <tr>\n",
       "      <th>Index</th>\n",
       "      <th></th>\n",
       "      <th></th>\n",
       "      <th></th>\n",
       "      <th></th>\n",
       "      <th></th>\n",
       "    </tr>\n",
       "  </thead>\n",
       "  <tbody>\n",
       "    <tr>\n",
       "      <th>A</th>\n",
       "      <td>-1.454366</td>\n",
       "      <td>0.815270</td>\n",
       "      <td>-0.731458</td>\n",
       "      <td>-1.605402</td>\n",
       "      <td>0.989476</td>\n",
       "    </tr>\n",
       "    <tr>\n",
       "      <th>C</th>\n",
       "      <td>0.229098</td>\n",
       "      <td>-1.026179</td>\n",
       "      <td>0.345313</td>\n",
       "      <td>-1.734959</td>\n",
       "      <td>1.658351</td>\n",
       "    </tr>\n",
       "    <tr>\n",
       "      <th>E</th>\n",
       "      <td>0.477525</td>\n",
       "      <td>1.292698</td>\n",
       "      <td>NaN</td>\n",
       "      <td>NaN</td>\n",
       "      <td>NaN</td>\n",
       "    </tr>\n",
       "    <tr>\n",
       "      <th>B</th>\n",
       "      <td>NaN</td>\n",
       "      <td>NaN</td>\n",
       "      <td>0.110815</td>\n",
       "      <td>-0.380931</td>\n",
       "      <td>0.114959</td>\n",
       "    </tr>\n",
       "    <tr>\n",
       "      <th>D</th>\n",
       "      <td>NaN</td>\n",
       "      <td>NaN</td>\n",
       "      <td>2.299772</td>\n",
       "      <td>-0.471135</td>\n",
       "      <td>1.262715</td>\n",
       "    </tr>\n",
       "  </tbody>\n",
       "</table>\n",
       "</div>"
      ]
     },
     "execution_count": 55,
     "metadata": {},
     "output_type": "execute_result"
    }
   ],
   "execution_count": 55
  },
  {
   "cell_type": "code",
   "metadata": {
    "ExecuteTime": {
     "end_time": "2024-11-25T13:18:10.985057Z",
     "start_time": "2024-11-25T13:18:10.981584Z"
    }
   },
   "source": [
    "pd.concat([df1, df2], ignore_index=True)"
   ],
   "outputs": [
    {
     "data": {
      "text/plain": [
       "Columns      colA      colB      colC\n",
       "0       -1.454366  0.815270       NaN\n",
       "1        0.229098 -1.026179       NaN\n",
       "2        0.477525  1.292698       NaN\n",
       "3       -0.731458 -1.605402  0.989476\n",
       "4        0.110815 -0.380931  0.114959\n",
       "5        0.345313 -1.734959  1.658351\n",
       "6        2.299772 -0.471135  1.262715"
      ],
      "text/html": [
       "<div>\n",
       "<style scoped>\n",
       "    .dataframe tbody tr th:only-of-type {\n",
       "        vertical-align: middle;\n",
       "    }\n",
       "\n",
       "    .dataframe tbody tr th {\n",
       "        vertical-align: top;\n",
       "    }\n",
       "\n",
       "    .dataframe thead th {\n",
       "        text-align: right;\n",
       "    }\n",
       "</style>\n",
       "<table border=\"1\" class=\"dataframe\">\n",
       "  <thead>\n",
       "    <tr style=\"text-align: right;\">\n",
       "      <th>Columns</th>\n",
       "      <th>colA</th>\n",
       "      <th>colB</th>\n",
       "      <th>colC</th>\n",
       "    </tr>\n",
       "  </thead>\n",
       "  <tbody>\n",
       "    <tr>\n",
       "      <th>0</th>\n",
       "      <td>-1.454366</td>\n",
       "      <td>0.815270</td>\n",
       "      <td>NaN</td>\n",
       "    </tr>\n",
       "    <tr>\n",
       "      <th>1</th>\n",
       "      <td>0.229098</td>\n",
       "      <td>-1.026179</td>\n",
       "      <td>NaN</td>\n",
       "    </tr>\n",
       "    <tr>\n",
       "      <th>2</th>\n",
       "      <td>0.477525</td>\n",
       "      <td>1.292698</td>\n",
       "      <td>NaN</td>\n",
       "    </tr>\n",
       "    <tr>\n",
       "      <th>3</th>\n",
       "      <td>-0.731458</td>\n",
       "      <td>-1.605402</td>\n",
       "      <td>0.989476</td>\n",
       "    </tr>\n",
       "    <tr>\n",
       "      <th>4</th>\n",
       "      <td>0.110815</td>\n",
       "      <td>-0.380931</td>\n",
       "      <td>0.114959</td>\n",
       "    </tr>\n",
       "    <tr>\n",
       "      <th>5</th>\n",
       "      <td>0.345313</td>\n",
       "      <td>-1.734959</td>\n",
       "      <td>1.658351</td>\n",
       "    </tr>\n",
       "    <tr>\n",
       "      <th>6</th>\n",
       "      <td>2.299772</td>\n",
       "      <td>-0.471135</td>\n",
       "      <td>1.262715</td>\n",
       "    </tr>\n",
       "  </tbody>\n",
       "</table>\n",
       "</div>"
      ]
     },
     "execution_count": 56,
     "metadata": {},
     "output_type": "execute_result"
    }
   ],
   "execution_count": 56
  },
  {
   "cell_type": "markdown",
   "metadata": {},
   "source": [
    "## Hierarchial indexing"
   ]
  },
  {
   "cell_type": "code",
   "metadata": {
    "ExecuteTime": {
     "end_time": "2024-11-25T13:18:38.255060Z",
     "start_time": "2024-11-25T13:18:38.248343Z"
    }
   },
   "source": [
    "df = pd.DataFrame(np.random.randn(10, 2), index=[list('aaabbbccdd'), [1, 2, 3, 1, 2, 3, 1, 2, 1, 2]], columns=['A', 'B'])\n",
    "df"
   ],
   "outputs": [
    {
     "data": {
      "text/plain": [
       "            A         B\n",
       "a 1 -1.170515  1.065789\n",
       "  2 -0.699937  0.144079\n",
       "  3  0.398542  0.026869\n",
       "b 1  1.055837 -0.073183\n",
       "  2 -0.665721 -0.044112\n",
       "  3 -0.363267 -0.012345\n",
       "c 1  0.042121  1.959296\n",
       "  2 -0.198426  0.330534\n",
       "d 1 -1.435828  0.027528\n",
       "  2  1.120605 -0.224039"
      ],
      "text/html": [
       "<div>\n",
       "<style scoped>\n",
       "    .dataframe tbody tr th:only-of-type {\n",
       "        vertical-align: middle;\n",
       "    }\n",
       "\n",
       "    .dataframe tbody tr th {\n",
       "        vertical-align: top;\n",
       "    }\n",
       "\n",
       "    .dataframe thead th {\n",
       "        text-align: right;\n",
       "    }\n",
       "</style>\n",
       "<table border=\"1\" class=\"dataframe\">\n",
       "  <thead>\n",
       "    <tr style=\"text-align: right;\">\n",
       "      <th></th>\n",
       "      <th></th>\n",
       "      <th>A</th>\n",
       "      <th>B</th>\n",
       "    </tr>\n",
       "  </thead>\n",
       "  <tbody>\n",
       "    <tr>\n",
       "      <th rowspan=\"3\" valign=\"top\">a</th>\n",
       "      <th>1</th>\n",
       "      <td>-1.170515</td>\n",
       "      <td>1.065789</td>\n",
       "    </tr>\n",
       "    <tr>\n",
       "      <th>2</th>\n",
       "      <td>-0.699937</td>\n",
       "      <td>0.144079</td>\n",
       "    </tr>\n",
       "    <tr>\n",
       "      <th>3</th>\n",
       "      <td>0.398542</td>\n",
       "      <td>0.026869</td>\n",
       "    </tr>\n",
       "    <tr>\n",
       "      <th rowspan=\"3\" valign=\"top\">b</th>\n",
       "      <th>1</th>\n",
       "      <td>1.055837</td>\n",
       "      <td>-0.073183</td>\n",
       "    </tr>\n",
       "    <tr>\n",
       "      <th>2</th>\n",
       "      <td>-0.665721</td>\n",
       "      <td>-0.044112</td>\n",
       "    </tr>\n",
       "    <tr>\n",
       "      <th>3</th>\n",
       "      <td>-0.363267</td>\n",
       "      <td>-0.012345</td>\n",
       "    </tr>\n",
       "    <tr>\n",
       "      <th rowspan=\"2\" valign=\"top\">c</th>\n",
       "      <th>1</th>\n",
       "      <td>0.042121</td>\n",
       "      <td>1.959296</td>\n",
       "    </tr>\n",
       "    <tr>\n",
       "      <th>2</th>\n",
       "      <td>-0.198426</td>\n",
       "      <td>0.330534</td>\n",
       "    </tr>\n",
       "    <tr>\n",
       "      <th rowspan=\"2\" valign=\"top\">d</th>\n",
       "      <th>1</th>\n",
       "      <td>-1.435828</td>\n",
       "      <td>0.027528</td>\n",
       "    </tr>\n",
       "    <tr>\n",
       "      <th>2</th>\n",
       "      <td>1.120605</td>\n",
       "      <td>-0.224039</td>\n",
       "    </tr>\n",
       "  </tbody>\n",
       "</table>\n",
       "</div>"
      ]
     },
     "execution_count": 57,
     "metadata": {},
     "output_type": "execute_result"
    }
   ],
   "execution_count": 57
  },
  {
   "cell_type": "code",
   "metadata": {
    "ExecuteTime": {
     "end_time": "2024-11-25T13:18:49.860282Z",
     "start_time": "2024-11-25T13:18:49.856343Z"
    }
   },
   "source": [
    "df.index.names = ['alpha', 'numeric']\n",
    "df"
   ],
   "outputs": [
    {
     "data": {
      "text/plain": [
       "                      A         B\n",
       "alpha numeric                    \n",
       "a     1       -1.170515  1.065789\n",
       "      2       -0.699937  0.144079\n",
       "      3        0.398542  0.026869\n",
       "b     1        1.055837 -0.073183\n",
       "      2       -0.665721 -0.044112\n",
       "      3       -0.363267 -0.012345\n",
       "c     1        0.042121  1.959296\n",
       "      2       -0.198426  0.330534\n",
       "d     1       -1.435828  0.027528\n",
       "      2        1.120605 -0.224039"
      ],
      "text/html": [
       "<div>\n",
       "<style scoped>\n",
       "    .dataframe tbody tr th:only-of-type {\n",
       "        vertical-align: middle;\n",
       "    }\n",
       "\n",
       "    .dataframe tbody tr th {\n",
       "        vertical-align: top;\n",
       "    }\n",
       "\n",
       "    .dataframe thead th {\n",
       "        text-align: right;\n",
       "    }\n",
       "</style>\n",
       "<table border=\"1\" class=\"dataframe\">\n",
       "  <thead>\n",
       "    <tr style=\"text-align: right;\">\n",
       "      <th></th>\n",
       "      <th></th>\n",
       "      <th>A</th>\n",
       "      <th>B</th>\n",
       "    </tr>\n",
       "    <tr>\n",
       "      <th>alpha</th>\n",
       "      <th>numeric</th>\n",
       "      <th></th>\n",
       "      <th></th>\n",
       "    </tr>\n",
       "  </thead>\n",
       "  <tbody>\n",
       "    <tr>\n",
       "      <th rowspan=\"3\" valign=\"top\">a</th>\n",
       "      <th>1</th>\n",
       "      <td>-1.170515</td>\n",
       "      <td>1.065789</td>\n",
       "    </tr>\n",
       "    <tr>\n",
       "      <th>2</th>\n",
       "      <td>-0.699937</td>\n",
       "      <td>0.144079</td>\n",
       "    </tr>\n",
       "    <tr>\n",
       "      <th>3</th>\n",
       "      <td>0.398542</td>\n",
       "      <td>0.026869</td>\n",
       "    </tr>\n",
       "    <tr>\n",
       "      <th rowspan=\"3\" valign=\"top\">b</th>\n",
       "      <th>1</th>\n",
       "      <td>1.055837</td>\n",
       "      <td>-0.073183</td>\n",
       "    </tr>\n",
       "    <tr>\n",
       "      <th>2</th>\n",
       "      <td>-0.665721</td>\n",
       "      <td>-0.044112</td>\n",
       "    </tr>\n",
       "    <tr>\n",
       "      <th>3</th>\n",
       "      <td>-0.363267</td>\n",
       "      <td>-0.012345</td>\n",
       "    </tr>\n",
       "    <tr>\n",
       "      <th rowspan=\"2\" valign=\"top\">c</th>\n",
       "      <th>1</th>\n",
       "      <td>0.042121</td>\n",
       "      <td>1.959296</td>\n",
       "    </tr>\n",
       "    <tr>\n",
       "      <th>2</th>\n",
       "      <td>-0.198426</td>\n",
       "      <td>0.330534</td>\n",
       "    </tr>\n",
       "    <tr>\n",
       "      <th rowspan=\"2\" valign=\"top\">d</th>\n",
       "      <th>1</th>\n",
       "      <td>-1.435828</td>\n",
       "      <td>0.027528</td>\n",
       "    </tr>\n",
       "    <tr>\n",
       "      <th>2</th>\n",
       "      <td>1.120605</td>\n",
       "      <td>-0.224039</td>\n",
       "    </tr>\n",
       "  </tbody>\n",
       "</table>\n",
       "</div>"
      ]
     },
     "execution_count": 58,
     "metadata": {},
     "output_type": "execute_result"
    }
   ],
   "execution_count": 58
  },
  {
   "cell_type": "code",
   "execution_count": 57,
   "metadata": {},
   "outputs": [
    {
     "data": {
      "text/html": [
       "<div>\n",
       "<style scoped>\n",
       "    .dataframe tbody tr th:only-of-type {\n",
       "        vertical-align: middle;\n",
       "    }\n",
       "\n",
       "    .dataframe tbody tr th {\n",
       "        vertical-align: top;\n",
       "    }\n",
       "\n",
       "    .dataframe thead th {\n",
       "        text-align: right;\n",
       "    }\n",
       "</style>\n",
       "<table border=\"1\" class=\"dataframe\">\n",
       "  <thead>\n",
       "    <tr style=\"text-align: right;\">\n",
       "      <th></th>\n",
       "      <th>alpha</th>\n",
       "      <th>numeric</th>\n",
       "      <th>A</th>\n",
       "      <th>B</th>\n",
       "    </tr>\n",
       "  </thead>\n",
       "  <tbody>\n",
       "    <tr>\n",
       "      <th>0</th>\n",
       "      <td>a</td>\n",
       "      <td>1</td>\n",
       "      <td>-1.170515</td>\n",
       "      <td>1.065789</td>\n",
       "    </tr>\n",
       "    <tr>\n",
       "      <th>1</th>\n",
       "      <td>a</td>\n",
       "      <td>2</td>\n",
       "      <td>-0.699937</td>\n",
       "      <td>0.144079</td>\n",
       "    </tr>\n",
       "    <tr>\n",
       "      <th>2</th>\n",
       "      <td>a</td>\n",
       "      <td>3</td>\n",
       "      <td>0.398542</td>\n",
       "      <td>0.026869</td>\n",
       "    </tr>\n",
       "    <tr>\n",
       "      <th>3</th>\n",
       "      <td>b</td>\n",
       "      <td>1</td>\n",
       "      <td>1.055837</td>\n",
       "      <td>-0.073183</td>\n",
       "    </tr>\n",
       "    <tr>\n",
       "      <th>4</th>\n",
       "      <td>b</td>\n",
       "      <td>2</td>\n",
       "      <td>-0.665721</td>\n",
       "      <td>-0.044112</td>\n",
       "    </tr>\n",
       "    <tr>\n",
       "      <th>5</th>\n",
       "      <td>b</td>\n",
       "      <td>3</td>\n",
       "      <td>-0.363267</td>\n",
       "      <td>-0.012345</td>\n",
       "    </tr>\n",
       "    <tr>\n",
       "      <th>6</th>\n",
       "      <td>c</td>\n",
       "      <td>1</td>\n",
       "      <td>0.042121</td>\n",
       "      <td>1.959296</td>\n",
       "    </tr>\n",
       "    <tr>\n",
       "      <th>7</th>\n",
       "      <td>c</td>\n",
       "      <td>2</td>\n",
       "      <td>-0.198426</td>\n",
       "      <td>0.330534</td>\n",
       "    </tr>\n",
       "    <tr>\n",
       "      <th>8</th>\n",
       "      <td>d</td>\n",
       "      <td>1</td>\n",
       "      <td>-1.435828</td>\n",
       "      <td>0.027528</td>\n",
       "    </tr>\n",
       "    <tr>\n",
       "      <th>9</th>\n",
       "      <td>d</td>\n",
       "      <td>2</td>\n",
       "      <td>1.120605</td>\n",
       "      <td>-0.224039</td>\n",
       "    </tr>\n",
       "  </tbody>\n",
       "</table>\n",
       "</div>"
      ],
      "text/plain": [
       "  alpha  numeric         A         B\n",
       "0     a        1 -1.170515  1.065789\n",
       "1     a        2 -0.699937  0.144079\n",
       "2     a        3  0.398542  0.026869\n",
       "3     b        1  1.055837 -0.073183\n",
       "4     b        2 -0.665721 -0.044112\n",
       "5     b        3 -0.363267 -0.012345\n",
       "6     c        1  0.042121  1.959296\n",
       "7     c        2 -0.198426  0.330534\n",
       "8     d        1 -1.435828  0.027528\n",
       "9     d        2  1.120605 -0.224039"
      ]
     },
     "execution_count": 57,
     "metadata": {},
     "output_type": "execute_result"
    }
   ],
   "source": [
    "df.reset_index()"
   ]
  },
  {
   "cell_type": "code",
   "execution_count": 58,
   "metadata": {},
   "outputs": [
    {
     "data": {
      "text/html": [
       "<div>\n",
       "<style scoped>\n",
       "    .dataframe tbody tr th:only-of-type {\n",
       "        vertical-align: middle;\n",
       "    }\n",
       "\n",
       "    .dataframe tbody tr th {\n",
       "        vertical-align: top;\n",
       "    }\n",
       "\n",
       "    .dataframe thead tr th {\n",
       "        text-align: left;\n",
       "    }\n",
       "\n",
       "    .dataframe thead tr:last-of-type th {\n",
       "        text-align: right;\n",
       "    }\n",
       "</style>\n",
       "<table border=\"1\" class=\"dataframe\">\n",
       "  <thead>\n",
       "    <tr>\n",
       "      <th></th>\n",
       "      <th colspan=\"3\" halign=\"left\">A</th>\n",
       "      <th colspan=\"3\" halign=\"left\">B</th>\n",
       "    </tr>\n",
       "    <tr>\n",
       "      <th>numeric</th>\n",
       "      <th>1</th>\n",
       "      <th>2</th>\n",
       "      <th>3</th>\n",
       "      <th>1</th>\n",
       "      <th>2</th>\n",
       "      <th>3</th>\n",
       "    </tr>\n",
       "    <tr>\n",
       "      <th>alpha</th>\n",
       "      <th></th>\n",
       "      <th></th>\n",
       "      <th></th>\n",
       "      <th></th>\n",
       "      <th></th>\n",
       "      <th></th>\n",
       "    </tr>\n",
       "  </thead>\n",
       "  <tbody>\n",
       "    <tr>\n",
       "      <th>a</th>\n",
       "      <td>-1.170515</td>\n",
       "      <td>-0.699937</td>\n",
       "      <td>0.398542</td>\n",
       "      <td>1.065789</td>\n",
       "      <td>0.144079</td>\n",
       "      <td>0.026869</td>\n",
       "    </tr>\n",
       "    <tr>\n",
       "      <th>b</th>\n",
       "      <td>1.055837</td>\n",
       "      <td>-0.665721</td>\n",
       "      <td>-0.363267</td>\n",
       "      <td>-0.073183</td>\n",
       "      <td>-0.044112</td>\n",
       "      <td>-0.012345</td>\n",
       "    </tr>\n",
       "    <tr>\n",
       "      <th>c</th>\n",
       "      <td>0.042121</td>\n",
       "      <td>-0.198426</td>\n",
       "      <td>NaN</td>\n",
       "      <td>1.959296</td>\n",
       "      <td>0.330534</td>\n",
       "      <td>NaN</td>\n",
       "    </tr>\n",
       "    <tr>\n",
       "      <th>d</th>\n",
       "      <td>-1.435828</td>\n",
       "      <td>1.120605</td>\n",
       "      <td>NaN</td>\n",
       "      <td>0.027528</td>\n",
       "      <td>-0.224039</td>\n",
       "      <td>NaN</td>\n",
       "    </tr>\n",
       "  </tbody>\n",
       "</table>\n",
       "</div>"
      ],
      "text/plain": [
       "                A                             B                    \n",
       "numeric         1         2         3         1         2         3\n",
       "alpha                                                              \n",
       "a       -1.170515 -0.699937  0.398542  1.065789  0.144079  0.026869\n",
       "b        1.055837 -0.665721 -0.363267 -0.073183 -0.044112 -0.012345\n",
       "c        0.042121 -0.198426       NaN  1.959296  0.330534       NaN\n",
       "d       -1.435828  1.120605       NaN  0.027528 -0.224039       NaN"
      ]
     },
     "execution_count": 58,
     "metadata": {},
     "output_type": "execute_result"
    }
   ],
   "source": [
    "df.unstack()"
   ]
  },
  {
   "cell_type": "code",
   "metadata": {
    "ExecuteTime": {
     "end_time": "2024-11-25T13:21:32.014954Z",
     "start_time": "2024-11-25T13:21:32.010822Z"
    }
   },
   "source": [
    "df.stack()"
   ],
   "outputs": [
    {
     "data": {
      "text/plain": [
       "alpha  numeric   \n",
       "a      1        A   -1.170515\n",
       "                B    1.065789\n",
       "       2        A   -0.699937\n",
       "                B    0.144079\n",
       "       3        A    0.398542\n",
       "                B    0.026869\n",
       "b      1        A    1.055837\n",
       "                B   -0.073183\n",
       "       2        A   -0.665721\n",
       "                B   -0.044112\n",
       "       3        A   -0.363267\n",
       "                B   -0.012345\n",
       "c      1        A    0.042121\n",
       "                B    1.959296\n",
       "       2        A   -0.198426\n",
       "                B    0.330534\n",
       "d      1        A   -1.435828\n",
       "                B    0.027528\n",
       "       2        A    1.120605\n",
       "                B   -0.224039\n",
       "dtype: float64"
      ]
     },
     "execution_count": 59,
     "metadata": {},
     "output_type": "execute_result"
    }
   ],
   "execution_count": 59
  },
  {
   "cell_type": "code",
   "metadata": {
    "ExecuteTime": {
     "end_time": "2024-11-25T13:21:37.180494Z",
     "start_time": "2024-11-25T13:21:37.177721Z"
    }
   },
   "source": [
    "df.stack().index"
   ],
   "outputs": [
    {
     "data": {
      "text/plain": [
       "MultiIndex([('a', 1, 'A'),\n",
       "            ('a', 1, 'B'),\n",
       "            ('a', 2, 'A'),\n",
       "            ('a', 2, 'B'),\n",
       "            ('a', 3, 'A'),\n",
       "            ('a', 3, 'B'),\n",
       "            ('b', 1, 'A'),\n",
       "            ('b', 1, 'B'),\n",
       "            ('b', 2, 'A'),\n",
       "            ('b', 2, 'B'),\n",
       "            ('b', 3, 'A'),\n",
       "            ('b', 3, 'B'),\n",
       "            ('c', 1, 'A'),\n",
       "            ('c', 1, 'B'),\n",
       "            ('c', 2, 'A'),\n",
       "            ('c', 2, 'B'),\n",
       "            ('d', 1, 'A'),\n",
       "            ('d', 1, 'B'),\n",
       "            ('d', 2, 'A'),\n",
       "            ('d', 2, 'B')],\n",
       "           names=['alpha', 'numeric', None])"
      ]
     },
     "execution_count": 60,
     "metadata": {},
     "output_type": "execute_result"
    }
   ],
   "execution_count": 60
  },
  {
   "cell_type": "markdown",
   "metadata": {},
   "source": [
    "## Grouping operations in DataFrames"
   ]
  },
  {
   "cell_type": "code",
   "metadata": {
    "ExecuteTime": {
     "end_time": "2024-11-25T13:25:41.507073Z",
     "start_time": "2024-11-25T13:25:41.503062Z"
    }
   },
   "source": [
    "df = df.reset_index()\n",
    "df"
   ],
   "outputs": [
    {
     "data": {
      "text/plain": [
       "  alpha  numeric         A         B\n",
       "0     a        1 -1.170515  1.065789\n",
       "1     a        2 -0.699937  0.144079\n",
       "2     a        3  0.398542  0.026869\n",
       "3     b        1  1.055837 -0.073183\n",
       "4     b        2 -0.665721 -0.044112\n",
       "5     b        3 -0.363267 -0.012345\n",
       "6     c        1  0.042121  1.959296\n",
       "7     c        2 -0.198426  0.330534\n",
       "8     d        1 -1.435828  0.027528\n",
       "9     d        2  1.120605 -0.224039"
      ],
      "text/html": [
       "<div>\n",
       "<style scoped>\n",
       "    .dataframe tbody tr th:only-of-type {\n",
       "        vertical-align: middle;\n",
       "    }\n",
       "\n",
       "    .dataframe tbody tr th {\n",
       "        vertical-align: top;\n",
       "    }\n",
       "\n",
       "    .dataframe thead th {\n",
       "        text-align: right;\n",
       "    }\n",
       "</style>\n",
       "<table border=\"1\" class=\"dataframe\">\n",
       "  <thead>\n",
       "    <tr style=\"text-align: right;\">\n",
       "      <th></th>\n",
       "      <th>alpha</th>\n",
       "      <th>numeric</th>\n",
       "      <th>A</th>\n",
       "      <th>B</th>\n",
       "    </tr>\n",
       "  </thead>\n",
       "  <tbody>\n",
       "    <tr>\n",
       "      <th>0</th>\n",
       "      <td>a</td>\n",
       "      <td>1</td>\n",
       "      <td>-1.170515</td>\n",
       "      <td>1.065789</td>\n",
       "    </tr>\n",
       "    <tr>\n",
       "      <th>1</th>\n",
       "      <td>a</td>\n",
       "      <td>2</td>\n",
       "      <td>-0.699937</td>\n",
       "      <td>0.144079</td>\n",
       "    </tr>\n",
       "    <tr>\n",
       "      <th>2</th>\n",
       "      <td>a</td>\n",
       "      <td>3</td>\n",
       "      <td>0.398542</td>\n",
       "      <td>0.026869</td>\n",
       "    </tr>\n",
       "    <tr>\n",
       "      <th>3</th>\n",
       "      <td>b</td>\n",
       "      <td>1</td>\n",
       "      <td>1.055837</td>\n",
       "      <td>-0.073183</td>\n",
       "    </tr>\n",
       "    <tr>\n",
       "      <th>4</th>\n",
       "      <td>b</td>\n",
       "      <td>2</td>\n",
       "      <td>-0.665721</td>\n",
       "      <td>-0.044112</td>\n",
       "    </tr>\n",
       "    <tr>\n",
       "      <th>5</th>\n",
       "      <td>b</td>\n",
       "      <td>3</td>\n",
       "      <td>-0.363267</td>\n",
       "      <td>-0.012345</td>\n",
       "    </tr>\n",
       "    <tr>\n",
       "      <th>6</th>\n",
       "      <td>c</td>\n",
       "      <td>1</td>\n",
       "      <td>0.042121</td>\n",
       "      <td>1.959296</td>\n",
       "    </tr>\n",
       "    <tr>\n",
       "      <th>7</th>\n",
       "      <td>c</td>\n",
       "      <td>2</td>\n",
       "      <td>-0.198426</td>\n",
       "      <td>0.330534</td>\n",
       "    </tr>\n",
       "    <tr>\n",
       "      <th>8</th>\n",
       "      <td>d</td>\n",
       "      <td>1</td>\n",
       "      <td>-1.435828</td>\n",
       "      <td>0.027528</td>\n",
       "    </tr>\n",
       "    <tr>\n",
       "      <th>9</th>\n",
       "      <td>d</td>\n",
       "      <td>2</td>\n",
       "      <td>1.120605</td>\n",
       "      <td>-0.224039</td>\n",
       "    </tr>\n",
       "  </tbody>\n",
       "</table>\n",
       "</div>"
      ]
     },
     "execution_count": 61,
     "metadata": {},
     "output_type": "execute_result"
    }
   ],
   "execution_count": 61
  },
  {
   "cell_type": "code",
   "metadata": {
    "ExecuteTime": {
     "end_time": "2024-11-25T13:27:35.030801Z",
     "start_time": "2024-11-25T13:27:35.027623Z"
    }
   },
   "source": [
    "grouped = df[['A','B']].groupby(df['alpha'])\n",
    "grouped"
   ],
   "outputs": [
    {
     "data": {
      "text/plain": [
       "<pandas.core.groupby.generic.DataFrameGroupBy object at 0x178eab110>"
      ]
     },
     "execution_count": 62,
     "metadata": {},
     "output_type": "execute_result"
    }
   ],
   "execution_count": 62
  },
  {
   "cell_type": "code",
   "metadata": {
    "ExecuteTime": {
     "end_time": "2024-11-25T13:30:24.548312Z",
     "start_time": "2024-11-25T13:30:24.540054Z"
    }
   },
   "source": [
    "grouped.describe()"
   ],
   "outputs": [
    {
     "data": {
      "text/plain": [
       "          A                      ...         B                    \n",
       "      count      mean       std  ...       50%       75%       max\n",
       "alpha                            ...                              \n",
       "a       3.0 -0.490637  0.805196  ...  0.144079  0.604934  1.065789\n",
       "b       3.0  0.008950  0.919157  ... -0.044112 -0.028229 -0.012345\n",
       "c       2.0 -0.078152  0.170093  ...  1.144915  1.552106  1.959296\n",
       "d       2.0 -0.157612  1.807671  ... -0.098255 -0.035363  0.027528\n",
       "\n",
       "[4 rows x 16 columns]"
      ],
      "text/html": [
       "<div>\n",
       "<style scoped>\n",
       "    .dataframe tbody tr th:only-of-type {\n",
       "        vertical-align: middle;\n",
       "    }\n",
       "\n",
       "    .dataframe tbody tr th {\n",
       "        vertical-align: top;\n",
       "    }\n",
       "\n",
       "    .dataframe thead tr th {\n",
       "        text-align: left;\n",
       "    }\n",
       "\n",
       "    .dataframe thead tr:last-of-type th {\n",
       "        text-align: right;\n",
       "    }\n",
       "</style>\n",
       "<table border=\"1\" class=\"dataframe\">\n",
       "  <thead>\n",
       "    <tr>\n",
       "      <th></th>\n",
       "      <th colspan=\"3\" halign=\"left\">A</th>\n",
       "      <th>...</th>\n",
       "      <th colspan=\"3\" halign=\"left\">B</th>\n",
       "    </tr>\n",
       "    <tr>\n",
       "      <th></th>\n",
       "      <th>count</th>\n",
       "      <th>mean</th>\n",
       "      <th>std</th>\n",
       "      <th>...</th>\n",
       "      <th>50%</th>\n",
       "      <th>75%</th>\n",
       "      <th>max</th>\n",
       "    </tr>\n",
       "    <tr>\n",
       "      <th>alpha</th>\n",
       "      <th></th>\n",
       "      <th></th>\n",
       "      <th></th>\n",
       "      <th></th>\n",
       "      <th></th>\n",
       "      <th></th>\n",
       "      <th></th>\n",
       "    </tr>\n",
       "  </thead>\n",
       "  <tbody>\n",
       "    <tr>\n",
       "      <th>a</th>\n",
       "      <td>3.0</td>\n",
       "      <td>-0.490637</td>\n",
       "      <td>0.805196</td>\n",
       "      <td>...</td>\n",
       "      <td>0.144079</td>\n",
       "      <td>0.604934</td>\n",
       "      <td>1.065789</td>\n",
       "    </tr>\n",
       "    <tr>\n",
       "      <th>b</th>\n",
       "      <td>3.0</td>\n",
       "      <td>0.008950</td>\n",
       "      <td>0.919157</td>\n",
       "      <td>...</td>\n",
       "      <td>-0.044112</td>\n",
       "      <td>-0.028229</td>\n",
       "      <td>-0.012345</td>\n",
       "    </tr>\n",
       "    <tr>\n",
       "      <th>c</th>\n",
       "      <td>2.0</td>\n",
       "      <td>-0.078152</td>\n",
       "      <td>0.170093</td>\n",
       "      <td>...</td>\n",
       "      <td>1.144915</td>\n",
       "      <td>1.552106</td>\n",
       "      <td>1.959296</td>\n",
       "    </tr>\n",
       "    <tr>\n",
       "      <th>d</th>\n",
       "      <td>2.0</td>\n",
       "      <td>-0.157612</td>\n",
       "      <td>1.807671</td>\n",
       "      <td>...</td>\n",
       "      <td>-0.098255</td>\n",
       "      <td>-0.035363</td>\n",
       "      <td>0.027528</td>\n",
       "    </tr>\n",
       "  </tbody>\n",
       "</table>\n",
       "<p>4 rows × 16 columns</p>\n",
       "</div>"
      ]
     },
     "execution_count": 64,
     "metadata": {},
     "output_type": "execute_result"
    }
   ],
   "execution_count": 64
  },
  {
   "cell_type": "code",
   "metadata": {
    "ExecuteTime": {
     "end_time": "2024-11-25T13:30:26.754604Z",
     "start_time": "2024-11-25T13:30:26.744347Z"
    }
   },
   "source": [
    "grouped.apply(pd.DataFrame.unstack)"
   ],
   "outputs": [
    {
     "data": {
      "text/plain": [
       "alpha      \n",
       "a      A  0   -1.170515\n",
       "          1   -0.699937\n",
       "          2    0.398542\n",
       "       B  0    1.065789\n",
       "          1    0.144079\n",
       "          2    0.026869\n",
       "b      A  3    1.055837\n",
       "          4   -0.665721\n",
       "          5   -0.363267\n",
       "       B  3   -0.073183\n",
       "          4   -0.044112\n",
       "          5   -0.012345\n",
       "c      A  6    0.042121\n",
       "          7   -0.198426\n",
       "       B  6    1.959296\n",
       "          7    0.330534\n",
       "d      A  8   -1.435828\n",
       "          9    1.120605\n",
       "       B  8    0.027528\n",
       "          9   -0.224039\n",
       "dtype: float64"
      ]
     },
     "execution_count": 65,
     "metadata": {},
     "output_type": "execute_result"
    }
   ],
   "execution_count": 65
  },
  {
   "cell_type": "code",
   "metadata": {
    "ExecuteTime": {
     "end_time": "2024-11-25T13:30:29.342942Z",
     "start_time": "2024-11-25T13:30:29.337125Z"
    }
   },
   "source": [
    "grouped[['A', 'B']].agg('mean')"
   ],
   "outputs": [
    {
     "data": {
      "text/plain": [
       "              A         B\n",
       "alpha                    \n",
       "a     -0.490637  0.412246\n",
       "b      0.008950 -0.043214\n",
       "c     -0.078152  1.144915\n",
       "d     -0.157612 -0.098255"
      ],
      "text/html": [
       "<div>\n",
       "<style scoped>\n",
       "    .dataframe tbody tr th:only-of-type {\n",
       "        vertical-align: middle;\n",
       "    }\n",
       "\n",
       "    .dataframe tbody tr th {\n",
       "        vertical-align: top;\n",
       "    }\n",
       "\n",
       "    .dataframe thead th {\n",
       "        text-align: right;\n",
       "    }\n",
       "</style>\n",
       "<table border=\"1\" class=\"dataframe\">\n",
       "  <thead>\n",
       "    <tr style=\"text-align: right;\">\n",
       "      <th></th>\n",
       "      <th>A</th>\n",
       "      <th>B</th>\n",
       "    </tr>\n",
       "    <tr>\n",
       "      <th>alpha</th>\n",
       "      <th></th>\n",
       "      <th></th>\n",
       "    </tr>\n",
       "  </thead>\n",
       "  <tbody>\n",
       "    <tr>\n",
       "      <th>a</th>\n",
       "      <td>-0.490637</td>\n",
       "      <td>0.412246</td>\n",
       "    </tr>\n",
       "    <tr>\n",
       "      <th>b</th>\n",
       "      <td>0.008950</td>\n",
       "      <td>-0.043214</td>\n",
       "    </tr>\n",
       "    <tr>\n",
       "      <th>c</th>\n",
       "      <td>-0.078152</td>\n",
       "      <td>1.144915</td>\n",
       "    </tr>\n",
       "    <tr>\n",
       "      <th>d</th>\n",
       "      <td>-0.157612</td>\n",
       "      <td>-0.098255</td>\n",
       "    </tr>\n",
       "  </tbody>\n",
       "</table>\n",
       "</div>"
      ]
     },
     "execution_count": 66,
     "metadata": {},
     "output_type": "execute_result"
    }
   ],
   "execution_count": 66
  },
  {
   "cell_type": "code",
   "metadata": {
    "ExecuteTime": {
     "end_time": "2024-11-25T13:30:30.809930Z",
     "start_time": "2024-11-25T13:30:30.803162Z"
    }
   },
   "source": [
    "from scipy import stats\n",
    "grouped[['A', 'B']].transform(stats.zscore)"
   ],
   "outputs": [
    {
     "data": {
      "text/plain": [
       "          A         B\n",
       "0 -1.034131  1.406693\n",
       "1 -0.318357 -0.577205\n",
       "2  1.352488 -0.829488\n",
       "3  1.394941 -1.206255\n",
       "4 -0.898975 -0.036178\n",
       "5 -0.495966  1.242433\n",
       "6  1.000000  1.000000\n",
       "7 -1.000000 -1.000000\n",
       "8 -1.000000  1.000000\n",
       "9  1.000000 -1.000000"
      ],
      "text/html": [
       "<div>\n",
       "<style scoped>\n",
       "    .dataframe tbody tr th:only-of-type {\n",
       "        vertical-align: middle;\n",
       "    }\n",
       "\n",
       "    .dataframe tbody tr th {\n",
       "        vertical-align: top;\n",
       "    }\n",
       "\n",
       "    .dataframe thead th {\n",
       "        text-align: right;\n",
       "    }\n",
       "</style>\n",
       "<table border=\"1\" class=\"dataframe\">\n",
       "  <thead>\n",
       "    <tr style=\"text-align: right;\">\n",
       "      <th></th>\n",
       "      <th>A</th>\n",
       "      <th>B</th>\n",
       "    </tr>\n",
       "  </thead>\n",
       "  <tbody>\n",
       "    <tr>\n",
       "      <th>0</th>\n",
       "      <td>-1.034131</td>\n",
       "      <td>1.406693</td>\n",
       "    </tr>\n",
       "    <tr>\n",
       "      <th>1</th>\n",
       "      <td>-0.318357</td>\n",
       "      <td>-0.577205</td>\n",
       "    </tr>\n",
       "    <tr>\n",
       "      <th>2</th>\n",
       "      <td>1.352488</td>\n",
       "      <td>-0.829488</td>\n",
       "    </tr>\n",
       "    <tr>\n",
       "      <th>3</th>\n",
       "      <td>1.394941</td>\n",
       "      <td>-1.206255</td>\n",
       "    </tr>\n",
       "    <tr>\n",
       "      <th>4</th>\n",
       "      <td>-0.898975</td>\n",
       "      <td>-0.036178</td>\n",
       "    </tr>\n",
       "    <tr>\n",
       "      <th>5</th>\n",
       "      <td>-0.495966</td>\n",
       "      <td>1.242433</td>\n",
       "    </tr>\n",
       "    <tr>\n",
       "      <th>6</th>\n",
       "      <td>1.000000</td>\n",
       "      <td>1.000000</td>\n",
       "    </tr>\n",
       "    <tr>\n",
       "      <th>7</th>\n",
       "      <td>-1.000000</td>\n",
       "      <td>-1.000000</td>\n",
       "    </tr>\n",
       "    <tr>\n",
       "      <th>8</th>\n",
       "      <td>-1.000000</td>\n",
       "      <td>1.000000</td>\n",
       "    </tr>\n",
       "    <tr>\n",
       "      <th>9</th>\n",
       "      <td>1.000000</td>\n",
       "      <td>-1.000000</td>\n",
       "    </tr>\n",
       "  </tbody>\n",
       "</table>\n",
       "</div>"
      ]
     },
     "execution_count": 67,
     "metadata": {},
     "output_type": "execute_result"
    }
   ],
   "execution_count": 67
  },
  {
   "cell_type": "markdown",
   "metadata": {},
   "source": [
    "## Transforming Values in DataFrames' axis indices"
   ]
  },
  {
   "cell_type": "code",
   "metadata": {
    "ExecuteTime": {
     "end_time": "2024-11-25T13:30:36.658539Z",
     "start_time": "2024-11-25T13:30:36.654938Z"
    }
   },
   "source": [
    "df2"
   ],
   "outputs": [
    {
     "data": {
      "text/plain": [
       "Columns      colA      colB      colC\n",
       "Index                                \n",
       "A       -0.731458 -1.605402  0.989476\n",
       "B        0.110815 -0.380931  0.114959\n",
       "C        0.345313 -1.734959  1.658351\n",
       "D        2.299772 -0.471135  1.262715"
      ],
      "text/html": [
       "<div>\n",
       "<style scoped>\n",
       "    .dataframe tbody tr th:only-of-type {\n",
       "        vertical-align: middle;\n",
       "    }\n",
       "\n",
       "    .dataframe tbody tr th {\n",
       "        vertical-align: top;\n",
       "    }\n",
       "\n",
       "    .dataframe thead th {\n",
       "        text-align: right;\n",
       "    }\n",
       "</style>\n",
       "<table border=\"1\" class=\"dataframe\">\n",
       "  <thead>\n",
       "    <tr style=\"text-align: right;\">\n",
       "      <th>Columns</th>\n",
       "      <th>colA</th>\n",
       "      <th>colB</th>\n",
       "      <th>colC</th>\n",
       "    </tr>\n",
       "    <tr>\n",
       "      <th>Index</th>\n",
       "      <th></th>\n",
       "      <th></th>\n",
       "      <th></th>\n",
       "    </tr>\n",
       "  </thead>\n",
       "  <tbody>\n",
       "    <tr>\n",
       "      <th>A</th>\n",
       "      <td>-0.731458</td>\n",
       "      <td>-1.605402</td>\n",
       "      <td>0.989476</td>\n",
       "    </tr>\n",
       "    <tr>\n",
       "      <th>B</th>\n",
       "      <td>0.110815</td>\n",
       "      <td>-0.380931</td>\n",
       "      <td>0.114959</td>\n",
       "    </tr>\n",
       "    <tr>\n",
       "      <th>C</th>\n",
       "      <td>0.345313</td>\n",
       "      <td>-1.734959</td>\n",
       "      <td>1.658351</td>\n",
       "    </tr>\n",
       "    <tr>\n",
       "      <th>D</th>\n",
       "      <td>2.299772</td>\n",
       "      <td>-0.471135</td>\n",
       "      <td>1.262715</td>\n",
       "    </tr>\n",
       "  </tbody>\n",
       "</table>\n",
       "</div>"
      ]
     },
     "execution_count": 68,
     "metadata": {},
     "output_type": "execute_result"
    }
   ],
   "execution_count": 68
  },
  {
   "cell_type": "code",
   "metadata": {
    "ExecuteTime": {
     "end_time": "2024-11-25T13:30:39.103085Z",
     "start_time": "2024-11-25T13:30:39.098363Z"
    }
   },
   "source": [
    "df2.index = ['Alpha', 'Beta', 'Gamma', 'Delta']\n",
    "df2"
   ],
   "outputs": [
    {
     "data": {
      "text/plain": [
       "Columns      colA      colB      colC\n",
       "Alpha   -0.731458 -1.605402  0.989476\n",
       "Beta     0.110815 -0.380931  0.114959\n",
       "Gamma    0.345313 -1.734959  1.658351\n",
       "Delta    2.299772 -0.471135  1.262715"
      ],
      "text/html": [
       "<div>\n",
       "<style scoped>\n",
       "    .dataframe tbody tr th:only-of-type {\n",
       "        vertical-align: middle;\n",
       "    }\n",
       "\n",
       "    .dataframe tbody tr th {\n",
       "        vertical-align: top;\n",
       "    }\n",
       "\n",
       "    .dataframe thead th {\n",
       "        text-align: right;\n",
       "    }\n",
       "</style>\n",
       "<table border=\"1\" class=\"dataframe\">\n",
       "  <thead>\n",
       "    <tr style=\"text-align: right;\">\n",
       "      <th>Columns</th>\n",
       "      <th>colA</th>\n",
       "      <th>colB</th>\n",
       "      <th>colC</th>\n",
       "    </tr>\n",
       "  </thead>\n",
       "  <tbody>\n",
       "    <tr>\n",
       "      <th>Alpha</th>\n",
       "      <td>-0.731458</td>\n",
       "      <td>-1.605402</td>\n",
       "      <td>0.989476</td>\n",
       "    </tr>\n",
       "    <tr>\n",
       "      <th>Beta</th>\n",
       "      <td>0.110815</td>\n",
       "      <td>-0.380931</td>\n",
       "      <td>0.114959</td>\n",
       "    </tr>\n",
       "    <tr>\n",
       "      <th>Gamma</th>\n",
       "      <td>0.345313</td>\n",
       "      <td>-1.734959</td>\n",
       "      <td>1.658351</td>\n",
       "    </tr>\n",
       "    <tr>\n",
       "      <th>Delta</th>\n",
       "      <td>2.299772</td>\n",
       "      <td>-0.471135</td>\n",
       "      <td>1.262715</td>\n",
       "    </tr>\n",
       "  </tbody>\n",
       "</table>\n",
       "</div>"
      ]
     },
     "execution_count": 69,
     "metadata": {},
     "output_type": "execute_result"
    }
   ],
   "execution_count": 69
  },
  {
   "cell_type": "code",
   "metadata": {
    "ExecuteTime": {
     "end_time": "2024-11-25T13:30:43.328227Z",
     "start_time": "2024-11-25T13:30:43.324754Z"
    }
   },
   "source": [
    "df2.index = df2.index.map(lambda x : x[:3])\n",
    "df2"
   ],
   "outputs": [
    {
     "data": {
      "text/plain": [
       "Columns      colA      colB      colC\n",
       "Alp     -0.731458 -1.605402  0.989476\n",
       "Bet      0.110815 -0.380931  0.114959\n",
       "Gam      0.345313 -1.734959  1.658351\n",
       "Del      2.299772 -0.471135  1.262715"
      ],
      "text/html": [
       "<div>\n",
       "<style scoped>\n",
       "    .dataframe tbody tr th:only-of-type {\n",
       "        vertical-align: middle;\n",
       "    }\n",
       "\n",
       "    .dataframe tbody tr th {\n",
       "        vertical-align: top;\n",
       "    }\n",
       "\n",
       "    .dataframe thead th {\n",
       "        text-align: right;\n",
       "    }\n",
       "</style>\n",
       "<table border=\"1\" class=\"dataframe\">\n",
       "  <thead>\n",
       "    <tr style=\"text-align: right;\">\n",
       "      <th>Columns</th>\n",
       "      <th>colA</th>\n",
       "      <th>colB</th>\n",
       "      <th>colC</th>\n",
       "    </tr>\n",
       "  </thead>\n",
       "  <tbody>\n",
       "    <tr>\n",
       "      <th>Alp</th>\n",
       "      <td>-0.731458</td>\n",
       "      <td>-1.605402</td>\n",
       "      <td>0.989476</td>\n",
       "    </tr>\n",
       "    <tr>\n",
       "      <th>Bet</th>\n",
       "      <td>0.110815</td>\n",
       "      <td>-0.380931</td>\n",
       "      <td>0.114959</td>\n",
       "    </tr>\n",
       "    <tr>\n",
       "      <th>Gam</th>\n",
       "      <td>0.345313</td>\n",
       "      <td>-1.734959</td>\n",
       "      <td>1.658351</td>\n",
       "    </tr>\n",
       "    <tr>\n",
       "      <th>Del</th>\n",
       "      <td>2.299772</td>\n",
       "      <td>-0.471135</td>\n",
       "      <td>1.262715</td>\n",
       "    </tr>\n",
       "  </tbody>\n",
       "</table>\n",
       "</div>"
      ]
     },
     "execution_count": 70,
     "metadata": {},
     "output_type": "execute_result"
    }
   ],
   "execution_count": 70
  },
  {
   "cell_type": "code",
   "metadata": {
    "ExecuteTime": {
     "end_time": "2024-11-25T13:30:53.071094Z",
     "start_time": "2024-11-25T13:30:53.067145Z"
    }
   },
   "source": [
    "df2.rename(index={'Alp': 0, 'Bet': 1, 'Gam': 2, 'Del': 3}, columns={'colA': 'A', 'colB': 'B', 'colC': 'C'})"
   ],
   "outputs": [
    {
     "data": {
      "text/plain": [
       "Columns         A         B         C\n",
       "0       -0.731458 -1.605402  0.989476\n",
       "1        0.110815 -0.380931  0.114959\n",
       "2        0.345313 -1.734959  1.658351\n",
       "3        2.299772 -0.471135  1.262715"
      ],
      "text/html": [
       "<div>\n",
       "<style scoped>\n",
       "    .dataframe tbody tr th:only-of-type {\n",
       "        vertical-align: middle;\n",
       "    }\n",
       "\n",
       "    .dataframe tbody tr th {\n",
       "        vertical-align: top;\n",
       "    }\n",
       "\n",
       "    .dataframe thead th {\n",
       "        text-align: right;\n",
       "    }\n",
       "</style>\n",
       "<table border=\"1\" class=\"dataframe\">\n",
       "  <thead>\n",
       "    <tr style=\"text-align: right;\">\n",
       "      <th>Columns</th>\n",
       "      <th>A</th>\n",
       "      <th>B</th>\n",
       "      <th>C</th>\n",
       "    </tr>\n",
       "  </thead>\n",
       "  <tbody>\n",
       "    <tr>\n",
       "      <th>0</th>\n",
       "      <td>-0.731458</td>\n",
       "      <td>-1.605402</td>\n",
       "      <td>0.989476</td>\n",
       "    </tr>\n",
       "    <tr>\n",
       "      <th>1</th>\n",
       "      <td>0.110815</td>\n",
       "      <td>-0.380931</td>\n",
       "      <td>0.114959</td>\n",
       "    </tr>\n",
       "    <tr>\n",
       "      <th>2</th>\n",
       "      <td>0.345313</td>\n",
       "      <td>-1.734959</td>\n",
       "      <td>1.658351</td>\n",
       "    </tr>\n",
       "    <tr>\n",
       "      <th>3</th>\n",
       "      <td>2.299772</td>\n",
       "      <td>-0.471135</td>\n",
       "      <td>1.262715</td>\n",
       "    </tr>\n",
       "  </tbody>\n",
       "</table>\n",
       "</div>"
      ]
     },
     "execution_count": 71,
     "metadata": {},
     "output_type": "execute_result"
    }
   ],
   "execution_count": 71
  },
  {
   "cell_type": "markdown",
   "metadata": {},
   "source": [
    "## Handling missing data in DataFrames"
   ]
  },
  {
   "cell_type": "markdown",
   "metadata": {},
   "source": [
    "### Filtering out missing data"
   ]
  },
  {
   "cell_type": "code",
   "metadata": {
    "ExecuteTime": {
     "end_time": "2024-11-25T13:31:00.706577Z",
     "start_time": "2024-11-25T13:31:00.702802Z"
    }
   },
   "source": [
    "for row, col in [('Bet', 'colA'), ('Bet', 'colB'), ('Bet', 'colC'), ('Del', 'colB'), ('Gam', 'colC')]:\n",
    "    df2.at[row, col] = np.NaN\n",
    "\n",
    "df2"
   ],
   "outputs": [
    {
     "data": {
      "text/plain": [
       "Columns      colA      colB      colC\n",
       "Alp     -0.731458 -1.605402  0.989476\n",
       "Bet           NaN       NaN       NaN\n",
       "Gam      0.345313 -1.734959       NaN\n",
       "Del      2.299772       NaN  1.262715"
      ],
      "text/html": [
       "<div>\n",
       "<style scoped>\n",
       "    .dataframe tbody tr th:only-of-type {\n",
       "        vertical-align: middle;\n",
       "    }\n",
       "\n",
       "    .dataframe tbody tr th {\n",
       "        vertical-align: top;\n",
       "    }\n",
       "\n",
       "    .dataframe thead th {\n",
       "        text-align: right;\n",
       "    }\n",
       "</style>\n",
       "<table border=\"1\" class=\"dataframe\">\n",
       "  <thead>\n",
       "    <tr style=\"text-align: right;\">\n",
       "      <th>Columns</th>\n",
       "      <th>colA</th>\n",
       "      <th>colB</th>\n",
       "      <th>colC</th>\n",
       "    </tr>\n",
       "  </thead>\n",
       "  <tbody>\n",
       "    <tr>\n",
       "      <th>Alp</th>\n",
       "      <td>-0.731458</td>\n",
       "      <td>-1.605402</td>\n",
       "      <td>0.989476</td>\n",
       "    </tr>\n",
       "    <tr>\n",
       "      <th>Bet</th>\n",
       "      <td>NaN</td>\n",
       "      <td>NaN</td>\n",
       "      <td>NaN</td>\n",
       "    </tr>\n",
       "    <tr>\n",
       "      <th>Gam</th>\n",
       "      <td>0.345313</td>\n",
       "      <td>-1.734959</td>\n",
       "      <td>NaN</td>\n",
       "    </tr>\n",
       "    <tr>\n",
       "      <th>Del</th>\n",
       "      <td>2.299772</td>\n",
       "      <td>NaN</td>\n",
       "      <td>1.262715</td>\n",
       "    </tr>\n",
       "  </tbody>\n",
       "</table>\n",
       "</div>"
      ]
     },
     "execution_count": 72,
     "metadata": {},
     "output_type": "execute_result"
    }
   ],
   "execution_count": 72
  },
  {
   "cell_type": "code",
   "metadata": {
    "ExecuteTime": {
     "end_time": "2024-11-25T13:31:07.124314Z",
     "start_time": "2024-11-25T13:31:07.120889Z"
    }
   },
   "source": [
    "df2.isnull()"
   ],
   "outputs": [
    {
     "data": {
      "text/plain": [
       "Columns   colA   colB   colC\n",
       "Alp      False  False  False\n",
       "Bet       True   True   True\n",
       "Gam      False  False   True\n",
       "Del      False   True  False"
      ],
      "text/html": [
       "<div>\n",
       "<style scoped>\n",
       "    .dataframe tbody tr th:only-of-type {\n",
       "        vertical-align: middle;\n",
       "    }\n",
       "\n",
       "    .dataframe tbody tr th {\n",
       "        vertical-align: top;\n",
       "    }\n",
       "\n",
       "    .dataframe thead th {\n",
       "        text-align: right;\n",
       "    }\n",
       "</style>\n",
       "<table border=\"1\" class=\"dataframe\">\n",
       "  <thead>\n",
       "    <tr style=\"text-align: right;\">\n",
       "      <th>Columns</th>\n",
       "      <th>colA</th>\n",
       "      <th>colB</th>\n",
       "      <th>colC</th>\n",
       "    </tr>\n",
       "  </thead>\n",
       "  <tbody>\n",
       "    <tr>\n",
       "      <th>Alp</th>\n",
       "      <td>False</td>\n",
       "      <td>False</td>\n",
       "      <td>False</td>\n",
       "    </tr>\n",
       "    <tr>\n",
       "      <th>Bet</th>\n",
       "      <td>True</td>\n",
       "      <td>True</td>\n",
       "      <td>True</td>\n",
       "    </tr>\n",
       "    <tr>\n",
       "      <th>Gam</th>\n",
       "      <td>False</td>\n",
       "      <td>False</td>\n",
       "      <td>True</td>\n",
       "    </tr>\n",
       "    <tr>\n",
       "      <th>Del</th>\n",
       "      <td>False</td>\n",
       "      <td>True</td>\n",
       "      <td>False</td>\n",
       "    </tr>\n",
       "  </tbody>\n",
       "</table>\n",
       "</div>"
      ]
     },
     "execution_count": 73,
     "metadata": {},
     "output_type": "execute_result"
    }
   ],
   "execution_count": 73
  },
  {
   "cell_type": "code",
   "metadata": {
    "ExecuteTime": {
     "end_time": "2024-11-25T13:31:10.525987Z",
     "start_time": "2024-11-25T13:31:10.521801Z"
    }
   },
   "source": [
    "df2.notnull()"
   ],
   "outputs": [
    {
     "data": {
      "text/plain": [
       "Columns   colA   colB   colC\n",
       "Alp       True   True   True\n",
       "Bet      False  False  False\n",
       "Gam       True   True  False\n",
       "Del       True  False   True"
      ],
      "text/html": [
       "<div>\n",
       "<style scoped>\n",
       "    .dataframe tbody tr th:only-of-type {\n",
       "        vertical-align: middle;\n",
       "    }\n",
       "\n",
       "    .dataframe tbody tr th {\n",
       "        vertical-align: top;\n",
       "    }\n",
       "\n",
       "    .dataframe thead th {\n",
       "        text-align: right;\n",
       "    }\n",
       "</style>\n",
       "<table border=\"1\" class=\"dataframe\">\n",
       "  <thead>\n",
       "    <tr style=\"text-align: right;\">\n",
       "      <th>Columns</th>\n",
       "      <th>colA</th>\n",
       "      <th>colB</th>\n",
       "      <th>colC</th>\n",
       "    </tr>\n",
       "  </thead>\n",
       "  <tbody>\n",
       "    <tr>\n",
       "      <th>Alp</th>\n",
       "      <td>True</td>\n",
       "      <td>True</td>\n",
       "      <td>True</td>\n",
       "    </tr>\n",
       "    <tr>\n",
       "      <th>Bet</th>\n",
       "      <td>False</td>\n",
       "      <td>False</td>\n",
       "      <td>False</td>\n",
       "    </tr>\n",
       "    <tr>\n",
       "      <th>Gam</th>\n",
       "      <td>True</td>\n",
       "      <td>True</td>\n",
       "      <td>False</td>\n",
       "    </tr>\n",
       "    <tr>\n",
       "      <th>Del</th>\n",
       "      <td>True</td>\n",
       "      <td>False</td>\n",
       "      <td>True</td>\n",
       "    </tr>\n",
       "  </tbody>\n",
       "</table>\n",
       "</div>"
      ]
     },
     "execution_count": 74,
     "metadata": {},
     "output_type": "execute_result"
    }
   ],
   "execution_count": 74
  },
  {
   "cell_type": "code",
   "metadata": {
    "ExecuteTime": {
     "end_time": "2024-11-25T13:31:14.052679Z",
     "start_time": "2024-11-25T13:31:14.048534Z"
    }
   },
   "source": [
    "df2.dropna(how='all')"
   ],
   "outputs": [
    {
     "data": {
      "text/plain": [
       "Columns      colA      colB      colC\n",
       "Alp     -0.731458 -1.605402  0.989476\n",
       "Gam      0.345313 -1.734959       NaN\n",
       "Del      2.299772       NaN  1.262715"
      ],
      "text/html": [
       "<div>\n",
       "<style scoped>\n",
       "    .dataframe tbody tr th:only-of-type {\n",
       "        vertical-align: middle;\n",
       "    }\n",
       "\n",
       "    .dataframe tbody tr th {\n",
       "        vertical-align: top;\n",
       "    }\n",
       "\n",
       "    .dataframe thead th {\n",
       "        text-align: right;\n",
       "    }\n",
       "</style>\n",
       "<table border=\"1\" class=\"dataframe\">\n",
       "  <thead>\n",
       "    <tr style=\"text-align: right;\">\n",
       "      <th>Columns</th>\n",
       "      <th>colA</th>\n",
       "      <th>colB</th>\n",
       "      <th>colC</th>\n",
       "    </tr>\n",
       "  </thead>\n",
       "  <tbody>\n",
       "    <tr>\n",
       "      <th>Alp</th>\n",
       "      <td>-0.731458</td>\n",
       "      <td>-1.605402</td>\n",
       "      <td>0.989476</td>\n",
       "    </tr>\n",
       "    <tr>\n",
       "      <th>Gam</th>\n",
       "      <td>0.345313</td>\n",
       "      <td>-1.734959</td>\n",
       "      <td>NaN</td>\n",
       "    </tr>\n",
       "    <tr>\n",
       "      <th>Del</th>\n",
       "      <td>2.299772</td>\n",
       "      <td>NaN</td>\n",
       "      <td>1.262715</td>\n",
       "    </tr>\n",
       "  </tbody>\n",
       "</table>\n",
       "</div>"
      ]
     },
     "execution_count": 75,
     "metadata": {},
     "output_type": "execute_result"
    }
   ],
   "execution_count": 75
  },
  {
   "cell_type": "code",
   "metadata": {
    "ExecuteTime": {
     "end_time": "2024-11-25T13:31:23.409207Z",
     "start_time": "2024-11-25T13:31:23.405559Z"
    }
   },
   "source": [
    "df2.dropna(how='any')"
   ],
   "outputs": [
    {
     "data": {
      "text/plain": [
       "Columns      colA      colB      colC\n",
       "Alp     -0.731458 -1.605402  0.989476"
      ],
      "text/html": [
       "<div>\n",
       "<style scoped>\n",
       "    .dataframe tbody tr th:only-of-type {\n",
       "        vertical-align: middle;\n",
       "    }\n",
       "\n",
       "    .dataframe tbody tr th {\n",
       "        vertical-align: top;\n",
       "    }\n",
       "\n",
       "    .dataframe thead th {\n",
       "        text-align: right;\n",
       "    }\n",
       "</style>\n",
       "<table border=\"1\" class=\"dataframe\">\n",
       "  <thead>\n",
       "    <tr style=\"text-align: right;\">\n",
       "      <th>Columns</th>\n",
       "      <th>colA</th>\n",
       "      <th>colB</th>\n",
       "      <th>colC</th>\n",
       "    </tr>\n",
       "  </thead>\n",
       "  <tbody>\n",
       "    <tr>\n",
       "      <th>Alp</th>\n",
       "      <td>-0.731458</td>\n",
       "      <td>-1.605402</td>\n",
       "      <td>0.989476</td>\n",
       "    </tr>\n",
       "  </tbody>\n",
       "</table>\n",
       "</div>"
      ]
     },
     "execution_count": 76,
     "metadata": {},
     "output_type": "execute_result"
    }
   ],
   "execution_count": 76
  },
  {
   "cell_type": "markdown",
   "metadata": {},
   "source": [
    "### Filling in missing data"
   ]
  },
  {
   "cell_type": "code",
   "metadata": {
    "ExecuteTime": {
     "end_time": "2024-11-25T13:31:25.362660Z",
     "start_time": "2024-11-25T13:31:25.359308Z"
    }
   },
   "source": [
    "df2"
   ],
   "outputs": [
    {
     "data": {
      "text/plain": [
       "Columns      colA      colB      colC\n",
       "Alp     -0.731458 -1.605402  0.989476\n",
       "Bet           NaN       NaN       NaN\n",
       "Gam      0.345313 -1.734959       NaN\n",
       "Del      2.299772       NaN  1.262715"
      ],
      "text/html": [
       "<div>\n",
       "<style scoped>\n",
       "    .dataframe tbody tr th:only-of-type {\n",
       "        vertical-align: middle;\n",
       "    }\n",
       "\n",
       "    .dataframe tbody tr th {\n",
       "        vertical-align: top;\n",
       "    }\n",
       "\n",
       "    .dataframe thead th {\n",
       "        text-align: right;\n",
       "    }\n",
       "</style>\n",
       "<table border=\"1\" class=\"dataframe\">\n",
       "  <thead>\n",
       "    <tr style=\"text-align: right;\">\n",
       "      <th>Columns</th>\n",
       "      <th>colA</th>\n",
       "      <th>colB</th>\n",
       "      <th>colC</th>\n",
       "    </tr>\n",
       "  </thead>\n",
       "  <tbody>\n",
       "    <tr>\n",
       "      <th>Alp</th>\n",
       "      <td>-0.731458</td>\n",
       "      <td>-1.605402</td>\n",
       "      <td>0.989476</td>\n",
       "    </tr>\n",
       "    <tr>\n",
       "      <th>Bet</th>\n",
       "      <td>NaN</td>\n",
       "      <td>NaN</td>\n",
       "      <td>NaN</td>\n",
       "    </tr>\n",
       "    <tr>\n",
       "      <th>Gam</th>\n",
       "      <td>0.345313</td>\n",
       "      <td>-1.734959</td>\n",
       "      <td>NaN</td>\n",
       "    </tr>\n",
       "    <tr>\n",
       "      <th>Del</th>\n",
       "      <td>2.299772</td>\n",
       "      <td>NaN</td>\n",
       "      <td>1.262715</td>\n",
       "    </tr>\n",
       "  </tbody>\n",
       "</table>\n",
       "</div>"
      ]
     },
     "execution_count": 77,
     "metadata": {},
     "output_type": "execute_result"
    }
   ],
   "execution_count": 77
  },
  {
   "cell_type": "code",
   "metadata": {
    "ExecuteTime": {
     "end_time": "2024-11-25T13:31:27.526390Z",
     "start_time": "2024-11-25T13:31:27.521976Z"
    }
   },
   "source": [
    "df2.fillna(method='backfill', inplace=True)\n",
    "df2"
   ],
   "outputs": [
    {
     "name": "stderr",
     "output_type": "stream",
     "text": [
      "/var/folders/6c/5t47vwh51gv9l7h9tbjrswmh0000gn/T/ipykernel_2250/3129581883.py:1: FutureWarning: DataFrame.fillna with 'method' is deprecated and will raise in a future version. Use obj.ffill() or obj.bfill() instead.\n",
      "  df2.fillna(method='backfill', inplace=True)\n"
     ]
    },
    {
     "data": {
      "text/plain": [
       "Columns      colA      colB      colC\n",
       "Alp     -0.731458 -1.605402  0.989476\n",
       "Bet      0.345313 -1.734959  1.262715\n",
       "Gam      0.345313 -1.734959  1.262715\n",
       "Del      2.299772       NaN  1.262715"
      ],
      "text/html": [
       "<div>\n",
       "<style scoped>\n",
       "    .dataframe tbody tr th:only-of-type {\n",
       "        vertical-align: middle;\n",
       "    }\n",
       "\n",
       "    .dataframe tbody tr th {\n",
       "        vertical-align: top;\n",
       "    }\n",
       "\n",
       "    .dataframe thead th {\n",
       "        text-align: right;\n",
       "    }\n",
       "</style>\n",
       "<table border=\"1\" class=\"dataframe\">\n",
       "  <thead>\n",
       "    <tr style=\"text-align: right;\">\n",
       "      <th>Columns</th>\n",
       "      <th>colA</th>\n",
       "      <th>colB</th>\n",
       "      <th>colC</th>\n",
       "    </tr>\n",
       "  </thead>\n",
       "  <tbody>\n",
       "    <tr>\n",
       "      <th>Alp</th>\n",
       "      <td>-0.731458</td>\n",
       "      <td>-1.605402</td>\n",
       "      <td>0.989476</td>\n",
       "    </tr>\n",
       "    <tr>\n",
       "      <th>Bet</th>\n",
       "      <td>0.345313</td>\n",
       "      <td>-1.734959</td>\n",
       "      <td>1.262715</td>\n",
       "    </tr>\n",
       "    <tr>\n",
       "      <th>Gam</th>\n",
       "      <td>0.345313</td>\n",
       "      <td>-1.734959</td>\n",
       "      <td>1.262715</td>\n",
       "    </tr>\n",
       "    <tr>\n",
       "      <th>Del</th>\n",
       "      <td>2.299772</td>\n",
       "      <td>NaN</td>\n",
       "      <td>1.262715</td>\n",
       "    </tr>\n",
       "  </tbody>\n",
       "</table>\n",
       "</div>"
      ]
     },
     "execution_count": 78,
     "metadata": {},
     "output_type": "execute_result"
    }
   ],
   "execution_count": 78
  },
  {
   "cell_type": "markdown",
   "metadata": {},
   "source": [
    "## Transformation of DataFrames with Functions and Mappings"
   ]
  },
  {
   "cell_type": "code",
   "metadata": {
    "ExecuteTime": {
     "end_time": "2024-11-25T13:31:33.229037Z",
     "start_time": "2024-11-25T13:31:33.224761Z"
    }
   },
   "source": [
    "df2['Category'] = ['HIGH', 'LOW', 'LOW', 'HIGH']\n",
    "df2"
   ],
   "outputs": [
    {
     "data": {
      "text/plain": [
       "Columns      colA      colB      colC Category\n",
       "Alp     -0.731458 -1.605402  0.989476     HIGH\n",
       "Bet      0.345313 -1.734959  1.262715      LOW\n",
       "Gam      0.345313 -1.734959  1.262715      LOW\n",
       "Del      2.299772       NaN  1.262715     HIGH"
      ],
      "text/html": [
       "<div>\n",
       "<style scoped>\n",
       "    .dataframe tbody tr th:only-of-type {\n",
       "        vertical-align: middle;\n",
       "    }\n",
       "\n",
       "    .dataframe tbody tr th {\n",
       "        vertical-align: top;\n",
       "    }\n",
       "\n",
       "    .dataframe thead th {\n",
       "        text-align: right;\n",
       "    }\n",
       "</style>\n",
       "<table border=\"1\" class=\"dataframe\">\n",
       "  <thead>\n",
       "    <tr style=\"text-align: right;\">\n",
       "      <th>Columns</th>\n",
       "      <th>colA</th>\n",
       "      <th>colB</th>\n",
       "      <th>colC</th>\n",
       "      <th>Category</th>\n",
       "    </tr>\n",
       "  </thead>\n",
       "  <tbody>\n",
       "    <tr>\n",
       "      <th>Alp</th>\n",
       "      <td>-0.731458</td>\n",
       "      <td>-1.605402</td>\n",
       "      <td>0.989476</td>\n",
       "      <td>HIGH</td>\n",
       "    </tr>\n",
       "    <tr>\n",
       "      <th>Bet</th>\n",
       "      <td>0.345313</td>\n",
       "      <td>-1.734959</td>\n",
       "      <td>1.262715</td>\n",
       "      <td>LOW</td>\n",
       "    </tr>\n",
       "    <tr>\n",
       "      <th>Gam</th>\n",
       "      <td>0.345313</td>\n",
       "      <td>-1.734959</td>\n",
       "      <td>1.262715</td>\n",
       "      <td>LOW</td>\n",
       "    </tr>\n",
       "    <tr>\n",
       "      <th>Del</th>\n",
       "      <td>2.299772</td>\n",
       "      <td>NaN</td>\n",
       "      <td>1.262715</td>\n",
       "      <td>HIGH</td>\n",
       "    </tr>\n",
       "  </tbody>\n",
       "</table>\n",
       "</div>"
      ]
     },
     "execution_count": 79,
     "metadata": {},
     "output_type": "execute_result"
    }
   ],
   "execution_count": 79
  },
  {
   "cell_type": "code",
   "metadata": {
    "ExecuteTime": {
     "end_time": "2024-11-25T13:31:37.078251Z",
     "start_time": "2024-11-25T13:31:37.073613Z"
    }
   },
   "source": [
    "df2['Category'] = df2['Category'].map({'HIGH': 'H', 'LOW': 'L'})\n",
    "df2"
   ],
   "outputs": [
    {
     "data": {
      "text/plain": [
       "Columns      colA      colB      colC Category\n",
       "Alp     -0.731458 -1.605402  0.989476        H\n",
       "Bet      0.345313 -1.734959  1.262715        L\n",
       "Gam      0.345313 -1.734959  1.262715        L\n",
       "Del      2.299772       NaN  1.262715        H"
      ],
      "text/html": [
       "<div>\n",
       "<style scoped>\n",
       "    .dataframe tbody tr th:only-of-type {\n",
       "        vertical-align: middle;\n",
       "    }\n",
       "\n",
       "    .dataframe tbody tr th {\n",
       "        vertical-align: top;\n",
       "    }\n",
       "\n",
       "    .dataframe thead th {\n",
       "        text-align: right;\n",
       "    }\n",
       "</style>\n",
       "<table border=\"1\" class=\"dataframe\">\n",
       "  <thead>\n",
       "    <tr style=\"text-align: right;\">\n",
       "      <th>Columns</th>\n",
       "      <th>colA</th>\n",
       "      <th>colB</th>\n",
       "      <th>colC</th>\n",
       "      <th>Category</th>\n",
       "    </tr>\n",
       "  </thead>\n",
       "  <tbody>\n",
       "    <tr>\n",
       "      <th>Alp</th>\n",
       "      <td>-0.731458</td>\n",
       "      <td>-1.605402</td>\n",
       "      <td>0.989476</td>\n",
       "      <td>H</td>\n",
       "    </tr>\n",
       "    <tr>\n",
       "      <th>Bet</th>\n",
       "      <td>0.345313</td>\n",
       "      <td>-1.734959</td>\n",
       "      <td>1.262715</td>\n",
       "      <td>L</td>\n",
       "    </tr>\n",
       "    <tr>\n",
       "      <th>Gam</th>\n",
       "      <td>0.345313</td>\n",
       "      <td>-1.734959</td>\n",
       "      <td>1.262715</td>\n",
       "      <td>L</td>\n",
       "    </tr>\n",
       "    <tr>\n",
       "      <th>Del</th>\n",
       "      <td>2.299772</td>\n",
       "      <td>NaN</td>\n",
       "      <td>1.262715</td>\n",
       "      <td>H</td>\n",
       "    </tr>\n",
       "  </tbody>\n",
       "</table>\n",
       "</div>"
      ]
     },
     "execution_count": 80,
     "metadata": {},
     "output_type": "execute_result"
    }
   ],
   "execution_count": 80
  },
  {
   "cell_type": "code",
   "metadata": {
    "ExecuteTime": {
     "end_time": "2024-11-25T13:31:38.998211Z",
     "start_time": "2024-11-25T13:31:38.993703Z"
    }
   },
   "source": [
    "df2.drop('Category', axis=1).applymap(np.exp)"
   ],
   "outputs": [
    {
     "name": "stderr",
     "output_type": "stream",
     "text": [
      "/var/folders/6c/5t47vwh51gv9l7h9tbjrswmh0000gn/T/ipykernel_2250/3174271116.py:1: FutureWarning: DataFrame.applymap has been deprecated. Use DataFrame.map instead.\n",
      "  df2.drop('Category', axis=1).applymap(np.exp)\n"
     ]
    },
    {
     "data": {
      "text/plain": [
       "Columns      colA      colB      colC\n",
       "Alp      0.481207  0.200809  2.689825\n",
       "Bet      1.412431  0.176407  3.535008\n",
       "Gam      1.412431  0.176407  3.535008\n",
       "Del      9.971904       NaN  3.535008"
      ],
      "text/html": [
       "<div>\n",
       "<style scoped>\n",
       "    .dataframe tbody tr th:only-of-type {\n",
       "        vertical-align: middle;\n",
       "    }\n",
       "\n",
       "    .dataframe tbody tr th {\n",
       "        vertical-align: top;\n",
       "    }\n",
       "\n",
       "    .dataframe thead th {\n",
       "        text-align: right;\n",
       "    }\n",
       "</style>\n",
       "<table border=\"1\" class=\"dataframe\">\n",
       "  <thead>\n",
       "    <tr style=\"text-align: right;\">\n",
       "      <th>Columns</th>\n",
       "      <th>colA</th>\n",
       "      <th>colB</th>\n",
       "      <th>colC</th>\n",
       "    </tr>\n",
       "  </thead>\n",
       "  <tbody>\n",
       "    <tr>\n",
       "      <th>Alp</th>\n",
       "      <td>0.481207</td>\n",
       "      <td>0.200809</td>\n",
       "      <td>2.689825</td>\n",
       "    </tr>\n",
       "    <tr>\n",
       "      <th>Bet</th>\n",
       "      <td>1.412431</td>\n",
       "      <td>0.176407</td>\n",
       "      <td>3.535008</td>\n",
       "    </tr>\n",
       "    <tr>\n",
       "      <th>Gam</th>\n",
       "      <td>1.412431</td>\n",
       "      <td>0.176407</td>\n",
       "      <td>3.535008</td>\n",
       "    </tr>\n",
       "    <tr>\n",
       "      <th>Del</th>\n",
       "      <td>9.971904</td>\n",
       "      <td>NaN</td>\n",
       "      <td>3.535008</td>\n",
       "    </tr>\n",
       "  </tbody>\n",
       "</table>\n",
       "</div>"
      ]
     },
     "execution_count": 81,
     "metadata": {},
     "output_type": "execute_result"
    }
   ],
   "execution_count": 81
  },
  {
   "cell_type": "markdown",
   "metadata": {},
   "source": [
    "## Discretization / Bucketing of DataFrame's values"
   ]
  },
  {
   "cell_type": "code",
   "execution_count": 81,
   "metadata": {},
   "outputs": [
    {
     "data": {
      "text/plain": [
       "array([-0.42018339,  0.99982969,  0.43103415, -0.65091287, -1.49874039,\n",
       "       -1.23063497,  0.19400719, -0.99838235, -0.3676376 ,  1.73719932])"
      ]
     },
     "execution_count": 81,
     "metadata": {},
     "output_type": "execute_result"
    }
   ],
   "source": [
    "arr = np.random.randn(10)\n",
    "arr"
   ]
  },
  {
   "cell_type": "code",
   "execution_count": 82,
   "metadata": {},
   "outputs": [
    {
     "data": {
      "text/plain": [
       "[Low, High, Med, Low, Very Low, Very Low, Med, Very Low, Low, Very High]\n",
       "Categories (5, object): [Very Low < Low < Med < High < Very High]"
      ]
     },
     "execution_count": 82,
     "metadata": {},
     "output_type": "execute_result"
    }
   ],
   "source": [
    "cat = pd.cut(arr, bins=5, labels=['Very Low', 'Low', 'Med', 'High', 'Very High'])\n",
    "cat"
   ]
  },
  {
   "cell_type": "code",
   "execution_count": 83,
   "metadata": {},
   "outputs": [
    {
     "data": {
      "text/html": [
       "<div>\n",
       "<style scoped>\n",
       "    .dataframe tbody tr th:only-of-type {\n",
       "        vertical-align: middle;\n",
       "    }\n",
       "\n",
       "    .dataframe tbody tr th {\n",
       "        vertical-align: top;\n",
       "    }\n",
       "\n",
       "    .dataframe thead th {\n",
       "        text-align: right;\n",
       "    }\n",
       "</style>\n",
       "<table border=\"1\" class=\"dataframe\">\n",
       "  <thead>\n",
       "    <tr style=\"text-align: right;\">\n",
       "      <th></th>\n",
       "      <th>Category</th>\n",
       "      <th>Value</th>\n",
       "    </tr>\n",
       "  </thead>\n",
       "  <tbody>\n",
       "    <tr>\n",
       "      <th>0</th>\n",
       "      <td>Low</td>\n",
       "      <td>-0.420183</td>\n",
       "    </tr>\n",
       "    <tr>\n",
       "      <th>1</th>\n",
       "      <td>High</td>\n",
       "      <td>0.999830</td>\n",
       "    </tr>\n",
       "    <tr>\n",
       "      <th>2</th>\n",
       "      <td>Med</td>\n",
       "      <td>0.431034</td>\n",
       "    </tr>\n",
       "    <tr>\n",
       "      <th>3</th>\n",
       "      <td>Low</td>\n",
       "      <td>-0.650913</td>\n",
       "    </tr>\n",
       "    <tr>\n",
       "      <th>4</th>\n",
       "      <td>Very Low</td>\n",
       "      <td>-1.498740</td>\n",
       "    </tr>\n",
       "    <tr>\n",
       "      <th>5</th>\n",
       "      <td>Very Low</td>\n",
       "      <td>-1.230635</td>\n",
       "    </tr>\n",
       "    <tr>\n",
       "      <th>6</th>\n",
       "      <td>Med</td>\n",
       "      <td>0.194007</td>\n",
       "    </tr>\n",
       "    <tr>\n",
       "      <th>7</th>\n",
       "      <td>Very Low</td>\n",
       "      <td>-0.998382</td>\n",
       "    </tr>\n",
       "    <tr>\n",
       "      <th>8</th>\n",
       "      <td>Low</td>\n",
       "      <td>-0.367638</td>\n",
       "    </tr>\n",
       "    <tr>\n",
       "      <th>9</th>\n",
       "      <td>Very High</td>\n",
       "      <td>1.737199</td>\n",
       "    </tr>\n",
       "  </tbody>\n",
       "</table>\n",
       "</div>"
      ],
      "text/plain": [
       "    Category     Value\n",
       "0        Low -0.420183\n",
       "1       High  0.999830\n",
       "2        Med  0.431034\n",
       "3        Low -0.650913\n",
       "4   Very Low -1.498740\n",
       "5   Very Low -1.230635\n",
       "6        Med  0.194007\n",
       "7   Very Low -0.998382\n",
       "8        Low -0.367638\n",
       "9  Very High  1.737199"
      ]
     },
     "execution_count": 83,
     "metadata": {},
     "output_type": "execute_result"
    }
   ],
   "source": [
    "pd.DataFrame({'Value': arr, 'Category': cat})"
   ]
  },
  {
   "cell_type": "code",
   "execution_count": 84,
   "metadata": {},
   "outputs": [
    {
     "data": {
      "text/plain": [
       "[Med, Very High, High, Low, Very Low, Very Low, High, Low, Med, Very High]\n",
       "Categories (5, object): [Very Low < Low < Med < High < Very High]"
      ]
     },
     "execution_count": 84,
     "metadata": {},
     "output_type": "execute_result"
    }
   ],
   "source": [
    "qcat = pd.qcut(arr, q=5, labels=['Very Low', 'Low', 'Med', 'High', 'Very High'])\n",
    "qcat"
   ]
  },
  {
   "cell_type": "code",
   "execution_count": 85,
   "metadata": {},
   "outputs": [
    {
     "data": {
      "text/html": [
       "<div>\n",
       "<style scoped>\n",
       "    .dataframe tbody tr th:only-of-type {\n",
       "        vertical-align: middle;\n",
       "    }\n",
       "\n",
       "    .dataframe tbody tr th {\n",
       "        vertical-align: top;\n",
       "    }\n",
       "\n",
       "    .dataframe thead th {\n",
       "        text-align: right;\n",
       "    }\n",
       "</style>\n",
       "<table border=\"1\" class=\"dataframe\">\n",
       "  <thead>\n",
       "    <tr style=\"text-align: right;\">\n",
       "      <th></th>\n",
       "      <th>Category</th>\n",
       "      <th>Quartile Category</th>\n",
       "      <th>Value</th>\n",
       "    </tr>\n",
       "  </thead>\n",
       "  <tbody>\n",
       "    <tr>\n",
       "      <th>0</th>\n",
       "      <td>Low</td>\n",
       "      <td>Med</td>\n",
       "      <td>-0.420183</td>\n",
       "    </tr>\n",
       "    <tr>\n",
       "      <th>1</th>\n",
       "      <td>High</td>\n",
       "      <td>Very High</td>\n",
       "      <td>0.999830</td>\n",
       "    </tr>\n",
       "    <tr>\n",
       "      <th>2</th>\n",
       "      <td>Med</td>\n",
       "      <td>High</td>\n",
       "      <td>0.431034</td>\n",
       "    </tr>\n",
       "    <tr>\n",
       "      <th>3</th>\n",
       "      <td>Low</td>\n",
       "      <td>Low</td>\n",
       "      <td>-0.650913</td>\n",
       "    </tr>\n",
       "    <tr>\n",
       "      <th>4</th>\n",
       "      <td>Very Low</td>\n",
       "      <td>Very Low</td>\n",
       "      <td>-1.498740</td>\n",
       "    </tr>\n",
       "    <tr>\n",
       "      <th>5</th>\n",
       "      <td>Very Low</td>\n",
       "      <td>Very Low</td>\n",
       "      <td>-1.230635</td>\n",
       "    </tr>\n",
       "    <tr>\n",
       "      <th>6</th>\n",
       "      <td>Med</td>\n",
       "      <td>High</td>\n",
       "      <td>0.194007</td>\n",
       "    </tr>\n",
       "    <tr>\n",
       "      <th>7</th>\n",
       "      <td>Very Low</td>\n",
       "      <td>Low</td>\n",
       "      <td>-0.998382</td>\n",
       "    </tr>\n",
       "    <tr>\n",
       "      <th>8</th>\n",
       "      <td>Low</td>\n",
       "      <td>Med</td>\n",
       "      <td>-0.367638</td>\n",
       "    </tr>\n",
       "    <tr>\n",
       "      <th>9</th>\n",
       "      <td>Very High</td>\n",
       "      <td>Very High</td>\n",
       "      <td>1.737199</td>\n",
       "    </tr>\n",
       "  </tbody>\n",
       "</table>\n",
       "</div>"
      ],
      "text/plain": [
       "    Category Quartile Category     Value\n",
       "0        Low               Med -0.420183\n",
       "1       High         Very High  0.999830\n",
       "2        Med              High  0.431034\n",
       "3        Low               Low -0.650913\n",
       "4   Very Low          Very Low -1.498740\n",
       "5   Very Low          Very Low -1.230635\n",
       "6        Med              High  0.194007\n",
       "7   Very Low               Low -0.998382\n",
       "8        Low               Med -0.367638\n",
       "9  Very High         Very High  1.737199"
      ]
     },
     "execution_count": 85,
     "metadata": {},
     "output_type": "execute_result"
    }
   ],
   "source": [
    "pd.DataFrame({'Value': arr, 'Category': cat, 'Quartile Category': qcat})"
   ]
  },
  {
   "cell_type": "code",
   "execution_count": 86,
   "metadata": {},
   "outputs": [
    {
     "data": {
      "text/plain": [
       "IntervalIndex([(-1.502, -0.852], (-0.852, -0.204], (-0.204, 0.443], (0.443, 1.09], (1.09, 1.737]]\n",
       "              closed='right',\n",
       "              dtype='interval[float64]')"
      ]
     },
     "execution_count": 86,
     "metadata": {},
     "output_type": "execute_result"
    }
   ],
   "source": [
    "pd.cut(arr, bins=5).categories"
   ]
  },
  {
   "cell_type": "code",
   "execution_count": 87,
   "metadata": {},
   "outputs": [
    {
     "data": {
      "text/plain": [
       "IntervalIndex([(-1.5, -1.045], (-1.045, -0.512], (-0.512, -0.143], (-0.143, 0.545], (0.545, 1.737]]\n",
       "              closed='right',\n",
       "              dtype='interval[float64]')"
      ]
     },
     "execution_count": 87,
     "metadata": {},
     "output_type": "execute_result"
    }
   ],
   "source": [
    "pd.qcut(arr, q=5).categories"
   ]
  },
  {
   "cell_type": "markdown",
   "metadata": {},
   "source": [
    "## Permuting and Sampling of DataFrames Values to Generate new DataFrames"
   ]
  },
  {
   "cell_type": "code",
   "execution_count": 88,
   "metadata": {},
   "outputs": [
    {
     "data": {
      "text/html": [
       "<div>\n",
       "<style scoped>\n",
       "    .dataframe tbody tr th:only-of-type {\n",
       "        vertical-align: middle;\n",
       "    }\n",
       "\n",
       "    .dataframe tbody tr th {\n",
       "        vertical-align: top;\n",
       "    }\n",
       "\n",
       "    .dataframe thead th {\n",
       "        text-align: right;\n",
       "    }\n",
       "</style>\n",
       "<table border=\"1\" class=\"dataframe\">\n",
       "  <thead>\n",
       "    <tr style=\"text-align: right;\">\n",
       "      <th></th>\n",
       "      <th>A</th>\n",
       "      <th>B</th>\n",
       "      <th>C</th>\n",
       "      <th>D</th>\n",
       "      <th>E</th>\n",
       "    </tr>\n",
       "  </thead>\n",
       "  <tbody>\n",
       "    <tr>\n",
       "      <th>9</th>\n",
       "      <td>0.593613</td>\n",
       "      <td>-0.542364</td>\n",
       "      <td>-1.719672</td>\n",
       "      <td>-0.578909</td>\n",
       "      <td>1.426949</td>\n",
       "    </tr>\n",
       "    <tr>\n",
       "      <th>10</th>\n",
       "      <td>0.276997</td>\n",
       "      <td>0.789667</td>\n",
       "      <td>0.322074</td>\n",
       "      <td>0.700392</td>\n",
       "      <td>0.388717</td>\n",
       "    </tr>\n",
       "    <tr>\n",
       "      <th>27</th>\n",
       "      <td>-0.041264</td>\n",
       "      <td>0.295884</td>\n",
       "      <td>-0.425280</td>\n",
       "      <td>1.727639</td>\n",
       "      <td>-0.868353</td>\n",
       "    </tr>\n",
       "    <tr>\n",
       "      <th>39</th>\n",
       "      <td>-0.820978</td>\n",
       "      <td>-1.099742</td>\n",
       "      <td>0.086730</td>\n",
       "      <td>0.456287</td>\n",
       "      <td>0.431033</td>\n",
       "    </tr>\n",
       "    <tr>\n",
       "      <th>44</th>\n",
       "      <td>2.072574</td>\n",
       "      <td>-0.537785</td>\n",
       "      <td>-1.378430</td>\n",
       "      <td>-0.492404</td>\n",
       "      <td>2.327738</td>\n",
       "    </tr>\n",
       "    <tr>\n",
       "      <th>45</th>\n",
       "      <td>1.804404</td>\n",
       "      <td>-0.249421</td>\n",
       "      <td>-0.820864</td>\n",
       "      <td>-1.493340</td>\n",
       "      <td>0.524176</td>\n",
       "    </tr>\n",
       "    <tr>\n",
       "      <th>61</th>\n",
       "      <td>0.345113</td>\n",
       "      <td>0.724375</td>\n",
       "      <td>-2.040381</td>\n",
       "      <td>-1.079778</td>\n",
       "      <td>-0.693424</td>\n",
       "    </tr>\n",
       "    <tr>\n",
       "      <th>71</th>\n",
       "      <td>-2.338046</td>\n",
       "      <td>1.662262</td>\n",
       "      <td>-0.275353</td>\n",
       "      <td>-0.746570</td>\n",
       "      <td>1.225103</td>\n",
       "    </tr>\n",
       "    <tr>\n",
       "      <th>85</th>\n",
       "      <td>-0.110432</td>\n",
       "      <td>-1.273489</td>\n",
       "      <td>0.031786</td>\n",
       "      <td>0.462358</td>\n",
       "      <td>0.353548</td>\n",
       "    </tr>\n",
       "    <tr>\n",
       "      <th>97</th>\n",
       "      <td>-1.061979</td>\n",
       "      <td>-0.261355</td>\n",
       "      <td>-1.171399</td>\n",
       "      <td>-1.857087</td>\n",
       "      <td>-0.144816</td>\n",
       "    </tr>\n",
       "  </tbody>\n",
       "</table>\n",
       "</div>"
      ],
      "text/plain": [
       "           A         B         C         D         E\n",
       "9   0.593613 -0.542364 -1.719672 -0.578909  1.426949\n",
       "10  0.276997  0.789667  0.322074  0.700392  0.388717\n",
       "27 -0.041264  0.295884 -0.425280  1.727639 -0.868353\n",
       "39 -0.820978 -1.099742  0.086730  0.456287  0.431033\n",
       "44  2.072574 -0.537785 -1.378430 -0.492404  2.327738\n",
       "45  1.804404 -0.249421 -0.820864 -1.493340  0.524176\n",
       "61  0.345113  0.724375 -2.040381 -1.079778 -0.693424\n",
       "71 -2.338046  1.662262 -0.275353 -0.746570  1.225103\n",
       "85 -0.110432 -1.273489  0.031786  0.462358  0.353548\n",
       "97 -1.061979 -0.261355 -1.171399 -1.857087 -0.144816"
      ]
     },
     "execution_count": 88,
     "metadata": {},
     "output_type": "execute_result"
    }
   ],
   "source": [
    "df = pd.DataFrame(np.random.randn(10,5), index=np.sort(np.random.randint(0, 100, size=10)), columns=list('ABCDE'))\n",
    "df"
   ]
  },
  {
   "cell_type": "code",
   "execution_count": 89,
   "metadata": {},
   "outputs": [
    {
     "data": {
      "text/html": [
       "<div>\n",
       "<style scoped>\n",
       "    .dataframe tbody tr th:only-of-type {\n",
       "        vertical-align: middle;\n",
       "    }\n",
       "\n",
       "    .dataframe tbody tr th {\n",
       "        vertical-align: top;\n",
       "    }\n",
       "\n",
       "    .dataframe thead th {\n",
       "        text-align: right;\n",
       "    }\n",
       "</style>\n",
       "<table border=\"1\" class=\"dataframe\">\n",
       "  <thead>\n",
       "    <tr style=\"text-align: right;\">\n",
       "      <th></th>\n",
       "      <th>A</th>\n",
       "      <th>B</th>\n",
       "      <th>C</th>\n",
       "      <th>D</th>\n",
       "      <th>E</th>\n",
       "    </tr>\n",
       "  </thead>\n",
       "  <tbody>\n",
       "    <tr>\n",
       "      <th>61</th>\n",
       "      <td>0.345113</td>\n",
       "      <td>0.724375</td>\n",
       "      <td>-2.040381</td>\n",
       "      <td>-1.079778</td>\n",
       "      <td>-0.693424</td>\n",
       "    </tr>\n",
       "    <tr>\n",
       "      <th>85</th>\n",
       "      <td>-0.110432</td>\n",
       "      <td>-1.273489</td>\n",
       "      <td>0.031786</td>\n",
       "      <td>0.462358</td>\n",
       "      <td>0.353548</td>\n",
       "    </tr>\n",
       "    <tr>\n",
       "      <th>44</th>\n",
       "      <td>2.072574</td>\n",
       "      <td>-0.537785</td>\n",
       "      <td>-1.378430</td>\n",
       "      <td>-0.492404</td>\n",
       "      <td>2.327738</td>\n",
       "    </tr>\n",
       "    <tr>\n",
       "      <th>39</th>\n",
       "      <td>-0.820978</td>\n",
       "      <td>-1.099742</td>\n",
       "      <td>0.086730</td>\n",
       "      <td>0.456287</td>\n",
       "      <td>0.431033</td>\n",
       "    </tr>\n",
       "    <tr>\n",
       "      <th>71</th>\n",
       "      <td>-2.338046</td>\n",
       "      <td>1.662262</td>\n",
       "      <td>-0.275353</td>\n",
       "      <td>-0.746570</td>\n",
       "      <td>1.225103</td>\n",
       "    </tr>\n",
       "    <tr>\n",
       "      <th>45</th>\n",
       "      <td>1.804404</td>\n",
       "      <td>-0.249421</td>\n",
       "      <td>-0.820864</td>\n",
       "      <td>-1.493340</td>\n",
       "      <td>0.524176</td>\n",
       "    </tr>\n",
       "    <tr>\n",
       "      <th>10</th>\n",
       "      <td>0.276997</td>\n",
       "      <td>0.789667</td>\n",
       "      <td>0.322074</td>\n",
       "      <td>0.700392</td>\n",
       "      <td>0.388717</td>\n",
       "    </tr>\n",
       "    <tr>\n",
       "      <th>9</th>\n",
       "      <td>0.593613</td>\n",
       "      <td>-0.542364</td>\n",
       "      <td>-1.719672</td>\n",
       "      <td>-0.578909</td>\n",
       "      <td>1.426949</td>\n",
       "    </tr>\n",
       "    <tr>\n",
       "      <th>97</th>\n",
       "      <td>-1.061979</td>\n",
       "      <td>-0.261355</td>\n",
       "      <td>-1.171399</td>\n",
       "      <td>-1.857087</td>\n",
       "      <td>-0.144816</td>\n",
       "    </tr>\n",
       "    <tr>\n",
       "      <th>27</th>\n",
       "      <td>-0.041264</td>\n",
       "      <td>0.295884</td>\n",
       "      <td>-0.425280</td>\n",
       "      <td>1.727639</td>\n",
       "      <td>-0.868353</td>\n",
       "    </tr>\n",
       "  </tbody>\n",
       "</table>\n",
       "</div>"
      ],
      "text/plain": [
       "           A         B         C         D         E\n",
       "61  0.345113  0.724375 -2.040381 -1.079778 -0.693424\n",
       "85 -0.110432 -1.273489  0.031786  0.462358  0.353548\n",
       "44  2.072574 -0.537785 -1.378430 -0.492404  2.327738\n",
       "39 -0.820978 -1.099742  0.086730  0.456287  0.431033\n",
       "71 -2.338046  1.662262 -0.275353 -0.746570  1.225103\n",
       "45  1.804404 -0.249421 -0.820864 -1.493340  0.524176\n",
       "10  0.276997  0.789667  0.322074  0.700392  0.388717\n",
       "9   0.593613 -0.542364 -1.719672 -0.578909  1.426949\n",
       "97 -1.061979 -0.261355 -1.171399 -1.857087 -0.144816\n",
       "27 -0.041264  0.295884 -0.425280  1.727639 -0.868353"
      ]
     },
     "execution_count": 89,
     "metadata": {},
     "output_type": "execute_result"
    }
   ],
   "source": [
    "df.loc[np.random.permutation(df.index)]"
   ]
  },
  {
   "cell_type": "code",
   "execution_count": 90,
   "metadata": {},
   "outputs": [
    {
     "data": {
      "text/html": [
       "<div>\n",
       "<style scoped>\n",
       "    .dataframe tbody tr th:only-of-type {\n",
       "        vertical-align: middle;\n",
       "    }\n",
       "\n",
       "    .dataframe tbody tr th {\n",
       "        vertical-align: top;\n",
       "    }\n",
       "\n",
       "    .dataframe thead th {\n",
       "        text-align: right;\n",
       "    }\n",
       "</style>\n",
       "<table border=\"1\" class=\"dataframe\">\n",
       "  <thead>\n",
       "    <tr style=\"text-align: right;\">\n",
       "      <th></th>\n",
       "      <th>A</th>\n",
       "      <th>B</th>\n",
       "      <th>C</th>\n",
       "      <th>D</th>\n",
       "      <th>E</th>\n",
       "    </tr>\n",
       "  </thead>\n",
       "  <tbody>\n",
       "    <tr>\n",
       "      <th>27</th>\n",
       "      <td>-0.041264</td>\n",
       "      <td>0.295884</td>\n",
       "      <td>-0.425280</td>\n",
       "      <td>1.727639</td>\n",
       "      <td>-0.868353</td>\n",
       "    </tr>\n",
       "    <tr>\n",
       "      <th>45</th>\n",
       "      <td>1.804404</td>\n",
       "      <td>-0.249421</td>\n",
       "      <td>-0.820864</td>\n",
       "      <td>-1.493340</td>\n",
       "      <td>0.524176</td>\n",
       "    </tr>\n",
       "    <tr>\n",
       "      <th>45</th>\n",
       "      <td>1.804404</td>\n",
       "      <td>-0.249421</td>\n",
       "      <td>-0.820864</td>\n",
       "      <td>-1.493340</td>\n",
       "      <td>0.524176</td>\n",
       "    </tr>\n",
       "    <tr>\n",
       "      <th>9</th>\n",
       "      <td>0.593613</td>\n",
       "      <td>-0.542364</td>\n",
       "      <td>-1.719672</td>\n",
       "      <td>-0.578909</td>\n",
       "      <td>1.426949</td>\n",
       "    </tr>\n",
       "    <tr>\n",
       "      <th>85</th>\n",
       "      <td>-0.110432</td>\n",
       "      <td>-1.273489</td>\n",
       "      <td>0.031786</td>\n",
       "      <td>0.462358</td>\n",
       "      <td>0.353548</td>\n",
       "    </tr>\n",
       "  </tbody>\n",
       "</table>\n",
       "</div>"
      ],
      "text/plain": [
       "           A         B         C         D         E\n",
       "27 -0.041264  0.295884 -0.425280  1.727639 -0.868353\n",
       "45  1.804404 -0.249421 -0.820864 -1.493340  0.524176\n",
       "45  1.804404 -0.249421 -0.820864 -1.493340  0.524176\n",
       "9   0.593613 -0.542364 -1.719672 -0.578909  1.426949\n",
       "85 -0.110432 -1.273489  0.031786  0.462358  0.353548"
      ]
     },
     "execution_count": 90,
     "metadata": {},
     "output_type": "execute_result"
    }
   ],
   "source": [
    "df.iloc[np.random.randint(0, len(df), size=5)]"
   ]
  },
  {
   "cell_type": "markdown",
   "metadata": {},
   "source": [
    "# File operations with DataFrames"
   ]
  },
  {
   "cell_type": "markdown",
   "metadata": {},
   "source": [
    "## CSV files"
   ]
  },
  {
   "cell_type": "markdown",
   "metadata": {},
   "source": [
    "### Writing csv files"
   ]
  },
  {
   "cell_type": "code",
   "metadata": {
    "ExecuteTime": {
     "end_time": "2024-11-25T13:32:02.491126Z",
     "start_time": "2024-11-25T13:32:02.482629Z"
    }
   },
   "source": [
    "df.to_csv('df.csv', sep=',', header=True, index=True)"
   ],
   "outputs": [],
   "execution_count": 82
  },
  {
   "cell_type": "code",
   "metadata": {
    "ExecuteTime": {
     "end_time": "2024-11-25T13:32:05.211970Z",
     "start_time": "2024-11-25T13:32:05.208442Z"
    }
   },
   "source": [
    "%pycat df.csv"
   ],
   "outputs": [],
   "execution_count": 83
  },
  {
   "cell_type": "markdown",
   "metadata": {},
   "source": [
    "### Reading csv files"
   ]
  },
  {
   "cell_type": "code",
   "metadata": {
    "ExecuteTime": {
     "end_time": "2024-11-25T13:32:11.770710Z",
     "start_time": "2024-11-25T13:32:11.763464Z"
    }
   },
   "source": [
    "pd.read_csv('df.csv', sep=',', index_col=0, nrows=5)"
   ],
   "outputs": [
    {
     "data": {
      "text/plain": [
       "  alpha  numeric         A         B\n",
       "0     a        1 -1.170515  1.065789\n",
       "1     a        2 -0.699937  0.144079\n",
       "2     a        3  0.398542  0.026869\n",
       "3     b        1  1.055837 -0.073183\n",
       "4     b        2 -0.665721 -0.044112"
      ],
      "text/html": [
       "<div>\n",
       "<style scoped>\n",
       "    .dataframe tbody tr th:only-of-type {\n",
       "        vertical-align: middle;\n",
       "    }\n",
       "\n",
       "    .dataframe tbody tr th {\n",
       "        vertical-align: top;\n",
       "    }\n",
       "\n",
       "    .dataframe thead th {\n",
       "        text-align: right;\n",
       "    }\n",
       "</style>\n",
       "<table border=\"1\" class=\"dataframe\">\n",
       "  <thead>\n",
       "    <tr style=\"text-align: right;\">\n",
       "      <th></th>\n",
       "      <th>alpha</th>\n",
       "      <th>numeric</th>\n",
       "      <th>A</th>\n",
       "      <th>B</th>\n",
       "    </tr>\n",
       "  </thead>\n",
       "  <tbody>\n",
       "    <tr>\n",
       "      <th>0</th>\n",
       "      <td>a</td>\n",
       "      <td>1</td>\n",
       "      <td>-1.170515</td>\n",
       "      <td>1.065789</td>\n",
       "    </tr>\n",
       "    <tr>\n",
       "      <th>1</th>\n",
       "      <td>a</td>\n",
       "      <td>2</td>\n",
       "      <td>-0.699937</td>\n",
       "      <td>0.144079</td>\n",
       "    </tr>\n",
       "    <tr>\n",
       "      <th>2</th>\n",
       "      <td>a</td>\n",
       "      <td>3</td>\n",
       "      <td>0.398542</td>\n",
       "      <td>0.026869</td>\n",
       "    </tr>\n",
       "    <tr>\n",
       "      <th>3</th>\n",
       "      <td>b</td>\n",
       "      <td>1</td>\n",
       "      <td>1.055837</td>\n",
       "      <td>-0.073183</td>\n",
       "    </tr>\n",
       "    <tr>\n",
       "      <th>4</th>\n",
       "      <td>b</td>\n",
       "      <td>2</td>\n",
       "      <td>-0.665721</td>\n",
       "      <td>-0.044112</td>\n",
       "    </tr>\n",
       "  </tbody>\n",
       "</table>\n",
       "</div>"
      ]
     },
     "execution_count": 84,
     "metadata": {},
     "output_type": "execute_result"
    }
   ],
   "execution_count": 84
  },
  {
   "cell_type": "code",
   "metadata": {
    "ExecuteTime": {
     "end_time": "2024-11-25T13:32:15.461492Z",
     "start_time": "2024-11-25T13:32:15.458300Z"
    }
   },
   "source": [
    "pd.read_csv('df.csv', sep=',', index_col=0, chunksize=2)"
   ],
   "outputs": [
    {
     "data": {
      "text/plain": [
       "<pandas.io.parsers.readers.TextFileReader at 0x178fe3f50>"
      ]
     },
     "execution_count": 85,
     "metadata": {},
     "output_type": "execute_result"
    }
   ],
   "execution_count": 85
  },
  {
   "cell_type": "code",
   "metadata": {
    "ExecuteTime": {
     "end_time": "2024-11-25T13:32:17.626163Z",
     "start_time": "2024-11-25T13:32:17.617482Z"
    }
   },
   "source": [
    "list(pd.read_csv('df.csv', sep=',', index_col=0, chunksize=2))"
   ],
   "outputs": [
    {
     "data": {
      "text/plain": [
       "[  alpha  numeric         A         B\n",
       " 0     a        1 -1.170515  1.065789\n",
       " 1     a        2 -0.699937  0.144079,\n",
       "   alpha  numeric         A         B\n",
       " 2     a        3  0.398542  0.026869\n",
       " 3     b        1  1.055837 -0.073183,\n",
       "   alpha  numeric         A         B\n",
       " 4     b        2 -0.665721 -0.044112\n",
       " 5     b        3 -0.363267 -0.012345,\n",
       "   alpha  numeric         A         B\n",
       " 6     c        1  0.042121  1.959296\n",
       " 7     c        2 -0.198426  0.330534,\n",
       "   alpha  numeric         A         B\n",
       " 8     d        1 -1.435828  0.027528\n",
       " 9     d        2  1.120605 -0.224039]"
      ]
     },
     "execution_count": 86,
     "metadata": {},
     "output_type": "execute_result"
    }
   ],
   "execution_count": 86
  },
  {
   "cell_type": "markdown",
   "metadata": {},
   "source": [
    "## JSON Files"
   ]
  },
  {
   "cell_type": "code",
   "metadata": {
    "ExecuteTime": {
     "end_time": "2024-11-25T13:32:27.611994Z",
     "start_time": "2024-11-25T13:32:27.608930Z"
    }
   },
   "source": [
    "df.iloc[:4].to_json('df.json')"
   ],
   "outputs": [],
   "execution_count": 87
  },
  {
   "cell_type": "code",
   "metadata": {
    "ExecuteTime": {
     "end_time": "2024-11-25T13:32:32.498803Z",
     "start_time": "2024-11-25T13:32:32.495106Z"
    }
   },
   "source": [
    "%pycat df.json"
   ],
   "outputs": [],
   "execution_count": 88
  },
  {
   "cell_type": "code",
   "execution_count": 98,
   "metadata": {},
   "outputs": [
    {
     "data": {
      "text/html": [
       "<div>\n",
       "<style scoped>\n",
       "    .dataframe tbody tr th:only-of-type {\n",
       "        vertical-align: middle;\n",
       "    }\n",
       "\n",
       "    .dataframe tbody tr th {\n",
       "        vertical-align: top;\n",
       "    }\n",
       "\n",
       "    .dataframe thead th {\n",
       "        text-align: right;\n",
       "    }\n",
       "</style>\n",
       "<table border=\"1\" class=\"dataframe\">\n",
       "  <thead>\n",
       "    <tr style=\"text-align: right;\">\n",
       "      <th></th>\n",
       "      <th>A</th>\n",
       "      <th>B</th>\n",
       "      <th>C</th>\n",
       "      <th>D</th>\n",
       "      <th>E</th>\n",
       "    </tr>\n",
       "  </thead>\n",
       "  <tbody>\n",
       "    <tr>\n",
       "      <th>10</th>\n",
       "      <td>0.276997</td>\n",
       "      <td>0.789667</td>\n",
       "      <td>0.322074</td>\n",
       "      <td>0.700392</td>\n",
       "      <td>0.388717</td>\n",
       "    </tr>\n",
       "    <tr>\n",
       "      <th>27</th>\n",
       "      <td>-0.041264</td>\n",
       "      <td>0.295884</td>\n",
       "      <td>-0.425280</td>\n",
       "      <td>1.727639</td>\n",
       "      <td>-0.868353</td>\n",
       "    </tr>\n",
       "    <tr>\n",
       "      <th>39</th>\n",
       "      <td>-0.820978</td>\n",
       "      <td>-1.099742</td>\n",
       "      <td>0.086730</td>\n",
       "      <td>0.456287</td>\n",
       "      <td>0.431033</td>\n",
       "    </tr>\n",
       "    <tr>\n",
       "      <th>9</th>\n",
       "      <td>0.593613</td>\n",
       "      <td>-0.542364</td>\n",
       "      <td>-1.719672</td>\n",
       "      <td>-0.578909</td>\n",
       "      <td>1.426949</td>\n",
       "    </tr>\n",
       "  </tbody>\n",
       "</table>\n",
       "</div>"
      ],
      "text/plain": [
       "           A         B         C         D         E\n",
       "10  0.276997  0.789667  0.322074  0.700392  0.388717\n",
       "27 -0.041264  0.295884 -0.425280  1.727639 -0.868353\n",
       "39 -0.820978 -1.099742  0.086730  0.456287  0.431033\n",
       "9   0.593613 -0.542364 -1.719672 -0.578909  1.426949"
      ]
     },
     "execution_count": 98,
     "metadata": {},
     "output_type": "execute_result"
    }
   ],
   "source": [
    "pd.read_json('df.json')"
   ]
  },
  {
   "cell_type": "code",
   "execution_count": null,
   "metadata": {},
   "outputs": [],
   "source": []
  }
 ],
 "metadata": {
  "kernelspec": {
   "display_name": "Python 3",
   "language": "python",
   "name": "python3"
  },
  "language_info": {
   "codemirror_mode": {
    "name": "ipython",
    "version": 3
   },
   "file_extension": ".py",
   "mimetype": "text/x-python",
   "name": "python",
   "nbconvert_exporter": "python",
   "pygments_lexer": "ipython3",
   "version": "3.6.13"
  }
 },
 "nbformat": 4,
 "nbformat_minor": 4
}
